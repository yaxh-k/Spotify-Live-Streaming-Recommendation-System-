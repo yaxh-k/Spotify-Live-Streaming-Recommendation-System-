{
  "cells": [
    {
      "cell_type": "markdown",
      "metadata": {
        "id": "TS98ahI5Bi3k"
      },
      "source": [
        "# CS777 Final Project: Spotify Recommender System \n",
        "### Authors: Carolyn Wright, Heli Kolambekar, Rajat Sharma, Yash Kumar"
      ]
    },
    {
      "cell_type": "markdown",
      "source": [
        "**OBJECTIVE**\n",
        "\n",
        "\n",
        "1.   Use the Spotify for Developers API to analyze Spotify data related to artists, song tracks and track characteristics.\n",
        "2.   Stream real time song data using the Currently Playing Track API to get song track characteristics features.\n",
        "3. Conduct exploratory data analysis of the dataset\n",
        "4. Apply unsupervised machine learning algorithm to group the songs together then use supervised learning model to classify songs on the basis of track features\n",
        "5. Developing a recommendation system to recommend songs on the basis of a user's song based on its label, popularity and year \n",
        "\n"
      ],
      "metadata": {
        "id": "qOOQg7_Zt3nb"
      }
    },
    {
      "cell_type": "markdown",
      "source": [
        "### QUERYING DATA FROM SPOTIFY API (HELI KOLAMBEKAR)"
      ],
      "metadata": {
        "id": "0vJ7llA05p0k"
      }
    },
    {
      "cell_type": "markdown",
      "source": [
        "\n",
        "INITIALIZING THE SPOTIPY OBJECTS WITH SPOTIFY DEVELOPER CREDENTIALS \n"
      ],
      "metadata": {
        "id": "wEVwetPiacq4"
      }
    },
    {
      "cell_type": "code",
      "source": [
        "pip install spotipy\n"
      ],
      "metadata": {
        "colab": {
          "base_uri": "https://localhost:8080/"
        },
        "id": "F4XIwEw8a_mN",
        "outputId": "9166e3be-197f-4616-ea8d-51148da32e17"
      },
      "execution_count": null,
      "outputs": [
        {
          "output_type": "stream",
          "name": "stdout",
          "text": [
            "Collecting spotipy\n",
            "  Downloading spotipy-2.19.0-py3-none-any.whl (27 kB)\n",
            "Requirement already satisfied: six>=1.15.0 in /usr/local/lib/python3.7/dist-packages (from spotipy) (1.15.0)\n",
            "Collecting urllib3>=1.26.0\n",
            "  Downloading urllib3-1.26.9-py2.py3-none-any.whl (138 kB)\n",
            "\u001b[K     |████████████████████████████████| 138 kB 21.3 MB/s \n",
            "\u001b[?25hCollecting requests>=2.25.0\n",
            "  Downloading requests-2.27.1-py2.py3-none-any.whl (63 kB)\n",
            "\u001b[K     |████████████████████████████████| 63 kB 543 kB/s \n",
            "\u001b[?25hRequirement already satisfied: charset-normalizer~=2.0.0 in /usr/local/lib/python3.7/dist-packages (from requests>=2.25.0->spotipy) (2.0.12)\n",
            "Requirement already satisfied: idna<4,>=2.5 in /usr/local/lib/python3.7/dist-packages (from requests>=2.25.0->spotipy) (2.10)\n",
            "Requirement already satisfied: certifi>=2017.4.17 in /usr/local/lib/python3.7/dist-packages (from requests>=2.25.0->spotipy) (2021.10.8)\n",
            "Installing collected packages: urllib3, requests, spotipy\n",
            "  Attempting uninstall: urllib3\n",
            "    Found existing installation: urllib3 1.24.3\n",
            "    Uninstalling urllib3-1.24.3:\n",
            "      Successfully uninstalled urllib3-1.24.3\n",
            "  Attempting uninstall: requests\n",
            "    Found existing installation: requests 2.23.0\n",
            "    Uninstalling requests-2.23.0:\n",
            "      Successfully uninstalled requests-2.23.0\n",
            "\u001b[31mERROR: pip's dependency resolver does not currently take into account all the packages that are installed. This behaviour is the source of the following dependency conflicts.\n",
            "google-colab 1.0.0 requires requests~=2.23.0, but you have requests 2.27.1 which is incompatible.\n",
            "datascience 0.10.6 requires folium==0.2.1, but you have folium 0.8.3 which is incompatible.\u001b[0m\n",
            "Successfully installed requests-2.27.1 spotipy-2.19.0 urllib3-1.26.9\n"
          ]
        }
      ]
    },
    {
      "cell_type": "code",
      "source": [
        "import spotipy\n",
        "from spotipy.oauth2 import SpotifyClientCredentials\n",
        "import pandas as pd\n",
        "import matplotlib.pyplot as plt\n",
        "\n",
        "client_id = '50ec2cd2c02f4658887f59ede7f24dab'\n",
        "client_secret = 'db7f5dcbd90a4dba8c64ce5d9b647f75'\n",
        "\n",
        "client_credentials_manager = SpotifyClientCredentials(client_id, client_secret)\n",
        "sp = spotipy.Spotify(client_credentials_manager=client_credentials_manager)"
      ],
      "metadata": {
        "id": "BMUejHvtbIu8"
      },
      "execution_count": null,
      "outputs": []
    },
    {
      "cell_type": "markdown",
      "source": [
        "FETCHING THE ARTIST NAME, TRACK NAME, TRACK ID, ARTIST ID FROM API"
      ],
      "metadata": {
        "id": "OMKdXGKycMZ3"
      }
    },
    {
      "cell_type": "code",
      "source": [
        "name_of_artist = []\n",
        "name_of_track = []\n",
        "popularity_of_track = []\n",
        "artistID= []\n",
        "trackID= []\n",
        "for i in range(0,1000,50):\n",
        "    track_results = sp.search(q='year:2021', type='track', limit=50,offset=i)\n",
        "    for i, t in enumerate(track_results['tracks']['items']):\n",
        "        name_of_artist.append(t['artists'][0]['name'])\n",
        "        artistID.append(t['artists'][0]['id'])\n",
        "        name_of_track.append(t['name'])\n",
        "        trackID.append(t['id'])\n",
        "        popularity_of_track.append(t['popularity'])"
      ],
      "metadata": {
        "id": "1mkPSj0scNet"
      },
      "execution_count": null,
      "outputs": []
    },
    {
      "cell_type": "markdown",
      "source": [
        "CRATING A DATAFRAME USING THE QUERIED DATA"
      ],
      "metadata": {
        "id": "bGThtHY3cXq1"
      }
    },
    {
      "cell_type": "code",
      "source": [
        "\n",
        "data_track = pd.DataFrame({'name_of_artist' : name_of_artist, 'name_of_track' : name_of_track, 'trackID' : trackID, 'popularity_of_track' : popularity_of_track, 'artistID' : artistID})\n",
        "data_track.head()"
      ],
      "metadata": {
        "colab": {
          "base_uri": "https://localhost:8080/",
          "height": 206
        },
        "id": "C_iNyXK1cYrB",
        "outputId": "fad8ffe2-5306-4c68-a81c-b51a48401300"
      },
      "execution_count": null,
      "outputs": [
        {
          "output_type": "execute_result",
          "data": {
            "text/plain": [
              "                     name_of_artist               name_of_track  \\\n",
              "0                    Olivia Rodrigo                    good 4 u   \n",
              "1                             LYMEY            END OF YEAR 2021   \n",
              "2                          Coldplay                 My Universe   \n",
              "3  Elvis Costello & The Attractions  Pump It Up - 2021 Remaster   \n",
              "4        Carolina Gaitán - La Gaita   We Don't Talk About Bruno   \n",
              "\n",
              "                  trackID  popularity_of_track                artistID  \n",
              "0  4ZtFanR9U6ndgddUvNcjcG                   90  1McMsnEElThX1knmY4oliG  \n",
              "1  6usFCFN0F69JcAaHtB55sg                   27  6dPOSlnP4zgYg7bkAkp4dY  \n",
              "2  3FeVmId7tL5YN8B7R3imoM                   86  4gzpq5DPGxSnKTe4SA8HAU  \n",
              "3  3oyc1mIdCBGaU55wX7otqM                   60  4qmHkMxr6pTWh5Zo74odpH  \n",
              "4  52xJxFP6TqMuO4Yt0eOkMz                   87  29PgYEggDV3cDP9QYTogwv  "
            ],
            "text/html": [
              "\n",
              "  <div id=\"df-1dba46fd-7e06-4a29-a98b-ab30ff736509\">\n",
              "    <div class=\"colab-df-container\">\n",
              "      <div>\n",
              "<style scoped>\n",
              "    .dataframe tbody tr th:only-of-type {\n",
              "        vertical-align: middle;\n",
              "    }\n",
              "\n",
              "    .dataframe tbody tr th {\n",
              "        vertical-align: top;\n",
              "    }\n",
              "\n",
              "    .dataframe thead th {\n",
              "        text-align: right;\n",
              "    }\n",
              "</style>\n",
              "<table border=\"1\" class=\"dataframe\">\n",
              "  <thead>\n",
              "    <tr style=\"text-align: right;\">\n",
              "      <th></th>\n",
              "      <th>name_of_artist</th>\n",
              "      <th>name_of_track</th>\n",
              "      <th>trackID</th>\n",
              "      <th>popularity_of_track</th>\n",
              "      <th>artistID</th>\n",
              "    </tr>\n",
              "  </thead>\n",
              "  <tbody>\n",
              "    <tr>\n",
              "      <th>0</th>\n",
              "      <td>Olivia Rodrigo</td>\n",
              "      <td>good 4 u</td>\n",
              "      <td>4ZtFanR9U6ndgddUvNcjcG</td>\n",
              "      <td>90</td>\n",
              "      <td>1McMsnEElThX1knmY4oliG</td>\n",
              "    </tr>\n",
              "    <tr>\n",
              "      <th>1</th>\n",
              "      <td>LYMEY</td>\n",
              "      <td>END OF YEAR 2021</td>\n",
              "      <td>6usFCFN0F69JcAaHtB55sg</td>\n",
              "      <td>27</td>\n",
              "      <td>6dPOSlnP4zgYg7bkAkp4dY</td>\n",
              "    </tr>\n",
              "    <tr>\n",
              "      <th>2</th>\n",
              "      <td>Coldplay</td>\n",
              "      <td>My Universe</td>\n",
              "      <td>3FeVmId7tL5YN8B7R3imoM</td>\n",
              "      <td>86</td>\n",
              "      <td>4gzpq5DPGxSnKTe4SA8HAU</td>\n",
              "    </tr>\n",
              "    <tr>\n",
              "      <th>3</th>\n",
              "      <td>Elvis Costello &amp; The Attractions</td>\n",
              "      <td>Pump It Up - 2021 Remaster</td>\n",
              "      <td>3oyc1mIdCBGaU55wX7otqM</td>\n",
              "      <td>60</td>\n",
              "      <td>4qmHkMxr6pTWh5Zo74odpH</td>\n",
              "    </tr>\n",
              "    <tr>\n",
              "      <th>4</th>\n",
              "      <td>Carolina Gaitán - La Gaita</td>\n",
              "      <td>We Don't Talk About Bruno</td>\n",
              "      <td>52xJxFP6TqMuO4Yt0eOkMz</td>\n",
              "      <td>87</td>\n",
              "      <td>29PgYEggDV3cDP9QYTogwv</td>\n",
              "    </tr>\n",
              "  </tbody>\n",
              "</table>\n",
              "</div>\n",
              "      <button class=\"colab-df-convert\" onclick=\"convertToInteractive('df-1dba46fd-7e06-4a29-a98b-ab30ff736509')\"\n",
              "              title=\"Convert this dataframe to an interactive table.\"\n",
              "              style=\"display:none;\">\n",
              "        \n",
              "  <svg xmlns=\"http://www.w3.org/2000/svg\" height=\"24px\"viewBox=\"0 0 24 24\"\n",
              "       width=\"24px\">\n",
              "    <path d=\"M0 0h24v24H0V0z\" fill=\"none\"/>\n",
              "    <path d=\"M18.56 5.44l.94 2.06.94-2.06 2.06-.94-2.06-.94-.94-2.06-.94 2.06-2.06.94zm-11 1L8.5 8.5l.94-2.06 2.06-.94-2.06-.94L8.5 2.5l-.94 2.06-2.06.94zm10 10l.94 2.06.94-2.06 2.06-.94-2.06-.94-.94-2.06-.94 2.06-2.06.94z\"/><path d=\"M17.41 7.96l-1.37-1.37c-.4-.4-.92-.59-1.43-.59-.52 0-1.04.2-1.43.59L10.3 9.45l-7.72 7.72c-.78.78-.78 2.05 0 2.83L4 21.41c.39.39.9.59 1.41.59.51 0 1.02-.2 1.41-.59l7.78-7.78 2.81-2.81c.8-.78.8-2.07 0-2.86zM5.41 20L4 18.59l7.72-7.72 1.47 1.35L5.41 20z\"/>\n",
              "  </svg>\n",
              "      </button>\n",
              "      \n",
              "  <style>\n",
              "    .colab-df-container {\n",
              "      display:flex;\n",
              "      flex-wrap:wrap;\n",
              "      gap: 12px;\n",
              "    }\n",
              "\n",
              "    .colab-df-convert {\n",
              "      background-color: #E8F0FE;\n",
              "      border: none;\n",
              "      border-radius: 50%;\n",
              "      cursor: pointer;\n",
              "      display: none;\n",
              "      fill: #1967D2;\n",
              "      height: 32px;\n",
              "      padding: 0 0 0 0;\n",
              "      width: 32px;\n",
              "    }\n",
              "\n",
              "    .colab-df-convert:hover {\n",
              "      background-color: #E2EBFA;\n",
              "      box-shadow: 0px 1px 2px rgba(60, 64, 67, 0.3), 0px 1px 3px 1px rgba(60, 64, 67, 0.15);\n",
              "      fill: #174EA6;\n",
              "    }\n",
              "\n",
              "    [theme=dark] .colab-df-convert {\n",
              "      background-color: #3B4455;\n",
              "      fill: #D2E3FC;\n",
              "    }\n",
              "\n",
              "    [theme=dark] .colab-df-convert:hover {\n",
              "      background-color: #434B5C;\n",
              "      box-shadow: 0px 1px 3px 1px rgba(0, 0, 0, 0.15);\n",
              "      filter: drop-shadow(0px 1px 2px rgba(0, 0, 0, 0.3));\n",
              "      fill: #FFFFFF;\n",
              "    }\n",
              "  </style>\n",
              "\n",
              "      <script>\n",
              "        const buttonEl =\n",
              "          document.querySelector('#df-1dba46fd-7e06-4a29-a98b-ab30ff736509 button.colab-df-convert');\n",
              "        buttonEl.style.display =\n",
              "          google.colab.kernel.accessAllowed ? 'block' : 'none';\n",
              "\n",
              "        async function convertToInteractive(key) {\n",
              "          const element = document.querySelector('#df-1dba46fd-7e06-4a29-a98b-ab30ff736509');\n",
              "          const dataTable =\n",
              "            await google.colab.kernel.invokeFunction('convertToInteractive',\n",
              "                                                     [key], {});\n",
              "          if (!dataTable) return;\n",
              "\n",
              "          const docLinkHtml = 'Like what you see? Visit the ' +\n",
              "            '<a target=\"_blank\" href=https://colab.research.google.com/notebooks/data_table.ipynb>data table notebook</a>'\n",
              "            + ' to learn more about interactive tables.';\n",
              "          element.innerHTML = '';\n",
              "          dataTable['output_type'] = 'display_data';\n",
              "          await google.colab.output.renderOutput(dataTable, element);\n",
              "          const docLink = document.createElement('div');\n",
              "          docLink.innerHTML = docLinkHtml;\n",
              "          element.appendChild(docLink);\n",
              "        }\n",
              "      </script>\n",
              "    </div>\n",
              "  </div>\n",
              "  "
            ]
          },
          "metadata": {},
          "execution_count": 4
        }
      ]
    },
    {
      "cell_type": "markdown",
      "source": [
        "ARTIST DATA - NAME OF ARTIST, ARTIST ID, GENRE OF ARTIST, ARTIST FOLLOWERS"
      ],
      "metadata": {
        "id": "LE5Ci7z9cgAI"
      }
    },
    {
      "cell_type": "code",
      "source": [
        "popularity_of_artist = []\n",
        "genre_of_artist = []\n",
        "artist_followers = []\n",
        "for a_id in data_track.artistID:\n",
        "  artist = sp.artist(a_id)\n",
        "  popularity_of_artist.append(artist['popularity'])\n",
        "  genre_of_artist.append(artist['genres'])\n",
        "  artist_followers.append(artist['followers']['total'])"
      ],
      "metadata": {
        "id": "eRqpSy6wcgrx"
      },
      "execution_count": null,
      "outputs": []
    },
    {
      "cell_type": "code",
      "source": [
        "data_track = data_track.assign(popularity_of_artist=popularity_of_artist, genre_of_artists=genre_of_artist, artist_followers=artist_followers)\n",
        "data_track.head()"
      ],
      "metadata": {
        "colab": {
          "base_uri": "https://localhost:8080/",
          "height": 285
        },
        "id": "LzzPI9F0dIWT",
        "outputId": "84c6dadb-b060-44e0-a280-bc54f73fe256"
      },
      "execution_count": null,
      "outputs": [
        {
          "output_type": "execute_result",
          "data": {
            "text/plain": [
              "                     name_of_artist               name_of_track  \\\n",
              "0                    Olivia Rodrigo                    good 4 u   \n",
              "1                             LYMEY            END OF YEAR 2021   \n",
              "2                          Coldplay                 My Universe   \n",
              "3  Elvis Costello & The Attractions  Pump It Up - 2021 Remaster   \n",
              "4        Carolina Gaitán - La Gaita   We Don't Talk About Bruno   \n",
              "\n",
              "                  trackID  popularity_of_track                artistID  \\\n",
              "0  4ZtFanR9U6ndgddUvNcjcG                   90  1McMsnEElThX1knmY4oliG   \n",
              "1  6usFCFN0F69JcAaHtB55sg                   27  6dPOSlnP4zgYg7bkAkp4dY   \n",
              "2  3FeVmId7tL5YN8B7R3imoM                   86  4gzpq5DPGxSnKTe4SA8HAU   \n",
              "3  3oyc1mIdCBGaU55wX7otqM                   60  4qmHkMxr6pTWh5Zo74odpH   \n",
              "4  52xJxFP6TqMuO4Yt0eOkMz                   87  29PgYEggDV3cDP9QYTogwv   \n",
              "\n",
              "   popularity_of_artist                                   genre_of_artists  \\\n",
              "0                    91                                              [pop]   \n",
              "1                    19                                                 []   \n",
              "2                    92                              [permanent wave, pop]   \n",
              "3                    59  [art rock, folk rock, mellow gold, new wave po...   \n",
              "4                    76                                                 []   \n",
              "\n",
              "   artist_followers  \n",
              "0          16248303  \n",
              "1               422  \n",
              "2          35478011  \n",
              "3            227404  \n",
              "4             27827  "
            ],
            "text/html": [
              "\n",
              "  <div id=\"df-45da3a6f-1a07-42e0-88e7-ada656f42551\">\n",
              "    <div class=\"colab-df-container\">\n",
              "      <div>\n",
              "<style scoped>\n",
              "    .dataframe tbody tr th:only-of-type {\n",
              "        vertical-align: middle;\n",
              "    }\n",
              "\n",
              "    .dataframe tbody tr th {\n",
              "        vertical-align: top;\n",
              "    }\n",
              "\n",
              "    .dataframe thead th {\n",
              "        text-align: right;\n",
              "    }\n",
              "</style>\n",
              "<table border=\"1\" class=\"dataframe\">\n",
              "  <thead>\n",
              "    <tr style=\"text-align: right;\">\n",
              "      <th></th>\n",
              "      <th>name_of_artist</th>\n",
              "      <th>name_of_track</th>\n",
              "      <th>trackID</th>\n",
              "      <th>popularity_of_track</th>\n",
              "      <th>artistID</th>\n",
              "      <th>popularity_of_artist</th>\n",
              "      <th>genre_of_artists</th>\n",
              "      <th>artist_followers</th>\n",
              "    </tr>\n",
              "  </thead>\n",
              "  <tbody>\n",
              "    <tr>\n",
              "      <th>0</th>\n",
              "      <td>Olivia Rodrigo</td>\n",
              "      <td>good 4 u</td>\n",
              "      <td>4ZtFanR9U6ndgddUvNcjcG</td>\n",
              "      <td>90</td>\n",
              "      <td>1McMsnEElThX1knmY4oliG</td>\n",
              "      <td>91</td>\n",
              "      <td>[pop]</td>\n",
              "      <td>16248303</td>\n",
              "    </tr>\n",
              "    <tr>\n",
              "      <th>1</th>\n",
              "      <td>LYMEY</td>\n",
              "      <td>END OF YEAR 2021</td>\n",
              "      <td>6usFCFN0F69JcAaHtB55sg</td>\n",
              "      <td>27</td>\n",
              "      <td>6dPOSlnP4zgYg7bkAkp4dY</td>\n",
              "      <td>19</td>\n",
              "      <td>[]</td>\n",
              "      <td>422</td>\n",
              "    </tr>\n",
              "    <tr>\n",
              "      <th>2</th>\n",
              "      <td>Coldplay</td>\n",
              "      <td>My Universe</td>\n",
              "      <td>3FeVmId7tL5YN8B7R3imoM</td>\n",
              "      <td>86</td>\n",
              "      <td>4gzpq5DPGxSnKTe4SA8HAU</td>\n",
              "      <td>92</td>\n",
              "      <td>[permanent wave, pop]</td>\n",
              "      <td>35478011</td>\n",
              "    </tr>\n",
              "    <tr>\n",
              "      <th>3</th>\n",
              "      <td>Elvis Costello &amp; The Attractions</td>\n",
              "      <td>Pump It Up - 2021 Remaster</td>\n",
              "      <td>3oyc1mIdCBGaU55wX7otqM</td>\n",
              "      <td>60</td>\n",
              "      <td>4qmHkMxr6pTWh5Zo74odpH</td>\n",
              "      <td>59</td>\n",
              "      <td>[art rock, folk rock, mellow gold, new wave po...</td>\n",
              "      <td>227404</td>\n",
              "    </tr>\n",
              "    <tr>\n",
              "      <th>4</th>\n",
              "      <td>Carolina Gaitán - La Gaita</td>\n",
              "      <td>We Don't Talk About Bruno</td>\n",
              "      <td>52xJxFP6TqMuO4Yt0eOkMz</td>\n",
              "      <td>87</td>\n",
              "      <td>29PgYEggDV3cDP9QYTogwv</td>\n",
              "      <td>76</td>\n",
              "      <td>[]</td>\n",
              "      <td>27827</td>\n",
              "    </tr>\n",
              "  </tbody>\n",
              "</table>\n",
              "</div>\n",
              "      <button class=\"colab-df-convert\" onclick=\"convertToInteractive('df-45da3a6f-1a07-42e0-88e7-ada656f42551')\"\n",
              "              title=\"Convert this dataframe to an interactive table.\"\n",
              "              style=\"display:none;\">\n",
              "        \n",
              "  <svg xmlns=\"http://www.w3.org/2000/svg\" height=\"24px\"viewBox=\"0 0 24 24\"\n",
              "       width=\"24px\">\n",
              "    <path d=\"M0 0h24v24H0V0z\" fill=\"none\"/>\n",
              "    <path d=\"M18.56 5.44l.94 2.06.94-2.06 2.06-.94-2.06-.94-.94-2.06-.94 2.06-2.06.94zm-11 1L8.5 8.5l.94-2.06 2.06-.94-2.06-.94L8.5 2.5l-.94 2.06-2.06.94zm10 10l.94 2.06.94-2.06 2.06-.94-2.06-.94-.94-2.06-.94 2.06-2.06.94z\"/><path d=\"M17.41 7.96l-1.37-1.37c-.4-.4-.92-.59-1.43-.59-.52 0-1.04.2-1.43.59L10.3 9.45l-7.72 7.72c-.78.78-.78 2.05 0 2.83L4 21.41c.39.39.9.59 1.41.59.51 0 1.02-.2 1.41-.59l7.78-7.78 2.81-2.81c.8-.78.8-2.07 0-2.86zM5.41 20L4 18.59l7.72-7.72 1.47 1.35L5.41 20z\"/>\n",
              "  </svg>\n",
              "      </button>\n",
              "      \n",
              "  <style>\n",
              "    .colab-df-container {\n",
              "      display:flex;\n",
              "      flex-wrap:wrap;\n",
              "      gap: 12px;\n",
              "    }\n",
              "\n",
              "    .colab-df-convert {\n",
              "      background-color: #E8F0FE;\n",
              "      border: none;\n",
              "      border-radius: 50%;\n",
              "      cursor: pointer;\n",
              "      display: none;\n",
              "      fill: #1967D2;\n",
              "      height: 32px;\n",
              "      padding: 0 0 0 0;\n",
              "      width: 32px;\n",
              "    }\n",
              "\n",
              "    .colab-df-convert:hover {\n",
              "      background-color: #E2EBFA;\n",
              "      box-shadow: 0px 1px 2px rgba(60, 64, 67, 0.3), 0px 1px 3px 1px rgba(60, 64, 67, 0.15);\n",
              "      fill: #174EA6;\n",
              "    }\n",
              "\n",
              "    [theme=dark] .colab-df-convert {\n",
              "      background-color: #3B4455;\n",
              "      fill: #D2E3FC;\n",
              "    }\n",
              "\n",
              "    [theme=dark] .colab-df-convert:hover {\n",
              "      background-color: #434B5C;\n",
              "      box-shadow: 0px 1px 3px 1px rgba(0, 0, 0, 0.15);\n",
              "      filter: drop-shadow(0px 1px 2px rgba(0, 0, 0, 0.3));\n",
              "      fill: #FFFFFF;\n",
              "    }\n",
              "  </style>\n",
              "\n",
              "      <script>\n",
              "        const buttonEl =\n",
              "          document.querySelector('#df-45da3a6f-1a07-42e0-88e7-ada656f42551 button.colab-df-convert');\n",
              "        buttonEl.style.display =\n",
              "          google.colab.kernel.accessAllowed ? 'block' : 'none';\n",
              "\n",
              "        async function convertToInteractive(key) {\n",
              "          const element = document.querySelector('#df-45da3a6f-1a07-42e0-88e7-ada656f42551');\n",
              "          const dataTable =\n",
              "            await google.colab.kernel.invokeFunction('convertToInteractive',\n",
              "                                                     [key], {});\n",
              "          if (!dataTable) return;\n",
              "\n",
              "          const docLinkHtml = 'Like what you see? Visit the ' +\n",
              "            '<a target=\"_blank\" href=https://colab.research.google.com/notebooks/data_table.ipynb>data table notebook</a>'\n",
              "            + ' to learn more about interactive tables.';\n",
              "          element.innerHTML = '';\n",
              "          dataTable['output_type'] = 'display_data';\n",
              "          await google.colab.output.renderOutput(dataTable, element);\n",
              "          const docLink = document.createElement('div');\n",
              "          docLink.innerHTML = docLinkHtml;\n",
              "          element.appendChild(docLink);\n",
              "        }\n",
              "      </script>\n",
              "    </div>\n",
              "  </div>\n",
              "  "
            ]
          },
          "metadata": {},
          "execution_count": 6
        }
      ]
    },
    {
      "cell_type": "markdown",
      "source": [
        "FETCHING THE NUMERICAL FEATURES OF THE TRACK"
      ],
      "metadata": {
        "id": "EVryE4uudMLb"
      }
    },
    {
      "cell_type": "code",
      "source": [
        "track_features = []\n",
        "for t_id in data_track['trackID']:\n",
        "  af = sp.audio_features(t_id)\n",
        "  track_features.append(af)\n",
        "data_track_feature = pd.DataFrame(columns = ['danceability', 'energy', 'key', 'loudness', 'mode', 'speechiness', 'acousticness', 'instrumentalness', 'liveness', 'valence', 'tempo', 'type', 'id', 'uri', 'track_href', 'analysis_url', 'duration_ms', 'time_signature'])\n",
        "for item in track_features:\n",
        "  for feat in item:\n",
        "    data_track_feature = data_track_feature.append(feat, ignore_index=True)\n",
        "data_track_feature.head()"
      ],
      "metadata": {
        "colab": {
          "base_uri": "https://localhost:8080/",
          "height": 357
        },
        "id": "hc3l2lVmdM9A",
        "outputId": "2c014dee-b4ea-41c4-e1f3-9a958fb6f0fa"
      },
      "execution_count": null,
      "outputs": [
        {
          "output_type": "execute_result",
          "data": {
            "text/plain": [
              "   danceability  energy key  loudness mode  speechiness  acousticness  \\\n",
              "0         0.563   0.664   9    -5.044    1       0.1540       0.33500   \n",
              "1         0.429   0.829   6    -5.071    0       0.0604       0.02380   \n",
              "2         0.588   0.701   9    -6.390    1       0.0402       0.00813   \n",
              "3         0.645   0.809  11    -6.120    1       0.0385       0.00921   \n",
              "4         0.577   0.450   0    -8.516    0       0.0834       0.35700   \n",
              "\n",
              "  instrumentalness  liveness  valence    tempo            type  \\\n",
              "0                0    0.0849    0.688  166.928  audio_features   \n",
              "1         0.000174    0.6730    0.278  127.083  audio_features   \n",
              "2                0    0.2000    0.443  104.988  audio_features   \n",
              "3          0.00108    0.1060    0.966  138.978  audio_features   \n",
              "4                0    0.1110    0.830  205.863  audio_features   \n",
              "\n",
              "                       id                                   uri  \\\n",
              "0  4ZtFanR9U6ndgddUvNcjcG  spotify:track:4ZtFanR9U6ndgddUvNcjcG   \n",
              "1  6usFCFN0F69JcAaHtB55sg  spotify:track:6usFCFN0F69JcAaHtB55sg   \n",
              "2  3FeVmId7tL5YN8B7R3imoM  spotify:track:3FeVmId7tL5YN8B7R3imoM   \n",
              "3  3oyc1mIdCBGaU55wX7otqM  spotify:track:3oyc1mIdCBGaU55wX7otqM   \n",
              "4  52xJxFP6TqMuO4Yt0eOkMz  spotify:track:52xJxFP6TqMuO4Yt0eOkMz   \n",
              "\n",
              "                                          track_href  \\\n",
              "0  https://api.spotify.com/v1/tracks/4ZtFanR9U6nd...   \n",
              "1  https://api.spotify.com/v1/tracks/6usFCFN0F69J...   \n",
              "2  https://api.spotify.com/v1/tracks/3FeVmId7tL5Y...   \n",
              "3  https://api.spotify.com/v1/tracks/3oyc1mIdCBGa...   \n",
              "4  https://api.spotify.com/v1/tracks/52xJxFP6TqMu...   \n",
              "\n",
              "                                        analysis_url duration_ms  \\\n",
              "0  https://api.spotify.com/v1/audio-analysis/4ZtF...      178147   \n",
              "1  https://api.spotify.com/v1/audio-analysis/6usF...     1472769   \n",
              "2  https://api.spotify.com/v1/audio-analysis/3FeV...      228000   \n",
              "3  https://api.spotify.com/v1/audio-analysis/3oyc...      196680   \n",
              "4  https://api.spotify.com/v1/audio-analysis/52xJ...      216120   \n",
              "\n",
              "  time_signature  \n",
              "0              4  \n",
              "1              4  \n",
              "2              4  \n",
              "3              4  \n",
              "4              4  "
            ],
            "text/html": [
              "\n",
              "  <div id=\"df-01245acb-b9ae-4f40-9c78-2b04a17887b8\">\n",
              "    <div class=\"colab-df-container\">\n",
              "      <div>\n",
              "<style scoped>\n",
              "    .dataframe tbody tr th:only-of-type {\n",
              "        vertical-align: middle;\n",
              "    }\n",
              "\n",
              "    .dataframe tbody tr th {\n",
              "        vertical-align: top;\n",
              "    }\n",
              "\n",
              "    .dataframe thead th {\n",
              "        text-align: right;\n",
              "    }\n",
              "</style>\n",
              "<table border=\"1\" class=\"dataframe\">\n",
              "  <thead>\n",
              "    <tr style=\"text-align: right;\">\n",
              "      <th></th>\n",
              "      <th>danceability</th>\n",
              "      <th>energy</th>\n",
              "      <th>key</th>\n",
              "      <th>loudness</th>\n",
              "      <th>mode</th>\n",
              "      <th>speechiness</th>\n",
              "      <th>acousticness</th>\n",
              "      <th>instrumentalness</th>\n",
              "      <th>liveness</th>\n",
              "      <th>valence</th>\n",
              "      <th>tempo</th>\n",
              "      <th>type</th>\n",
              "      <th>id</th>\n",
              "      <th>uri</th>\n",
              "      <th>track_href</th>\n",
              "      <th>analysis_url</th>\n",
              "      <th>duration_ms</th>\n",
              "      <th>time_signature</th>\n",
              "    </tr>\n",
              "  </thead>\n",
              "  <tbody>\n",
              "    <tr>\n",
              "      <th>0</th>\n",
              "      <td>0.563</td>\n",
              "      <td>0.664</td>\n",
              "      <td>9</td>\n",
              "      <td>-5.044</td>\n",
              "      <td>1</td>\n",
              "      <td>0.1540</td>\n",
              "      <td>0.33500</td>\n",
              "      <td>0</td>\n",
              "      <td>0.0849</td>\n",
              "      <td>0.688</td>\n",
              "      <td>166.928</td>\n",
              "      <td>audio_features</td>\n",
              "      <td>4ZtFanR9U6ndgddUvNcjcG</td>\n",
              "      <td>spotify:track:4ZtFanR9U6ndgddUvNcjcG</td>\n",
              "      <td>https://api.spotify.com/v1/tracks/4ZtFanR9U6nd...</td>\n",
              "      <td>https://api.spotify.com/v1/audio-analysis/4ZtF...</td>\n",
              "      <td>178147</td>\n",
              "      <td>4</td>\n",
              "    </tr>\n",
              "    <tr>\n",
              "      <th>1</th>\n",
              "      <td>0.429</td>\n",
              "      <td>0.829</td>\n",
              "      <td>6</td>\n",
              "      <td>-5.071</td>\n",
              "      <td>0</td>\n",
              "      <td>0.0604</td>\n",
              "      <td>0.02380</td>\n",
              "      <td>0.000174</td>\n",
              "      <td>0.6730</td>\n",
              "      <td>0.278</td>\n",
              "      <td>127.083</td>\n",
              "      <td>audio_features</td>\n",
              "      <td>6usFCFN0F69JcAaHtB55sg</td>\n",
              "      <td>spotify:track:6usFCFN0F69JcAaHtB55sg</td>\n",
              "      <td>https://api.spotify.com/v1/tracks/6usFCFN0F69J...</td>\n",
              "      <td>https://api.spotify.com/v1/audio-analysis/6usF...</td>\n",
              "      <td>1472769</td>\n",
              "      <td>4</td>\n",
              "    </tr>\n",
              "    <tr>\n",
              "      <th>2</th>\n",
              "      <td>0.588</td>\n",
              "      <td>0.701</td>\n",
              "      <td>9</td>\n",
              "      <td>-6.390</td>\n",
              "      <td>1</td>\n",
              "      <td>0.0402</td>\n",
              "      <td>0.00813</td>\n",
              "      <td>0</td>\n",
              "      <td>0.2000</td>\n",
              "      <td>0.443</td>\n",
              "      <td>104.988</td>\n",
              "      <td>audio_features</td>\n",
              "      <td>3FeVmId7tL5YN8B7R3imoM</td>\n",
              "      <td>spotify:track:3FeVmId7tL5YN8B7R3imoM</td>\n",
              "      <td>https://api.spotify.com/v1/tracks/3FeVmId7tL5Y...</td>\n",
              "      <td>https://api.spotify.com/v1/audio-analysis/3FeV...</td>\n",
              "      <td>228000</td>\n",
              "      <td>4</td>\n",
              "    </tr>\n",
              "    <tr>\n",
              "      <th>3</th>\n",
              "      <td>0.645</td>\n",
              "      <td>0.809</td>\n",
              "      <td>11</td>\n",
              "      <td>-6.120</td>\n",
              "      <td>1</td>\n",
              "      <td>0.0385</td>\n",
              "      <td>0.00921</td>\n",
              "      <td>0.00108</td>\n",
              "      <td>0.1060</td>\n",
              "      <td>0.966</td>\n",
              "      <td>138.978</td>\n",
              "      <td>audio_features</td>\n",
              "      <td>3oyc1mIdCBGaU55wX7otqM</td>\n",
              "      <td>spotify:track:3oyc1mIdCBGaU55wX7otqM</td>\n",
              "      <td>https://api.spotify.com/v1/tracks/3oyc1mIdCBGa...</td>\n",
              "      <td>https://api.spotify.com/v1/audio-analysis/3oyc...</td>\n",
              "      <td>196680</td>\n",
              "      <td>4</td>\n",
              "    </tr>\n",
              "    <tr>\n",
              "      <th>4</th>\n",
              "      <td>0.577</td>\n",
              "      <td>0.450</td>\n",
              "      <td>0</td>\n",
              "      <td>-8.516</td>\n",
              "      <td>0</td>\n",
              "      <td>0.0834</td>\n",
              "      <td>0.35700</td>\n",
              "      <td>0</td>\n",
              "      <td>0.1110</td>\n",
              "      <td>0.830</td>\n",
              "      <td>205.863</td>\n",
              "      <td>audio_features</td>\n",
              "      <td>52xJxFP6TqMuO4Yt0eOkMz</td>\n",
              "      <td>spotify:track:52xJxFP6TqMuO4Yt0eOkMz</td>\n",
              "      <td>https://api.spotify.com/v1/tracks/52xJxFP6TqMu...</td>\n",
              "      <td>https://api.spotify.com/v1/audio-analysis/52xJ...</td>\n",
              "      <td>216120</td>\n",
              "      <td>4</td>\n",
              "    </tr>\n",
              "  </tbody>\n",
              "</table>\n",
              "</div>\n",
              "      <button class=\"colab-df-convert\" onclick=\"convertToInteractive('df-01245acb-b9ae-4f40-9c78-2b04a17887b8')\"\n",
              "              title=\"Convert this dataframe to an interactive table.\"\n",
              "              style=\"display:none;\">\n",
              "        \n",
              "  <svg xmlns=\"http://www.w3.org/2000/svg\" height=\"24px\"viewBox=\"0 0 24 24\"\n",
              "       width=\"24px\">\n",
              "    <path d=\"M0 0h24v24H0V0z\" fill=\"none\"/>\n",
              "    <path d=\"M18.56 5.44l.94 2.06.94-2.06 2.06-.94-2.06-.94-.94-2.06-.94 2.06-2.06.94zm-11 1L8.5 8.5l.94-2.06 2.06-.94-2.06-.94L8.5 2.5l-.94 2.06-2.06.94zm10 10l.94 2.06.94-2.06 2.06-.94-2.06-.94-.94-2.06-.94 2.06-2.06.94z\"/><path d=\"M17.41 7.96l-1.37-1.37c-.4-.4-.92-.59-1.43-.59-.52 0-1.04.2-1.43.59L10.3 9.45l-7.72 7.72c-.78.78-.78 2.05 0 2.83L4 21.41c.39.39.9.59 1.41.59.51 0 1.02-.2 1.41-.59l7.78-7.78 2.81-2.81c.8-.78.8-2.07 0-2.86zM5.41 20L4 18.59l7.72-7.72 1.47 1.35L5.41 20z\"/>\n",
              "  </svg>\n",
              "      </button>\n",
              "      \n",
              "  <style>\n",
              "    .colab-df-container {\n",
              "      display:flex;\n",
              "      flex-wrap:wrap;\n",
              "      gap: 12px;\n",
              "    }\n",
              "\n",
              "    .colab-df-convert {\n",
              "      background-color: #E8F0FE;\n",
              "      border: none;\n",
              "      border-radius: 50%;\n",
              "      cursor: pointer;\n",
              "      display: none;\n",
              "      fill: #1967D2;\n",
              "      height: 32px;\n",
              "      padding: 0 0 0 0;\n",
              "      width: 32px;\n",
              "    }\n",
              "\n",
              "    .colab-df-convert:hover {\n",
              "      background-color: #E2EBFA;\n",
              "      box-shadow: 0px 1px 2px rgba(60, 64, 67, 0.3), 0px 1px 3px 1px rgba(60, 64, 67, 0.15);\n",
              "      fill: #174EA6;\n",
              "    }\n",
              "\n",
              "    [theme=dark] .colab-df-convert {\n",
              "      background-color: #3B4455;\n",
              "      fill: #D2E3FC;\n",
              "    }\n",
              "\n",
              "    [theme=dark] .colab-df-convert:hover {\n",
              "      background-color: #434B5C;\n",
              "      box-shadow: 0px 1px 3px 1px rgba(0, 0, 0, 0.15);\n",
              "      filter: drop-shadow(0px 1px 2px rgba(0, 0, 0, 0.3));\n",
              "      fill: #FFFFFF;\n",
              "    }\n",
              "  </style>\n",
              "\n",
              "      <script>\n",
              "        const buttonEl =\n",
              "          document.querySelector('#df-01245acb-b9ae-4f40-9c78-2b04a17887b8 button.colab-df-convert');\n",
              "        buttonEl.style.display =\n",
              "          google.colab.kernel.accessAllowed ? 'block' : 'none';\n",
              "\n",
              "        async function convertToInteractive(key) {\n",
              "          const element = document.querySelector('#df-01245acb-b9ae-4f40-9c78-2b04a17887b8');\n",
              "          const dataTable =\n",
              "            await google.colab.kernel.invokeFunction('convertToInteractive',\n",
              "                                                     [key], {});\n",
              "          if (!dataTable) return;\n",
              "\n",
              "          const docLinkHtml = 'Like what you see? Visit the ' +\n",
              "            '<a target=\"_blank\" href=https://colab.research.google.com/notebooks/data_table.ipynb>data table notebook</a>'\n",
              "            + ' to learn more about interactive tables.';\n",
              "          element.innerHTML = '';\n",
              "          dataTable['output_type'] = 'display_data';\n",
              "          await google.colab.output.renderOutput(dataTable, element);\n",
              "          const docLink = document.createElement('div');\n",
              "          docLink.innerHTML = docLinkHtml;\n",
              "          element.appendChild(docLink);\n",
              "        }\n",
              "      </script>\n",
              "    </div>\n",
              "  </div>\n",
              "  "
            ]
          },
          "metadata": {},
          "execution_count": 7
        }
      ]
    },
    {
      "cell_type": "markdown",
      "source": [
        "IDENTIFYING AND DROPPING INSIGNIFICANT COLUMNS IN DATAFRAME "
      ],
      "metadata": {
        "id": "33nv9oI8d5v0"
      }
    },
    {
      "cell_type": "code",
      "source": [
        "dropped_columns = ['key','mode','type', 'uri','track_href','analysis_url']\n",
        "data_track_feature = data_track_feature.drop(columns=dropped_columns)\n",
        "print(data_track.info())\n",
        "print(data_track_feature.info())"
      ],
      "metadata": {
        "colab": {
          "base_uri": "https://localhost:8080/"
        },
        "id": "ygSylkIad6tr",
        "outputId": "ce2a8feb-e4a6-4c54-846e-3f00aa9381c0"
      },
      "execution_count": null,
      "outputs": [
        {
          "output_type": "stream",
          "name": "stdout",
          "text": [
            "<class 'pandas.core.frame.DataFrame'>\n",
            "RangeIndex: 1000 entries, 0 to 999\n",
            "Data columns (total 8 columns):\n",
            " #   Column                Non-Null Count  Dtype \n",
            "---  ------                --------------  ----- \n",
            " 0   name_of_artist        1000 non-null   object\n",
            " 1   name_of_track         1000 non-null   object\n",
            " 2   trackID               1000 non-null   object\n",
            " 3   popularity_of_track   1000 non-null   int64 \n",
            " 4   artistID              1000 non-null   object\n",
            " 5   popularity_of_artist  1000 non-null   int64 \n",
            " 6   genre_of_artists      1000 non-null   object\n",
            " 7   artist_followers      1000 non-null   int64 \n",
            "dtypes: int64(3), object(5)\n",
            "memory usage: 62.6+ KB\n",
            "None\n",
            "<class 'pandas.core.frame.DataFrame'>\n",
            "RangeIndex: 1000 entries, 0 to 999\n",
            "Data columns (total 12 columns):\n",
            " #   Column            Non-Null Count  Dtype  \n",
            "---  ------            --------------  -----  \n",
            " 0   danceability      1000 non-null   float64\n",
            " 1   energy            1000 non-null   float64\n",
            " 2   loudness          1000 non-null   float64\n",
            " 3   speechiness       1000 non-null   float64\n",
            " 4   acousticness      1000 non-null   float64\n",
            " 5   instrumentalness  1000 non-null   object \n",
            " 6   liveness          1000 non-null   float64\n",
            " 7   valence           1000 non-null   float64\n",
            " 8   tempo             1000 non-null   float64\n",
            " 9   id                1000 non-null   object \n",
            " 10  duration_ms       1000 non-null   object \n",
            " 11  time_signature    1000 non-null   object \n",
            "dtypes: float64(8), object(4)\n",
            "memory usage: 93.9+ KB\n",
            "None\n"
          ]
        }
      ]
    },
    {
      "cell_type": "code",
      "source": [
        "data_track['name_of_artist'] = data_track['name_of_artist'].astype(\"string\")\n",
        "data_track['name_of_track'] = data_track['name_of_track'].astype(\"string\")\n",
        "data_track['trackID'] = data_track['trackID'].astype(\"string\")\n",
        "data_track['artistID'] = data_track['artistID'].astype(\"string\")\n",
        "data_track_feature['duration_ms'] = pd.to_numeric(data_track_feature['duration_ms'])\n",
        "data_track_feature['instrumentalness'] = pd.to_numeric(data_track_feature['instrumentalness'])\n",
        "data_track_feature['time_signature'] = data_track_feature['time_signature'].astype(\"category\")\n",
        "print(data_track.info())\n",
        "print(data_track_feature.info())"
      ],
      "metadata": {
        "colab": {
          "base_uri": "https://localhost:8080/"
        },
        "id": "OPoKkgZqeBse",
        "outputId": "42a28277-9bb2-459a-e039-a0c0e125d5b5"
      },
      "execution_count": null,
      "outputs": [
        {
          "output_type": "stream",
          "name": "stdout",
          "text": [
            "<class 'pandas.core.frame.DataFrame'>\n",
            "RangeIndex: 1000 entries, 0 to 999\n",
            "Data columns (total 8 columns):\n",
            " #   Column                Non-Null Count  Dtype \n",
            "---  ------                --------------  ----- \n",
            " 0   name_of_artist        1000 non-null   string\n",
            " 1   name_of_track         1000 non-null   string\n",
            " 2   trackID               1000 non-null   string\n",
            " 3   popularity_of_track   1000 non-null   int64 \n",
            " 4   artistID              1000 non-null   string\n",
            " 5   popularity_of_artist  1000 non-null   int64 \n",
            " 6   genre_of_artists      1000 non-null   object\n",
            " 7   artist_followers      1000 non-null   int64 \n",
            "dtypes: int64(3), object(1), string(4)\n",
            "memory usage: 62.6+ KB\n",
            "None\n",
            "<class 'pandas.core.frame.DataFrame'>\n",
            "RangeIndex: 1000 entries, 0 to 999\n",
            "Data columns (total 12 columns):\n",
            " #   Column            Non-Null Count  Dtype   \n",
            "---  ------            --------------  -----   \n",
            " 0   danceability      1000 non-null   float64 \n",
            " 1   energy            1000 non-null   float64 \n",
            " 2   loudness          1000 non-null   float64 \n",
            " 3   speechiness       1000 non-null   float64 \n",
            " 4   acousticness      1000 non-null   float64 \n",
            " 5   instrumentalness  1000 non-null   float64 \n",
            " 6   liveness          1000 non-null   float64 \n",
            " 7   valence           1000 non-null   float64 \n",
            " 8   tempo             1000 non-null   float64 \n",
            " 9   id                1000 non-null   object  \n",
            " 10  duration_ms       1000 non-null   int64   \n",
            " 11  time_signature    1000 non-null   category\n",
            "dtypes: category(1), float64(9), int64(1), object(1)\n",
            "memory usage: 87.2+ KB\n",
            "None\n"
          ]
        }
      ]
    },
    {
      "cell_type": "markdown",
      "source": [
        "BEST TOP 20 TRACKS OF 2021 BASED ON POPULARITY"
      ],
      "metadata": {
        "id": "lUESsSPLeHbv"
      }
    },
    {
      "cell_type": "code",
      "source": [
        "data_track.sort_values(by=['popularity_of_track'], ascending=False)[['name_of_track', 'name_of_artist']].head(20)\n"
      ],
      "metadata": {
        "colab": {
          "base_uri": "https://localhost:8080/",
          "height": 676
        },
        "id": "MsVrTnxkeILs",
        "outputId": "f1bc3b4d-b888-4fd4-b5d0-37e2fb6bcdaa"
      },
      "execution_count": null,
      "outputs": [
        {
          "output_type": "execute_result",
          "data": {
            "text/plain": [
              "                                         name_of_track    name_of_artist\n",
              "24                                             abcdefu             GAYLE\n",
              "114                                           Envolver            Anitta\n",
              "8                                                Woman          Doja Cat\n",
              "16   Enemy (with JID) - from the series Arcane Leag...   Imagine Dragons\n",
              "0                                             good 4 u    Olivia Rodrigo\n",
              "12                                   THATS WHAT I WANT         Lil Nas X\n",
              "56                                           The Motto            Tiësto\n",
              "54                                          Bad Habits        Ed Sheeran\n",
              "140                                  Where Are You Now  Lost Frequencies\n",
              "20                           STAY (with Justin Bieber)     The Kid LAROI\n",
              "38                                             Shivers        Ed Sheeran\n",
              "76   Lo Siento BB:/ (with Bad Bunny & Julieta Venegas)             Tainy\n",
              "50                             Cold Heart - PNAU Remix        Elton John\n",
              "28                   INDUSTRY BABY (feat. Jack Harlow)         Lil Nas X\n",
              "26                                             traitor    Olivia Rodrigo\n",
              "42                                               Ghost     Justin Bieber\n",
              "92                                               Pepas           Farruko\n",
              "726                                             Jordan       Ryan Castro\n",
              "66                                            Yonaguni         Bad Bunny\n",
              "134                          STAY (with Justin Bieber)     The Kid LAROI"
            ],
            "text/html": [
              "\n",
              "  <div id=\"df-ead018b1-0982-4b5e-b762-f662dd54c6a7\">\n",
              "    <div class=\"colab-df-container\">\n",
              "      <div>\n",
              "<style scoped>\n",
              "    .dataframe tbody tr th:only-of-type {\n",
              "        vertical-align: middle;\n",
              "    }\n",
              "\n",
              "    .dataframe tbody tr th {\n",
              "        vertical-align: top;\n",
              "    }\n",
              "\n",
              "    .dataframe thead th {\n",
              "        text-align: right;\n",
              "    }\n",
              "</style>\n",
              "<table border=\"1\" class=\"dataframe\">\n",
              "  <thead>\n",
              "    <tr style=\"text-align: right;\">\n",
              "      <th></th>\n",
              "      <th>name_of_track</th>\n",
              "      <th>name_of_artist</th>\n",
              "    </tr>\n",
              "  </thead>\n",
              "  <tbody>\n",
              "    <tr>\n",
              "      <th>24</th>\n",
              "      <td>abcdefu</td>\n",
              "      <td>GAYLE</td>\n",
              "    </tr>\n",
              "    <tr>\n",
              "      <th>114</th>\n",
              "      <td>Envolver</td>\n",
              "      <td>Anitta</td>\n",
              "    </tr>\n",
              "    <tr>\n",
              "      <th>8</th>\n",
              "      <td>Woman</td>\n",
              "      <td>Doja Cat</td>\n",
              "    </tr>\n",
              "    <tr>\n",
              "      <th>16</th>\n",
              "      <td>Enemy (with JID) - from the series Arcane Leag...</td>\n",
              "      <td>Imagine Dragons</td>\n",
              "    </tr>\n",
              "    <tr>\n",
              "      <th>0</th>\n",
              "      <td>good 4 u</td>\n",
              "      <td>Olivia Rodrigo</td>\n",
              "    </tr>\n",
              "    <tr>\n",
              "      <th>12</th>\n",
              "      <td>THATS WHAT I WANT</td>\n",
              "      <td>Lil Nas X</td>\n",
              "    </tr>\n",
              "    <tr>\n",
              "      <th>56</th>\n",
              "      <td>The Motto</td>\n",
              "      <td>Tiësto</td>\n",
              "    </tr>\n",
              "    <tr>\n",
              "      <th>54</th>\n",
              "      <td>Bad Habits</td>\n",
              "      <td>Ed Sheeran</td>\n",
              "    </tr>\n",
              "    <tr>\n",
              "      <th>140</th>\n",
              "      <td>Where Are You Now</td>\n",
              "      <td>Lost Frequencies</td>\n",
              "    </tr>\n",
              "    <tr>\n",
              "      <th>20</th>\n",
              "      <td>STAY (with Justin Bieber)</td>\n",
              "      <td>The Kid LAROI</td>\n",
              "    </tr>\n",
              "    <tr>\n",
              "      <th>38</th>\n",
              "      <td>Shivers</td>\n",
              "      <td>Ed Sheeran</td>\n",
              "    </tr>\n",
              "    <tr>\n",
              "      <th>76</th>\n",
              "      <td>Lo Siento BB:/ (with Bad Bunny &amp; Julieta Venegas)</td>\n",
              "      <td>Tainy</td>\n",
              "    </tr>\n",
              "    <tr>\n",
              "      <th>50</th>\n",
              "      <td>Cold Heart - PNAU Remix</td>\n",
              "      <td>Elton John</td>\n",
              "    </tr>\n",
              "    <tr>\n",
              "      <th>28</th>\n",
              "      <td>INDUSTRY BABY (feat. Jack Harlow)</td>\n",
              "      <td>Lil Nas X</td>\n",
              "    </tr>\n",
              "    <tr>\n",
              "      <th>26</th>\n",
              "      <td>traitor</td>\n",
              "      <td>Olivia Rodrigo</td>\n",
              "    </tr>\n",
              "    <tr>\n",
              "      <th>42</th>\n",
              "      <td>Ghost</td>\n",
              "      <td>Justin Bieber</td>\n",
              "    </tr>\n",
              "    <tr>\n",
              "      <th>92</th>\n",
              "      <td>Pepas</td>\n",
              "      <td>Farruko</td>\n",
              "    </tr>\n",
              "    <tr>\n",
              "      <th>726</th>\n",
              "      <td>Jordan</td>\n",
              "      <td>Ryan Castro</td>\n",
              "    </tr>\n",
              "    <tr>\n",
              "      <th>66</th>\n",
              "      <td>Yonaguni</td>\n",
              "      <td>Bad Bunny</td>\n",
              "    </tr>\n",
              "    <tr>\n",
              "      <th>134</th>\n",
              "      <td>STAY (with Justin Bieber)</td>\n",
              "      <td>The Kid LAROI</td>\n",
              "    </tr>\n",
              "  </tbody>\n",
              "</table>\n",
              "</div>\n",
              "      <button class=\"colab-df-convert\" onclick=\"convertToInteractive('df-ead018b1-0982-4b5e-b762-f662dd54c6a7')\"\n",
              "              title=\"Convert this dataframe to an interactive table.\"\n",
              "              style=\"display:none;\">\n",
              "        \n",
              "  <svg xmlns=\"http://www.w3.org/2000/svg\" height=\"24px\"viewBox=\"0 0 24 24\"\n",
              "       width=\"24px\">\n",
              "    <path d=\"M0 0h24v24H0V0z\" fill=\"none\"/>\n",
              "    <path d=\"M18.56 5.44l.94 2.06.94-2.06 2.06-.94-2.06-.94-.94-2.06-.94 2.06-2.06.94zm-11 1L8.5 8.5l.94-2.06 2.06-.94-2.06-.94L8.5 2.5l-.94 2.06-2.06.94zm10 10l.94 2.06.94-2.06 2.06-.94-2.06-.94-.94-2.06-.94 2.06-2.06.94z\"/><path d=\"M17.41 7.96l-1.37-1.37c-.4-.4-.92-.59-1.43-.59-.52 0-1.04.2-1.43.59L10.3 9.45l-7.72 7.72c-.78.78-.78 2.05 0 2.83L4 21.41c.39.39.9.59 1.41.59.51 0 1.02-.2 1.41-.59l7.78-7.78 2.81-2.81c.8-.78.8-2.07 0-2.86zM5.41 20L4 18.59l7.72-7.72 1.47 1.35L5.41 20z\"/>\n",
              "  </svg>\n",
              "      </button>\n",
              "      \n",
              "  <style>\n",
              "    .colab-df-container {\n",
              "      display:flex;\n",
              "      flex-wrap:wrap;\n",
              "      gap: 12px;\n",
              "    }\n",
              "\n",
              "    .colab-df-convert {\n",
              "      background-color: #E8F0FE;\n",
              "      border: none;\n",
              "      border-radius: 50%;\n",
              "      cursor: pointer;\n",
              "      display: none;\n",
              "      fill: #1967D2;\n",
              "      height: 32px;\n",
              "      padding: 0 0 0 0;\n",
              "      width: 32px;\n",
              "    }\n",
              "\n",
              "    .colab-df-convert:hover {\n",
              "      background-color: #E2EBFA;\n",
              "      box-shadow: 0px 1px 2px rgba(60, 64, 67, 0.3), 0px 1px 3px 1px rgba(60, 64, 67, 0.15);\n",
              "      fill: #174EA6;\n",
              "    }\n",
              "\n",
              "    [theme=dark] .colab-df-convert {\n",
              "      background-color: #3B4455;\n",
              "      fill: #D2E3FC;\n",
              "    }\n",
              "\n",
              "    [theme=dark] .colab-df-convert:hover {\n",
              "      background-color: #434B5C;\n",
              "      box-shadow: 0px 1px 3px 1px rgba(0, 0, 0, 0.15);\n",
              "      filter: drop-shadow(0px 1px 2px rgba(0, 0, 0, 0.3));\n",
              "      fill: #FFFFFF;\n",
              "    }\n",
              "  </style>\n",
              "\n",
              "      <script>\n",
              "        const buttonEl =\n",
              "          document.querySelector('#df-ead018b1-0982-4b5e-b762-f662dd54c6a7 button.colab-df-convert');\n",
              "        buttonEl.style.display =\n",
              "          google.colab.kernel.accessAllowed ? 'block' : 'none';\n",
              "\n",
              "        async function convertToInteractive(key) {\n",
              "          const element = document.querySelector('#df-ead018b1-0982-4b5e-b762-f662dd54c6a7');\n",
              "          const dataTable =\n",
              "            await google.colab.kernel.invokeFunction('convertToInteractive',\n",
              "                                                     [key], {});\n",
              "          if (!dataTable) return;\n",
              "\n",
              "          const docLinkHtml = 'Like what you see? Visit the ' +\n",
              "            '<a target=\"_blank\" href=https://colab.research.google.com/notebooks/data_table.ipynb>data table notebook</a>'\n",
              "            + ' to learn more about interactive tables.';\n",
              "          element.innerHTML = '';\n",
              "          dataTable['output_type'] = 'display_data';\n",
              "          await google.colab.output.renderOutput(dataTable, element);\n",
              "          const docLink = document.createElement('div');\n",
              "          docLink.innerHTML = docLinkHtml;\n",
              "          element.appendChild(docLink);\n",
              "        }\n",
              "      </script>\n",
              "    </div>\n",
              "  </div>\n",
              "  "
            ]
          },
          "metadata": {},
          "execution_count": 10
        }
      ]
    },
    {
      "cell_type": "markdown",
      "source": [
        "TOP 20 MOST POPULAR ARTISTS OF 2021"
      ],
      "metadata": {
        "id": "8LLX1tQ9eN1k"
      }
    },
    {
      "cell_type": "code",
      "source": [
        "sort_by_artist_followers = pd.DataFrame(data_track.sort_values(by=['artist_followers'], ascending=False)[['artist_followers','popularity_of_artist', 'name_of_artist','genre_of_artists']])\n",
        "sort_by_artist_followers.astype(str).drop_duplicates().head(20)"
      ],
      "metadata": {
        "colab": {
          "base_uri": "https://localhost:8080/",
          "height": 676
        },
        "id": "TQBy2lI6eOiS",
        "outputId": "ecf55999-3539-4d98-831b-2f1a3f44afb5"
      },
      "execution_count": null,
      "outputs": [
        {
          "output_type": "execute_result",
          "data": {
            "text/plain": [
              "    artist_followers popularity_of_artist   name_of_artist  \\\n",
              "54          96284106                   96       Ed Sheeran   \n",
              "326         62961306                   98            Drake   \n",
              "518         61198677                   93    Billie Eilish   \n",
              "972         59954694                   97    Justin Bieber   \n",
              "844         55036747                   95           Eminem   \n",
              "708         52410050                   98     Taylor Swift   \n",
              "192         48832326                   96              BTS   \n",
              "66          47395162                  100        Bad Bunny   \n",
              "158         44222776                   97       The Weeknd   \n",
              "728         40047065                   93       Bruno Mars   \n",
              "362         39721957                   93  Imagine Dragons   \n",
              "434         37511002                   90     Shawn Mendes   \n",
              "80          37246840                   90            Adele   \n",
              "232         36700959                   91      Post Malone   \n",
              "198         36154581                   90         Maroon 5   \n",
              "942         35478011                   92         Coldplay   \n",
              "812         33642744                   93         J Balvin   \n",
              "754         33575144                   94         Dua Lipa   \n",
              "184         33491044                   86       Marshmello   \n",
              "796         30690730                   89           Maluma   \n",
              "\n",
              "                                      genre_of_artists  \n",
              "54                                   ['pop', 'uk pop']  \n",
              "326  ['canadian hip hop', 'canadian pop', 'hip hop'...  \n",
              "518                   ['art pop', 'electropop', 'pop']  \n",
              "972                            ['canadian pop', 'pop']  \n",
              "844              ['detroit hip hop', 'hip hop', 'rap']  \n",
              "708                                            ['pop']  \n",
              "192                       ['k-pop', 'k-pop boy group']  \n",
              "66               ['latin', 'reggaeton', 'trap latino']  \n",
              "158  ['canadian contemporary r&b', 'canadian pop', ...  \n",
              "728                               ['dance pop', 'pop']  \n",
              "362                            ['modern rock', 'rock']  \n",
              "434  ['canadian pop', 'dance pop', 'pop', 'viral pop']  \n",
              "80       ['british soul', 'pop', 'pop soul', 'uk pop']  \n",
              "232                  ['dfw rap', 'melodic rap', 'rap']  \n",
              "198                                ['pop', 'pop rock']  \n",
              "942                          ['permanent wave', 'pop']  \n",
              "812  ['latin', 'reggaeton', 'reggaeton colombiano',...  \n",
              "754                     ['dance pop', 'pop', 'uk pop']  \n",
              "184  ['brostep', 'dance pop', 'edm', 'pop', 'pop da...  \n",
              "796  ['latin', 'reggaeton', 'reggaeton colombiano',...  "
            ],
            "text/html": [
              "\n",
              "  <div id=\"df-8314f9c5-99c7-46cc-b43e-f45d2bced6f0\">\n",
              "    <div class=\"colab-df-container\">\n",
              "      <div>\n",
              "<style scoped>\n",
              "    .dataframe tbody tr th:only-of-type {\n",
              "        vertical-align: middle;\n",
              "    }\n",
              "\n",
              "    .dataframe tbody tr th {\n",
              "        vertical-align: top;\n",
              "    }\n",
              "\n",
              "    .dataframe thead th {\n",
              "        text-align: right;\n",
              "    }\n",
              "</style>\n",
              "<table border=\"1\" class=\"dataframe\">\n",
              "  <thead>\n",
              "    <tr style=\"text-align: right;\">\n",
              "      <th></th>\n",
              "      <th>artist_followers</th>\n",
              "      <th>popularity_of_artist</th>\n",
              "      <th>name_of_artist</th>\n",
              "      <th>genre_of_artists</th>\n",
              "    </tr>\n",
              "  </thead>\n",
              "  <tbody>\n",
              "    <tr>\n",
              "      <th>54</th>\n",
              "      <td>96284106</td>\n",
              "      <td>96</td>\n",
              "      <td>Ed Sheeran</td>\n",
              "      <td>['pop', 'uk pop']</td>\n",
              "    </tr>\n",
              "    <tr>\n",
              "      <th>326</th>\n",
              "      <td>62961306</td>\n",
              "      <td>98</td>\n",
              "      <td>Drake</td>\n",
              "      <td>['canadian hip hop', 'canadian pop', 'hip hop'...</td>\n",
              "    </tr>\n",
              "    <tr>\n",
              "      <th>518</th>\n",
              "      <td>61198677</td>\n",
              "      <td>93</td>\n",
              "      <td>Billie Eilish</td>\n",
              "      <td>['art pop', 'electropop', 'pop']</td>\n",
              "    </tr>\n",
              "    <tr>\n",
              "      <th>972</th>\n",
              "      <td>59954694</td>\n",
              "      <td>97</td>\n",
              "      <td>Justin Bieber</td>\n",
              "      <td>['canadian pop', 'pop']</td>\n",
              "    </tr>\n",
              "    <tr>\n",
              "      <th>844</th>\n",
              "      <td>55036747</td>\n",
              "      <td>95</td>\n",
              "      <td>Eminem</td>\n",
              "      <td>['detroit hip hop', 'hip hop', 'rap']</td>\n",
              "    </tr>\n",
              "    <tr>\n",
              "      <th>708</th>\n",
              "      <td>52410050</td>\n",
              "      <td>98</td>\n",
              "      <td>Taylor Swift</td>\n",
              "      <td>['pop']</td>\n",
              "    </tr>\n",
              "    <tr>\n",
              "      <th>192</th>\n",
              "      <td>48832326</td>\n",
              "      <td>96</td>\n",
              "      <td>BTS</td>\n",
              "      <td>['k-pop', 'k-pop boy group']</td>\n",
              "    </tr>\n",
              "    <tr>\n",
              "      <th>66</th>\n",
              "      <td>47395162</td>\n",
              "      <td>100</td>\n",
              "      <td>Bad Bunny</td>\n",
              "      <td>['latin', 'reggaeton', 'trap latino']</td>\n",
              "    </tr>\n",
              "    <tr>\n",
              "      <th>158</th>\n",
              "      <td>44222776</td>\n",
              "      <td>97</td>\n",
              "      <td>The Weeknd</td>\n",
              "      <td>['canadian contemporary r&amp;b', 'canadian pop', ...</td>\n",
              "    </tr>\n",
              "    <tr>\n",
              "      <th>728</th>\n",
              "      <td>40047065</td>\n",
              "      <td>93</td>\n",
              "      <td>Bruno Mars</td>\n",
              "      <td>['dance pop', 'pop']</td>\n",
              "    </tr>\n",
              "    <tr>\n",
              "      <th>362</th>\n",
              "      <td>39721957</td>\n",
              "      <td>93</td>\n",
              "      <td>Imagine Dragons</td>\n",
              "      <td>['modern rock', 'rock']</td>\n",
              "    </tr>\n",
              "    <tr>\n",
              "      <th>434</th>\n",
              "      <td>37511002</td>\n",
              "      <td>90</td>\n",
              "      <td>Shawn Mendes</td>\n",
              "      <td>['canadian pop', 'dance pop', 'pop', 'viral pop']</td>\n",
              "    </tr>\n",
              "    <tr>\n",
              "      <th>80</th>\n",
              "      <td>37246840</td>\n",
              "      <td>90</td>\n",
              "      <td>Adele</td>\n",
              "      <td>['british soul', 'pop', 'pop soul', 'uk pop']</td>\n",
              "    </tr>\n",
              "    <tr>\n",
              "      <th>232</th>\n",
              "      <td>36700959</td>\n",
              "      <td>91</td>\n",
              "      <td>Post Malone</td>\n",
              "      <td>['dfw rap', 'melodic rap', 'rap']</td>\n",
              "    </tr>\n",
              "    <tr>\n",
              "      <th>198</th>\n",
              "      <td>36154581</td>\n",
              "      <td>90</td>\n",
              "      <td>Maroon 5</td>\n",
              "      <td>['pop', 'pop rock']</td>\n",
              "    </tr>\n",
              "    <tr>\n",
              "      <th>942</th>\n",
              "      <td>35478011</td>\n",
              "      <td>92</td>\n",
              "      <td>Coldplay</td>\n",
              "      <td>['permanent wave', 'pop']</td>\n",
              "    </tr>\n",
              "    <tr>\n",
              "      <th>812</th>\n",
              "      <td>33642744</td>\n",
              "      <td>93</td>\n",
              "      <td>J Balvin</td>\n",
              "      <td>['latin', 'reggaeton', 'reggaeton colombiano',...</td>\n",
              "    </tr>\n",
              "    <tr>\n",
              "      <th>754</th>\n",
              "      <td>33575144</td>\n",
              "      <td>94</td>\n",
              "      <td>Dua Lipa</td>\n",
              "      <td>['dance pop', 'pop', 'uk pop']</td>\n",
              "    </tr>\n",
              "    <tr>\n",
              "      <th>184</th>\n",
              "      <td>33491044</td>\n",
              "      <td>86</td>\n",
              "      <td>Marshmello</td>\n",
              "      <td>['brostep', 'dance pop', 'edm', 'pop', 'pop da...</td>\n",
              "    </tr>\n",
              "    <tr>\n",
              "      <th>796</th>\n",
              "      <td>30690730</td>\n",
              "      <td>89</td>\n",
              "      <td>Maluma</td>\n",
              "      <td>['latin', 'reggaeton', 'reggaeton colombiano',...</td>\n",
              "    </tr>\n",
              "  </tbody>\n",
              "</table>\n",
              "</div>\n",
              "      <button class=\"colab-df-convert\" onclick=\"convertToInteractive('df-8314f9c5-99c7-46cc-b43e-f45d2bced6f0')\"\n",
              "              title=\"Convert this dataframe to an interactive table.\"\n",
              "              style=\"display:none;\">\n",
              "        \n",
              "  <svg xmlns=\"http://www.w3.org/2000/svg\" height=\"24px\"viewBox=\"0 0 24 24\"\n",
              "       width=\"24px\">\n",
              "    <path d=\"M0 0h24v24H0V0z\" fill=\"none\"/>\n",
              "    <path d=\"M18.56 5.44l.94 2.06.94-2.06 2.06-.94-2.06-.94-.94-2.06-.94 2.06-2.06.94zm-11 1L8.5 8.5l.94-2.06 2.06-.94-2.06-.94L8.5 2.5l-.94 2.06-2.06.94zm10 10l.94 2.06.94-2.06 2.06-.94-2.06-.94-.94-2.06-.94 2.06-2.06.94z\"/><path d=\"M17.41 7.96l-1.37-1.37c-.4-.4-.92-.59-1.43-.59-.52 0-1.04.2-1.43.59L10.3 9.45l-7.72 7.72c-.78.78-.78 2.05 0 2.83L4 21.41c.39.39.9.59 1.41.59.51 0 1.02-.2 1.41-.59l7.78-7.78 2.81-2.81c.8-.78.8-2.07 0-2.86zM5.41 20L4 18.59l7.72-7.72 1.47 1.35L5.41 20z\"/>\n",
              "  </svg>\n",
              "      </button>\n",
              "      \n",
              "  <style>\n",
              "    .colab-df-container {\n",
              "      display:flex;\n",
              "      flex-wrap:wrap;\n",
              "      gap: 12px;\n",
              "    }\n",
              "\n",
              "    .colab-df-convert {\n",
              "      background-color: #E8F0FE;\n",
              "      border: none;\n",
              "      border-radius: 50%;\n",
              "      cursor: pointer;\n",
              "      display: none;\n",
              "      fill: #1967D2;\n",
              "      height: 32px;\n",
              "      padding: 0 0 0 0;\n",
              "      width: 32px;\n",
              "    }\n",
              "\n",
              "    .colab-df-convert:hover {\n",
              "      background-color: #E2EBFA;\n",
              "      box-shadow: 0px 1px 2px rgba(60, 64, 67, 0.3), 0px 1px 3px 1px rgba(60, 64, 67, 0.15);\n",
              "      fill: #174EA6;\n",
              "    }\n",
              "\n",
              "    [theme=dark] .colab-df-convert {\n",
              "      background-color: #3B4455;\n",
              "      fill: #D2E3FC;\n",
              "    }\n",
              "\n",
              "    [theme=dark] .colab-df-convert:hover {\n",
              "      background-color: #434B5C;\n",
              "      box-shadow: 0px 1px 3px 1px rgba(0, 0, 0, 0.15);\n",
              "      filter: drop-shadow(0px 1px 2px rgba(0, 0, 0, 0.3));\n",
              "      fill: #FFFFFF;\n",
              "    }\n",
              "  </style>\n",
              "\n",
              "      <script>\n",
              "        const buttonEl =\n",
              "          document.querySelector('#df-8314f9c5-99c7-46cc-b43e-f45d2bced6f0 button.colab-df-convert');\n",
              "        buttonEl.style.display =\n",
              "          google.colab.kernel.accessAllowed ? 'block' : 'none';\n",
              "\n",
              "        async function convertToInteractive(key) {\n",
              "          const element = document.querySelector('#df-8314f9c5-99c7-46cc-b43e-f45d2bced6f0');\n",
              "          const dataTable =\n",
              "            await google.colab.kernel.invokeFunction('convertToInteractive',\n",
              "                                                     [key], {});\n",
              "          if (!dataTable) return;\n",
              "\n",
              "          const docLinkHtml = 'Like what you see? Visit the ' +\n",
              "            '<a target=\"_blank\" href=https://colab.research.google.com/notebooks/data_table.ipynb>data table notebook</a>'\n",
              "            + ' to learn more about interactive tables.';\n",
              "          element.innerHTML = '';\n",
              "          dataTable['output_type'] = 'display_data';\n",
              "          await google.colab.output.renderOutput(dataTable, element);\n",
              "          const docLink = document.createElement('div');\n",
              "          docLink.innerHTML = docLinkHtml;\n",
              "          element.appendChild(docLink);\n",
              "        }\n",
              "      </script>\n",
              "    </div>\n",
              "  </div>\n",
              "  "
            ]
          },
          "metadata": {},
          "execution_count": 11
        }
      ]
    },
    {
      "cell_type": "markdown",
      "source": [
        "LIST OF GENRES "
      ],
      "metadata": {
        "id": "6aJi-80PeV76"
      }
    },
    {
      "cell_type": "code",
      "source": [
        "def fn_serialize(series):\n",
        " return pd.Series([x for _list in series for x in _list])\n",
        "fn_serialize(data_track['genre_of_artists']).value_counts().head(20)"
      ],
      "metadata": {
        "colab": {
          "base_uri": "https://localhost:8080/"
        },
        "id": "zyrkic-9eXG3",
        "outputId": "ea1c29f0-0691-4845-a4e2-7701bd1ed54d"
      },
      "execution_count": null,
      "outputs": [
        {
          "output_type": "execute_result",
          "data": {
            "text/plain": [
              "progressive house       221\n",
              "trance                  203\n",
              "uplifting trance        169\n",
              "progressive trance      160\n",
              "pop                     154\n",
              "edm                     144\n",
              "pop dance               140\n",
              "rap                      97\n",
              "dance pop                64\n",
              "hip hop                  56\n",
              "trap                     51\n",
              "contemporary country     50\n",
              "rock                     45\n",
              "dutch trance             43\n",
              "mellow gold              40\n",
              "art rock                 40\n",
              "folk rock                39\n",
              "roots rock               37\n",
              "power pop                36\n",
              "pub rock                 36\n",
              "dtype: int64"
            ]
          },
          "metadata": {},
          "execution_count": 12
        }
      ]
    },
    {
      "cell_type": "markdown",
      "source": [
        "MOST POPULAR ARTISTS IN EVERY GENRE"
      ],
      "metadata": {
        "id": "vtMQB_Fxec9S"
      }
    },
    {
      "cell_type": "code",
      "source": [
        "top_10_genres = list(fn_serialize(data_track['genre_of_artists']).value_counts().index[:20])\n",
        "top_artists_by_genre = []\n",
        "for genre in top_10_genres:\n",
        "  for index, row in sort_by_artist_followers.iterrows():\n",
        "    if genre in row['genre_of_artists']:\n",
        "      top_artists_by_genre.append({'name_of_artist':row['name_of_artist'], 'genre_of_artist':genre})\n",
        "      break\n",
        "pd.json_normalize(top_artists_by_genre)"
      ],
      "metadata": {
        "colab": {
          "base_uri": "https://localhost:8080/",
          "height": 676
        },
        "id": "QM58KEwwedyW",
        "outputId": "1180c5ab-0baa-4e56-d8d5-6c786b80e563"
      },
      "execution_count": null,
      "outputs": [
        {
          "output_type": "execute_result",
          "data": {
            "text/plain": [
              "      name_of_artist       genre_of_artist\n",
              "0   Armin van Buuren     progressive house\n",
              "1             Tiësto                trance\n",
              "2     Above & Beyond      uplifting trance\n",
              "3     Above & Beyond    progressive trance\n",
              "4         Ed Sheeran                   pop\n",
              "5         Marshmello                   edm\n",
              "6         Marshmello             pop dance\n",
              "7              Drake                   rap\n",
              "8         Bruno Mars             dance pop\n",
              "9              Drake               hip hop\n",
              "10      Travis Scott                  trap\n",
              "11        Luke Combs  contemporary country\n",
              "12   Imagine Dragons                  rock\n",
              "13  Armin van Buuren          dutch trance\n",
              "14        Elton John           mellow gold\n",
              "15       David Bowie              art rock\n",
              "16    Elvis Costello             folk rock\n",
              "17    Elvis Costello            roots rock\n",
              "18    Elvis Costello             power pop\n",
              "19    Elvis Costello              pub rock"
            ],
            "text/html": [
              "\n",
              "  <div id=\"df-65d20084-67b1-4452-b169-2988fc91bec8\">\n",
              "    <div class=\"colab-df-container\">\n",
              "      <div>\n",
              "<style scoped>\n",
              "    .dataframe tbody tr th:only-of-type {\n",
              "        vertical-align: middle;\n",
              "    }\n",
              "\n",
              "    .dataframe tbody tr th {\n",
              "        vertical-align: top;\n",
              "    }\n",
              "\n",
              "    .dataframe thead th {\n",
              "        text-align: right;\n",
              "    }\n",
              "</style>\n",
              "<table border=\"1\" class=\"dataframe\">\n",
              "  <thead>\n",
              "    <tr style=\"text-align: right;\">\n",
              "      <th></th>\n",
              "      <th>name_of_artist</th>\n",
              "      <th>genre_of_artist</th>\n",
              "    </tr>\n",
              "  </thead>\n",
              "  <tbody>\n",
              "    <tr>\n",
              "      <th>0</th>\n",
              "      <td>Armin van Buuren</td>\n",
              "      <td>progressive house</td>\n",
              "    </tr>\n",
              "    <tr>\n",
              "      <th>1</th>\n",
              "      <td>Tiësto</td>\n",
              "      <td>trance</td>\n",
              "    </tr>\n",
              "    <tr>\n",
              "      <th>2</th>\n",
              "      <td>Above &amp; Beyond</td>\n",
              "      <td>uplifting trance</td>\n",
              "    </tr>\n",
              "    <tr>\n",
              "      <th>3</th>\n",
              "      <td>Above &amp; Beyond</td>\n",
              "      <td>progressive trance</td>\n",
              "    </tr>\n",
              "    <tr>\n",
              "      <th>4</th>\n",
              "      <td>Ed Sheeran</td>\n",
              "      <td>pop</td>\n",
              "    </tr>\n",
              "    <tr>\n",
              "      <th>5</th>\n",
              "      <td>Marshmello</td>\n",
              "      <td>edm</td>\n",
              "    </tr>\n",
              "    <tr>\n",
              "      <th>6</th>\n",
              "      <td>Marshmello</td>\n",
              "      <td>pop dance</td>\n",
              "    </tr>\n",
              "    <tr>\n",
              "      <th>7</th>\n",
              "      <td>Drake</td>\n",
              "      <td>rap</td>\n",
              "    </tr>\n",
              "    <tr>\n",
              "      <th>8</th>\n",
              "      <td>Bruno Mars</td>\n",
              "      <td>dance pop</td>\n",
              "    </tr>\n",
              "    <tr>\n",
              "      <th>9</th>\n",
              "      <td>Drake</td>\n",
              "      <td>hip hop</td>\n",
              "    </tr>\n",
              "    <tr>\n",
              "      <th>10</th>\n",
              "      <td>Travis Scott</td>\n",
              "      <td>trap</td>\n",
              "    </tr>\n",
              "    <tr>\n",
              "      <th>11</th>\n",
              "      <td>Luke Combs</td>\n",
              "      <td>contemporary country</td>\n",
              "    </tr>\n",
              "    <tr>\n",
              "      <th>12</th>\n",
              "      <td>Imagine Dragons</td>\n",
              "      <td>rock</td>\n",
              "    </tr>\n",
              "    <tr>\n",
              "      <th>13</th>\n",
              "      <td>Armin van Buuren</td>\n",
              "      <td>dutch trance</td>\n",
              "    </tr>\n",
              "    <tr>\n",
              "      <th>14</th>\n",
              "      <td>Elton John</td>\n",
              "      <td>mellow gold</td>\n",
              "    </tr>\n",
              "    <tr>\n",
              "      <th>15</th>\n",
              "      <td>David Bowie</td>\n",
              "      <td>art rock</td>\n",
              "    </tr>\n",
              "    <tr>\n",
              "      <th>16</th>\n",
              "      <td>Elvis Costello</td>\n",
              "      <td>folk rock</td>\n",
              "    </tr>\n",
              "    <tr>\n",
              "      <th>17</th>\n",
              "      <td>Elvis Costello</td>\n",
              "      <td>roots rock</td>\n",
              "    </tr>\n",
              "    <tr>\n",
              "      <th>18</th>\n",
              "      <td>Elvis Costello</td>\n",
              "      <td>power pop</td>\n",
              "    </tr>\n",
              "    <tr>\n",
              "      <th>19</th>\n",
              "      <td>Elvis Costello</td>\n",
              "      <td>pub rock</td>\n",
              "    </tr>\n",
              "  </tbody>\n",
              "</table>\n",
              "</div>\n",
              "      <button class=\"colab-df-convert\" onclick=\"convertToInteractive('df-65d20084-67b1-4452-b169-2988fc91bec8')\"\n",
              "              title=\"Convert this dataframe to an interactive table.\"\n",
              "              style=\"display:none;\">\n",
              "        \n",
              "  <svg xmlns=\"http://www.w3.org/2000/svg\" height=\"24px\"viewBox=\"0 0 24 24\"\n",
              "       width=\"24px\">\n",
              "    <path d=\"M0 0h24v24H0V0z\" fill=\"none\"/>\n",
              "    <path d=\"M18.56 5.44l.94 2.06.94-2.06 2.06-.94-2.06-.94-.94-2.06-.94 2.06-2.06.94zm-11 1L8.5 8.5l.94-2.06 2.06-.94-2.06-.94L8.5 2.5l-.94 2.06-2.06.94zm10 10l.94 2.06.94-2.06 2.06-.94-2.06-.94-.94-2.06-.94 2.06-2.06.94z\"/><path d=\"M17.41 7.96l-1.37-1.37c-.4-.4-.92-.59-1.43-.59-.52 0-1.04.2-1.43.59L10.3 9.45l-7.72 7.72c-.78.78-.78 2.05 0 2.83L4 21.41c.39.39.9.59 1.41.59.51 0 1.02-.2 1.41-.59l7.78-7.78 2.81-2.81c.8-.78.8-2.07 0-2.86zM5.41 20L4 18.59l7.72-7.72 1.47 1.35L5.41 20z\"/>\n",
              "  </svg>\n",
              "      </button>\n",
              "      \n",
              "  <style>\n",
              "    .colab-df-container {\n",
              "      display:flex;\n",
              "      flex-wrap:wrap;\n",
              "      gap: 12px;\n",
              "    }\n",
              "\n",
              "    .colab-df-convert {\n",
              "      background-color: #E8F0FE;\n",
              "      border: none;\n",
              "      border-radius: 50%;\n",
              "      cursor: pointer;\n",
              "      display: none;\n",
              "      fill: #1967D2;\n",
              "      height: 32px;\n",
              "      padding: 0 0 0 0;\n",
              "      width: 32px;\n",
              "    }\n",
              "\n",
              "    .colab-df-convert:hover {\n",
              "      background-color: #E2EBFA;\n",
              "      box-shadow: 0px 1px 2px rgba(60, 64, 67, 0.3), 0px 1px 3px 1px rgba(60, 64, 67, 0.15);\n",
              "      fill: #174EA6;\n",
              "    }\n",
              "\n",
              "    [theme=dark] .colab-df-convert {\n",
              "      background-color: #3B4455;\n",
              "      fill: #D2E3FC;\n",
              "    }\n",
              "\n",
              "    [theme=dark] .colab-df-convert:hover {\n",
              "      background-color: #434B5C;\n",
              "      box-shadow: 0px 1px 3px 1px rgba(0, 0, 0, 0.15);\n",
              "      filter: drop-shadow(0px 1px 2px rgba(0, 0, 0, 0.3));\n",
              "      fill: #FFFFFF;\n",
              "    }\n",
              "  </style>\n",
              "\n",
              "      <script>\n",
              "        const buttonEl =\n",
              "          document.querySelector('#df-65d20084-67b1-4452-b169-2988fc91bec8 button.colab-df-convert');\n",
              "        buttonEl.style.display =\n",
              "          google.colab.kernel.accessAllowed ? 'block' : 'none';\n",
              "\n",
              "        async function convertToInteractive(key) {\n",
              "          const element = document.querySelector('#df-65d20084-67b1-4452-b169-2988fc91bec8');\n",
              "          const dataTable =\n",
              "            await google.colab.kernel.invokeFunction('convertToInteractive',\n",
              "                                                     [key], {});\n",
              "          if (!dataTable) return;\n",
              "\n",
              "          const docLinkHtml = 'Like what you see? Visit the ' +\n",
              "            '<a target=\"_blank\" href=https://colab.research.google.com/notebooks/data_table.ipynb>data table notebook</a>'\n",
              "            + ' to learn more about interactive tables.';\n",
              "          element.innerHTML = '';\n",
              "          dataTable['output_type'] = 'display_data';\n",
              "          await google.colab.output.renderOutput(dataTable, element);\n",
              "          const docLink = document.createElement('div');\n",
              "          docLink.innerHTML = docLinkHtml;\n",
              "          element.appendChild(docLink);\n",
              "        }\n",
              "      </script>\n",
              "    </div>\n",
              "  </div>\n",
              "  "
            ]
          },
          "metadata": {},
          "execution_count": 13
        }
      ]
    },
    {
      "cell_type": "code",
      "execution_count": null,
      "metadata": {
        "colab": {
          "base_uri": "https://localhost:8080/"
        },
        "id": "Ni-GSIjDBy3I",
        "outputId": "0b154b7a-15b5-4a6f-8a12-cd03a126d755"
      },
      "outputs": [
        {
          "output_type": "stream",
          "name": "stdout",
          "text": [
            "Collecting pyspark\n",
            "  Downloading pyspark-3.2.1.tar.gz (281.4 MB)\n",
            "\u001b[K     |████████████████████████████████| 281.4 MB 33 kB/s \n",
            "\u001b[?25hCollecting py4j==0.10.9.3\n",
            "  Downloading py4j-0.10.9.3-py2.py3-none-any.whl (198 kB)\n",
            "\u001b[K     |████████████████████████████████| 198 kB 43.9 MB/s \n",
            "\u001b[?25hBuilding wheels for collected packages: pyspark\n",
            "  Building wheel for pyspark (setup.py) ... \u001b[?25l\u001b[?25hdone\n",
            "  Created wheel for pyspark: filename=pyspark-3.2.1-py2.py3-none-any.whl size=281853642 sha256=e2151592370eb0bef2a7d2ce5a5974480a2ccc4c3cc107884557d34ef4856ea6\n",
            "  Stored in directory: /root/.cache/pip/wheels/9f/f5/07/7cd8017084dce4e93e84e92efd1e1d5334db05f2e83bcef74f\n",
            "Successfully built pyspark\n",
            "Installing collected packages: py4j, pyspark\n",
            "Successfully installed py4j-0.10.9.3 pyspark-3.2.1\n"
          ]
        }
      ],
      "source": [
        "pip install pyspark"
      ]
    },
    {
      "cell_type": "code",
      "source": [
        "import pyspark"
      ],
      "metadata": {
        "id": "o2tm0WZSgw1G"
      },
      "execution_count": null,
      "outputs": []
    },
    {
      "cell_type": "code",
      "execution_count": null,
      "metadata": {
        "id": "0DdH33gPBi3m"
      },
      "outputs": [],
      "source": [
        "import os\n",
        "import sys\n",
        "\n",
        "#os.environ['PYSPARK_PYTHON'] = sys.executable\n",
        "#os.environ['PYSPARK_DRIVER_PYTHON'] = sys.executable\n",
        "\n",
        "from pyspark.context import SparkContext\n",
        "from pyspark.sql.session import SparkSession\n",
        "sc = SparkContext.getOrCreate()\n",
        "spark = SparkSession(sc)"
      ]
    },
    {
      "cell_type": "code",
      "execution_count": null,
      "metadata": {
        "id": "66TD52PSBi3n"
      },
      "outputs": [],
      "source": [
        "from pyspark import SparkContext\n",
        "\n",
        "from pyspark.sql import SparkSession\n",
        "\n",
        "from pyspark.sql.window import Window\n",
        "\n",
        "from pyspark.sql.functions import col, expr, when,\\\n",
        "desc, first, last, row_number, rank, substring\n",
        "\n",
        "from pyspark.sql.functions import max as pmax, min as pmin"
      ]
    },
    {
      "cell_type": "code",
      "execution_count": null,
      "metadata": {
        "colab": {
          "base_uri": "https://localhost:8080/",
          "height": 220
        },
        "id": "47F0NifcBi3n",
        "outputId": "76b4b312-991e-455b-b057-a89dea04ce37"
      },
      "outputs": [
        {
          "output_type": "execute_result",
          "data": {
            "text/plain": [
              "<pyspark.sql.session.SparkSession at 0x7f6093c63a50>"
            ],
            "text/html": [
              "\n",
              "            <div>\n",
              "                <p><b>SparkSession - in-memory</b></p>\n",
              "                \n",
              "        <div>\n",
              "            <p><b>SparkContext</b></p>\n",
              "\n",
              "            <p><a href=\"http://d75a24358ee1:4040\">Spark UI</a></p>\n",
              "\n",
              "            <dl>\n",
              "              <dt>Version</dt>\n",
              "                <dd><code>v3.2.1</code></dd>\n",
              "              <dt>Master</dt>\n",
              "                <dd><code>local[*]</code></dd>\n",
              "              <dt>AppName</dt>\n",
              "                <dd><code>pyspark-shell</code></dd>\n",
              "            </dl>\n",
              "        </div>\n",
              "        \n",
              "            </div>\n",
              "        "
            ]
          },
          "metadata": {},
          "execution_count": 7
        }
      ],
      "source": [
        "spark = SparkSession.Builder().appName(\n",
        "    \"Spotify_Final\").getOrCreate()\n",
        "spark"
      ]
    },
    {
      "cell_type": "markdown",
      "source": [
        "### STREAMING REAL TIME DATA USING SPOTIFY API"
      ],
      "metadata": {
        "id": "SGXdg-kUJd9R"
      }
    },
    {
      "cell_type": "markdown",
      "source": [
        ""
      ],
      "metadata": {
        "id": "gWRpbmAwJkR5"
      }
    },
    {
      "cell_type": "code",
      "source": [
        "import requests\n",
        "import time"
      ],
      "metadata": {
        "id": "K7r6dupfL6wN"
      },
      "execution_count": null,
      "outputs": []
    },
    {
      "cell_type": "code",
      "source": [
        "from pprint import pprint"
      ],
      "metadata": {
        "id": "VoCk7f-PL-oT"
      },
      "execution_count": null,
      "outputs": []
    },
    {
      "cell_type": "code",
      "source": [
        "\n",
        "SPOTIFY_GET_CURRENT_TRACK_URL = 'https://api.spotify.com/v1/me/player/currently-playing'"
      ],
      "metadata": {
        "id": "cPstevTkMBmr"
      },
      "execution_count": null,
      "outputs": []
    },
    {
      "cell_type": "code",
      "source": [
        "ACCESS_TOKEN = 'BQBpqeXVSd-wYKVEjwEQVpOmI550Q3sVgzZENrRMb8H7r0I6Smd2x3jJOK2aWdc9hQPz-LX8aADqinW9chaSzbYqNhFMOt3WtQJLn1tYPu1s_jm1iI_Fdm5zX-ggyT8r4tXrr-CAc40hloUJ3dH-wqC7zCcBBBVtIBpS'"
      ],
      "metadata": {
        "id": "t7k4fqzLMGZi"
      },
      "execution_count": null,
      "outputs": []
    },
    {
      "cell_type": "code",
      "source": [
        "def get_current_track(access_token):\n",
        "    response = requests.get(\n",
        "        SPOTIFY_GET_CURRENT_TRACK_URL,\n",
        "        headers={\n",
        "            \"Authorization\": f\"Bearer {access_token}\"\n",
        "        }\n",
        "    )\n",
        "    json_resp = response.json()\n",
        "\n",
        "    track_id = json_resp['item']['id']\n",
        "    track_name = json_resp['item']['name']\n",
        "    artists = [artist for artist in json_resp['item']['artists']]\n",
        "\n",
        "    link = json_resp['item']['external_urls']['spotify']\n",
        "\n",
        "    artist_names = ', '.join([artist['name'] for artist in artists])\n",
        "\n",
        "    current_track_info = {\n",
        "    \t\"id\": track_id,\n",
        "    \t\"track_name\": track_name,\n",
        "    \t\"artists\": artist_names,\n",
        "    \t\"link\": link\n",
        "    }\n",
        "\n",
        "    return current_track_info"
      ],
      "metadata": {
        "id": "st0wgO8FMJJ2"
      },
      "execution_count": null,
      "outputs": []
    },
    {
      "cell_type": "code",
      "source": [
        "def main():\n",
        "\tcurrent_track_id = None\n",
        "\twhile True:\n",
        "\t    current_track_info = get_current_track(ACCESS_TOKEN)\n",
        "\n",
        "\t    if current_track_info['id'] != current_track_id:\n",
        "\t\t    pprint(\n",
        "\t\t    \tcurrent_track_info,\n",
        "\t\t    \tindent=4,\n",
        "\t\t    )\n",
        "\t\t    current_track_id = current_track_info['id']\n",
        "\n",
        "\t    time.sleep(1)"
      ],
      "metadata": {
        "id": "jJ9hPsVdMP0Q"
      },
      "execution_count": null,
      "outputs": []
    },
    {
      "cell_type": "markdown",
      "source": [
        "### STREAMING REAL TIME SONGS FROM SPOTIFY "
      ],
      "metadata": {
        "id": "BIZIQztUMSoh"
      }
    },
    {
      "cell_type": "code",
      "source": [
        "# PLEASE UPLOAD THE VIDEO DEMONSTRATION FILE HERE TO VIEW IN GOOGLE COLAB\n",
        "\n",
        "from google.colab import files\n",
        "uploaded = files.upload()"
      ],
      "metadata": {
        "colab": {
          "resources": {
            "http://localhost:8080/nbextensions/google.colab/files.js": {
              "data": "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",
              "ok": true,
              "headers": [
                [
                  "content-type",
                  "application/javascript"
                ]
              ],
              "status": 200,
              "status_text": ""
            }
          },
          "base_uri": "https://localhost:8080/",
          "height": 74
        },
        "id": "oK4KQrujQwKl",
        "outputId": "2ac9c957-90aa-45d9-f114-9346c45eb3a1"
      },
      "execution_count": null,
      "outputs": [
        {
          "output_type": "display_data",
          "data": {
            "text/plain": [
              "<IPython.core.display.HTML object>"
            ],
            "text/html": [
              "\n",
              "     <input type=\"file\" id=\"files-40bc07be-bf7d-4171-aaa0-b4b91218bcdf\" name=\"files[]\" multiple disabled\n",
              "        style=\"border:none\" />\n",
              "     <output id=\"result-40bc07be-bf7d-4171-aaa0-b4b91218bcdf\">\n",
              "      Upload widget is only available when the cell has been executed in the\n",
              "      current browser session. Please rerun this cell to enable.\n",
              "      </output>\n",
              "      <script src=\"/nbextensions/google.colab/files.js\"></script> "
            ]
          },
          "metadata": {}
        },
        {
          "output_type": "stream",
          "name": "stdout",
          "text": [
            "Saving REAL_TIME_STREAMING.mp4 to REAL_TIME_STREAMING.mp4\n"
          ]
        }
      ]
    },
    {
      "cell_type": "code",
      "source": [
        "## for large videos\n",
        "!pip install -U kora\n",
        "from kora.drive import upload_public\n",
        "url = upload_public('REAL_TIME_STREAMING.mp4')\n",
        "# then display it\n",
        "from IPython.display import HTML\n",
        "HTML(f\"\"\"<video src={url} width=500 controls/>\"\"\")"
      ],
      "metadata": {
        "colab": {
          "base_uri": "https://localhost:8080/",
          "height": 617
        },
        "id": "KbPM9BHJSnHn",
        "outputId": "1f57ea9e-3b6e-4688-bf52-f3dbc2b0616a"
      },
      "execution_count": null,
      "outputs": [
        {
          "output_type": "stream",
          "name": "stdout",
          "text": [
            "Requirement already satisfied: kora in /usr/local/lib/python3.7/dist-packages (0.9.19)\n",
            "Requirement already satisfied: ipython in /usr/local/lib/python3.7/dist-packages (from kora) (5.5.0)\n",
            "Requirement already satisfied: fastcore in /usr/local/lib/python3.7/dist-packages (from kora) (1.4.2)\n",
            "Requirement already satisfied: pip in /usr/local/lib/python3.7/dist-packages (from fastcore->kora) (21.1.3)\n",
            "Requirement already satisfied: packaging in /usr/local/lib/python3.7/dist-packages (from fastcore->kora) (21.3)\n",
            "Requirement already satisfied: prompt-toolkit<2.0.0,>=1.0.4 in /usr/local/lib/python3.7/dist-packages (from ipython->kora) (1.0.18)\n",
            "Requirement already satisfied: decorator in /usr/local/lib/python3.7/dist-packages (from ipython->kora) (4.4.2)\n",
            "Requirement already satisfied: setuptools>=18.5 in /usr/local/lib/python3.7/dist-packages (from ipython->kora) (57.4.0)\n",
            "Requirement already satisfied: pygments in /usr/local/lib/python3.7/dist-packages (from ipython->kora) (2.6.1)\n",
            "Requirement already satisfied: pickleshare in /usr/local/lib/python3.7/dist-packages (from ipython->kora) (0.7.5)\n",
            "Requirement already satisfied: simplegeneric>0.8 in /usr/local/lib/python3.7/dist-packages (from ipython->kora) (0.8.1)\n",
            "Requirement already satisfied: traitlets>=4.2 in /usr/local/lib/python3.7/dist-packages (from ipython->kora) (5.1.1)\n",
            "Requirement already satisfied: pexpect in /usr/local/lib/python3.7/dist-packages (from ipython->kora) (4.8.0)\n",
            "Requirement already satisfied: wcwidth in /usr/local/lib/python3.7/dist-packages (from prompt-toolkit<2.0.0,>=1.0.4->ipython->kora) (0.2.5)\n",
            "Requirement already satisfied: six>=1.9.0 in /usr/local/lib/python3.7/dist-packages (from prompt-toolkit<2.0.0,>=1.0.4->ipython->kora) (1.15.0)\n",
            "Requirement already satisfied: pyparsing!=3.0.5,>=2.0.2 in /usr/local/lib/python3.7/dist-packages (from packaging->fastcore->kora) (3.0.8)\n",
            "Requirement already satisfied: ptyprocess>=0.5 in /usr/local/lib/python3.7/dist-packages (from pexpect->ipython->kora) (0.7.0)\n"
          ]
        },
        {
          "output_type": "execute_result",
          "data": {
            "text/plain": [
              "<IPython.core.display.HTML object>"
            ],
            "text/html": [
              "<video src=https://drive.google.com/uc?id=1dRDFL2CCnPLaJ1I4Etn33gkKWIPMI_v6 width=500 controls/>"
            ]
          },
          "metadata": {},
          "execution_count": 39
        }
      ]
    },
    {
      "cell_type": "markdown",
      "metadata": {
        "id": "P0scOTLLBi3o"
      },
      "source": [
        "### Exploratory Data Analysis (Carolyn Wright)"
      ]
    },
    {
      "cell_type": "code",
      "execution_count": null,
      "metadata": {
        "colab": {
          "base_uri": "https://localhost:8080/",
          "height": 73,
          "resources": {
            "http://localhost:8080/nbextensions/google.colab/files.js": {
              "data": "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",
              "headers": [
                [
                  "content-type",
                  "application/javascript"
                ]
              ],
              "ok": true,
              "status": 200,
              "status_text": ""
            }
          }
        },
        "id": "ko_FzW52D_jB",
        "outputId": "87e7d2ee-9c58-40e6-98c2-879b36a0d748"
      },
      "outputs": [
        {
          "output_type": "display_data",
          "data": {
            "text/plain": [
              "<IPython.core.display.HTML object>"
            ],
            "text/html": [
              "\n",
              "     <input type=\"file\" id=\"files-b8782bef-e9a2-4a1e-8046-adb06cd5eabc\" name=\"files[]\" multiple disabled\n",
              "        style=\"border:none\" />\n",
              "     <output id=\"result-b8782bef-e9a2-4a1e-8046-adb06cd5eabc\">\n",
              "      Upload widget is only available when the cell has been executed in the\n",
              "      current browser session. Please rerun this cell to enable.\n",
              "      </output>\n",
              "      <script src=\"/nbextensions/google.colab/files.js\"></script> "
            ]
          },
          "metadata": {}
        },
        {
          "output_type": "stream",
          "name": "stdout",
          "text": [
            "Saving Spotify_data.csv to Spotify_data.csv\n"
          ]
        }
      ],
      "source": [
        "from google.colab import files\n",
        "uploaded = files.upload()"
      ]
    },
    {
      "cell_type": "code",
      "execution_count": null,
      "metadata": {
        "colab": {
          "base_uri": "https://localhost:8080/"
        },
        "id": "27OtaHLsBi3o",
        "outputId": "f4b4031a-420b-4b57-96dd-ddf2fe7bf544"
      },
      "outputs": [
        {
          "output_type": "execute_result",
          "data": {
            "text/plain": [
              "DataFrame[valence: string, year: string, acousticness: string, artists: string, danceability: string, duration_ms: string, energy: string, explicit: string, id: string, instrumentalness: string, key: string, liveness: string, loudness: string, mode: string, name: string, popularity: string, release_date: string, speechiness: string, tempo: string]"
            ]
          },
          "metadata": {},
          "execution_count": 8
        }
      ],
      "source": [
        "df_csv1 = spark.read.csv('Spotify_data.csv', header=True)\n",
        "df_csv1"
      ]
    },
    {
      "cell_type": "code",
      "execution_count": null,
      "metadata": {
        "colab": {
          "base_uri": "https://localhost:8080/"
        },
        "id": "fIKZkWyBBi3p",
        "outputId": "6c7293cb-2f11-4f2e-ed26-bf9c410d5ca4"
      },
      "outputs": [
        {
          "name": "stdout",
          "output_type": "stream",
          "text": [
            "+-------+----+------------+--------------------+------------+-----------+------+--------+--------------------+----------------+---+--------+--------+----+--------------------+----------+------------+-----------+-------+\n",
            "|valence|year|acousticness|             artists|danceability|duration_ms|energy|explicit|                  id|instrumentalness|key|liveness|loudness|mode|                name|popularity|release_date|speechiness|  tempo|\n",
            "+-------+----+------------+--------------------+------------+-----------+------+--------+--------------------+----------------+---+--------+--------+----+--------------------+----------+------------+-----------+-------+\n",
            "| 0.0594|1921|       0.982|['Sergei Rachmani...|       0.279|     831667| 0.211|       0|4BJqT0PrAfrxzMOxy...|           0.878| 10|   0.665| -20.096|   1|Piano Concerto No...|         4|        1921|     0.0366| 80.954|\n",
            "|  0.963|1921|       0.732|      ['Dennis Day']|       0.819|     180533| 0.341|       0|7xPhfUan2yNtyFG0c...|               0|  7|    0.16| -12.441|   1|Clancy Lowered th...|         5|        1921|      0.415| 60.936|\n",
            "| 0.0394|1921|       0.961|['KHP Kridhamarda...|       0.328|     500062| 0.166|       0|1o6I8BglA6ylDMrIE...|           0.913|  3|   0.101|  -14.85|   1|           Gati Bali|         5|        1921|     0.0339|110.339|\n",
            "|  0.165|1921|       0.967|    ['Frank Parker']|       0.275|     210000| 0.309|       0|3ftBPsC5vPBKxYSee...|        2.77E-05|  5|   0.381|  -9.316|   1|           Danny Boy|         3|        1921|     0.0354|100.109|\n",
            "|  0.253|1921|       0.957|      ['Phil Regan']|       0.418|     166693| 0.193|       0|4d6HGyGT8e121BsdK...|        1.68E-06|  3|   0.229| -10.096|   1|When Irish Eyes A...|         2|        1921|      0.038|101.665|\n",
            "+-------+----+------------+--------------------+------------+-----------+------+--------+--------------------+----------------+---+--------+--------+----+--------------------+----------+------------+-----------+-------+\n",
            "only showing top 5 rows\n",
            "\n"
          ]
        }
      ],
      "source": [
        "df_csv1.show(5)\n"
      ]
    },
    {
      "cell_type": "code",
      "execution_count": null,
      "metadata": {
        "colab": {
          "base_uri": "https://localhost:8080/"
        },
        "id": "wKZW4NhPBi3p",
        "outputId": "4ff94f02-de6b-4fb0-a5d9-1b1575bf4192"
      },
      "outputs": [
        {
          "data": {
            "text/plain": [
              "170653"
            ]
          },
          "execution_count": 38,
          "metadata": {},
          "output_type": "execute_result"
        }
      ],
      "source": [
        "df_csv1.count()\n"
      ]
    },
    {
      "cell_type": "code",
      "execution_count": null,
      "metadata": {
        "colab": {
          "base_uri": "https://localhost:8080/"
        },
        "id": "uYQz_jQVBi3p",
        "outputId": "ec931dd2-bbcc-440b-8a2e-d8aca61393e1"
      },
      "outputs": [
        {
          "name": "stdout",
          "output_type": "stream",
          "text": [
            "root\n",
            " |-- valence: string (nullable = true)\n",
            " |-- year: string (nullable = true)\n",
            " |-- acousticness: string (nullable = true)\n",
            " |-- artists: string (nullable = true)\n",
            " |-- danceability: string (nullable = true)\n",
            " |-- duration_ms: string (nullable = true)\n",
            " |-- energy: string (nullable = true)\n",
            " |-- explicit: string (nullable = true)\n",
            " |-- id: string (nullable = true)\n",
            " |-- instrumentalness: string (nullable = true)\n",
            " |-- key: string (nullable = true)\n",
            " |-- liveness: string (nullable = true)\n",
            " |-- loudness: string (nullable = true)\n",
            " |-- mode: string (nullable = true)\n",
            " |-- name: string (nullable = true)\n",
            " |-- popularity: string (nullable = true)\n",
            " |-- release_date: string (nullable = true)\n",
            " |-- speechiness: string (nullable = true)\n",
            " |-- tempo: string (nullable = true)\n",
            "\n"
          ]
        }
      ],
      "source": [
        "df_csv1.printSchema()"
      ]
    },
    {
      "cell_type": "code",
      "execution_count": null,
      "metadata": {
        "id": "AxRjUYLIBi3p"
      },
      "outputs": [],
      "source": [
        "#create df with just id info\n",
        "df_csv_id1 = df_csv1.select('year','mode', \"release_date\", \"id\", \"name\", 'artists')\n",
        "#df_csv_id.printSchema()\n",
        "\n",
        "#Drop year, key, mode, release_date and id\n",
        "df_csv1 = df_csv1.drop('year','mode', \"release_date\",\"name\", 'artists')\n",
        "#df_csv.printSchema()"
      ]
    },
    {
      "cell_type": "code",
      "execution_count": null,
      "metadata": {
        "colab": {
          "base_uri": "https://localhost:8080/"
        },
        "id": "4ygXm_zDBi3q",
        "outputId": "82a8c7b3-1697-425c-b1bd-c58a490708d9"
      },
      "outputs": [
        {
          "name": "stdout",
          "output_type": "stream",
          "text": [
            "+-------+------------------+-------------------+-------------------+------------------+-------------------+-------------------+--------------------+-------------------+-----------------+-------------------+-------------------+------------------+-------------------+------------------+\n",
            "|summary|           valence|       acousticness|       danceability|       duration_ms|             energy|           explicit|                  id|   instrumentalness|              key|           liveness|           loudness|        popularity|        speechiness|             tempo|\n",
            "+-------+------------------+-------------------+-------------------+------------------+-------------------+-------------------+--------------------+-------------------+-----------------+-------------------+-------------------+------------------+-------------------+------------------+\n",
            "|  count|            170653|             170653|             170653|            170653|             170653|             170653|              170653|             170653|           170653|             170653|             170653|            170653|             170653|            170653|\n",
            "|   mean|0.5285872111424913| 0.5021147637066987| 0.5373955347986852| 230948.3106655025| 0.4823888351127757|0.08457513199299163|                null|0.16700958082940173|5.199844128143074|0.20583865545873725|-11.467990038264805|31.431794342906365|0.09839326235108377|116.86158961752679|\n",
            "| stddev|0.2631714639897208|0.37603172516204497|0.17613773562606674|126118.41466807344|0.26764570457306297|0.27824922771847416|                null| 0.3134746738769891|3.515093906137164| 0.1748046612590549|  5.697942912369146|  21.8266151392813| 0.1627400724713828|30.708533040433164|\n",
            "|    min|                 0|                  0|                  0|            100000|                  0|                  0|000G1xMMuwxNHmwVs...|                  0|                0|                  0|             -0.007|                 0|                  0|                 0|\n",
            "|    max|          6.41E-05|           9.96E-05|              0.988|             99997|           9.90E-05|                  1|7zzuPsjj9L3M7ikqG...|           9.99E-06|                9|                  1|              3.855|                99|               0.97|            99.999|\n",
            "+-------+------------------+-------------------+-------------------+------------------+-------------------+-------------------+--------------------+-------------------+-----------------+-------------------+-------------------+------------------+-------------------+------------------+\n",
            "\n"
          ]
        }
      ],
      "source": [
        "df_csv1.describe().show()"
      ]
    },
    {
      "cell_type": "code",
      "execution_count": null,
      "metadata": {
        "colab": {
          "base_uri": "https://localhost:8080/"
        },
        "id": "CbUbUAWjBi3q",
        "outputId": "a002b9a4-2b83-4ee9-f4aa-81e0a26a56ff"
      },
      "outputs": [
        {
          "name": "stdout",
          "output_type": "stream",
          "text": [
            "root\n",
            " |-- valence: float (nullable = true)\n",
            " |-- acousticness: float (nullable = true)\n",
            " |-- danceability: float (nullable = true)\n",
            " |-- duration_ms: float (nullable = true)\n",
            " |-- energy: float (nullable = true)\n",
            " |-- explicit: float (nullable = true)\n",
            " |-- id: string (nullable = true)\n",
            " |-- instrumentalness: float (nullable = true)\n",
            " |-- key: float (nullable = true)\n",
            " |-- liveness: float (nullable = true)\n",
            " |-- loudness: float (nullable = true)\n",
            " |-- popularity: float (nullable = true)\n",
            " |-- speechiness: float (nullable = true)\n",
            " |-- tempo: float (nullable = true)\n",
            "\n"
          ]
        }
      ],
      "source": [
        "#Convert features to numeric\n",
        "columns = ['valence',\n",
        " 'acousticness',\n",
        " 'danceability',\n",
        " 'duration_ms',\n",
        " 'energy',\n",
        " 'explicit',\n",
        " 'instrumentalness',\n",
        " 'liveness',\n",
        " 'loudness',\n",
        " 'popularity',\n",
        " 'speechiness',\n",
        " 'tempo',\n",
        " 'key']\n",
        "\n",
        "for c in columns:\n",
        "    df_csv1=df_csv1.withColumn(c, df_csv1[c].cast('float'))\n",
        "\n",
        "df_csv1.printSchema()\n",
        "\n"
      ]
    },
    {
      "cell_type": "code",
      "execution_count": null,
      "metadata": {
        "colab": {
          "base_uri": "https://localhost:8080/",
          "height": 1000
        },
        "id": "OE2grVsoBi3q",
        "outputId": "4bd9c8ac-8ee4-4f3b-d377-af25467a5134"
      },
      "outputs": [
        {
          "data": {
            "image/png": "[encoded data removed]",
            "text/plain": [
              "<Figure size 1152x432 with 4 Axes>"
            ]
          },
          "metadata": {},
          "output_type": "display_data"
        },
        {
          "data": {
            "image/png": "[encoded data removed]",
            "text/plain": [
              "<Figure size 1152x432 with 4 Axes>"
            ]
          },
          "metadata": {},
          "output_type": "display_data"
        },
        {
          "data": {
            "image/png": "[encoded data removed]",
            "text/plain": [
              "<Figure size 1152x432 with 4 Axes>"
            ]
          },
          "metadata": {},
          "output_type": "display_data"
        },
        {
          "data": {
            "image/png": "[encoded data removed]",
            "text/plain": [
              "<Figure size 288x432 with 1 Axes>"
            ]
          },
          "metadata": {},
          "output_type": "display_data"
        }
      ],
      "source": [
        "#Plot density of all features\n",
        "\n",
        "import matplotlib.pyplot as plt\n",
        "import seaborn as sns\n",
        "\n",
        "\n",
        "import warnings\n",
        "warnings.filterwarnings('ignore')\n",
        "\n",
        "df_csv_plot = df_csv1.select('valence', 'acousticness','danceability',\n",
        "                         'duration_ms','explicit','energy',\n",
        "                         'instrumentalness','liveness','loudness',\n",
        "                         'popularity','speechiness','tempo', 'key')\n",
        "\n",
        "df_csv_pd = df_csv_plot.toPandas()\n",
        "\n",
        "\n",
        "### PLOT BUILD\n",
        "fig, ax = plt.subplots(nrows= 1, ncols= 4, figsize=(16,6))\n",
        "\n",
        "for i,col in enumerate(df_csv_pd.columns[0:4]):\n",
        "  sns.distplot(df_csv_pd[col], hist = False, ax=ax[i])\n",
        "\n",
        "fig.suptitle('Density Plots')\n",
        "fig.tight_layout()\n",
        "fig.subplots_adjust(top=0.95)\n",
        "\n",
        "plt.show()\n",
        "plt.clf()\n",
        "plt.close()\n",
        "\n",
        "fig, ax = plt.subplots(nrows= 1, ncols= 4, figsize=(16,6))\n",
        "\n",
        "for i,col in enumerate(df_csv_pd.columns[4:8]):\n",
        "  sns.distplot(df_csv_pd[col], hist = False, ax=ax[i])\n",
        "\n",
        "fig.tight_layout()\n",
        "fig.subplots_adjust(top=0.95)\n",
        "\n",
        "plt.show()\n",
        "plt.clf()\n",
        "plt.close()\n",
        "\n",
        "fig, ax = plt.subplots(nrows= 1, ncols= 4, figsize=(16,6))\n",
        "\n",
        "for i,col in enumerate(df_csv_pd.columns[8:12]):\n",
        "  sns.distplot(df_csv_pd[col], hist = False, ax=ax[i])\n",
        "\n",
        "fig.tight_layout()\n",
        "fig.subplots_adjust(top=0.95)\n",
        "\n",
        "plt.show()\n",
        "plt.clf()\n",
        "plt.close()\n",
        "\n",
        "df_csv_plot = df_csv1.select( 'key')\n",
        "\n",
        "df_csv_pd = df_csv_plot.toPandas()\n",
        "fig, ax = plt.subplots(nrows= 1, ncols= 1, figsize=(4,6))\n",
        "\n",
        "sns.distplot(df_csv_pd, hist = False)\n",
        "\n",
        "\n",
        "fig.tight_layout()\n",
        "fig.subplots_adjust(top=0.95)\n",
        "\n",
        "plt.show()\n",
        "plt.clf()\n",
        "plt.close()\n"
      ]
    },
    {
      "cell_type": "code",
      "execution_count": null,
      "metadata": {
        "colab": {
          "base_uri": "https://localhost:8080/"
        },
        "id": "vNO5FEMiBi3r",
        "outputId": "650edbe6-3488-4b4c-9280-6bc499c3fe3f"
      },
      "outputs": [
        {
          "name": "stdout",
          "output_type": "stream",
          "text": [
            "After Scaling :\n",
            "+-------+------------+------------+-----------+------+--------+--------------------+----------------+----+--------+--------+----------+-----------+-------+--------------+-------------------+-------------------+------------------+-------------+---------------+-----------------------+---------------+---------------+-----------------+------------------+------------+----------+\n",
            "|valence|acousticness|danceability|duration_ms|energy|explicit|                  id|instrumentalness| key|liveness|loudness|popularity|speechiness|  tempo|valence_Scaled|acousticness_Scaled|danceability_Scaled|duration_ms_Scaled|energy_Scaled|explicit_Scaled|instrumentalness_Scaled|liveness_Scaled|loudness_Scaled|popularity_Scaled|speechiness_Scaled|tempo_Scaled|key_Scaled|\n",
            "+-------+------------+------------+-----------+------+--------+--------------------+----------------+----+--------+--------+----------+-----------+-------+--------------+-------------------+-------------------+------------------+-------------+---------------+-----------------------+---------------+---------------+-----------------+------------------+------------+----------+\n",
            "| 0.0594|       0.982|       0.279|   831667.0| 0.211|     0.0|4BJqT0PrAfrxzMOxy...|           0.878|10.0|   0.665| -20.096|       4.0|     0.0366| 80.954|         0.059|              0.986|              0.282|             0.153|        0.211|            0.0|                  0.878|          0.665|          0.625|             0.04|             0.038|       0.332|     0.909|\n",
            "|  0.963|       0.732|       0.819|   180533.0| 0.341|     0.0|7xPhfUan2yNtyFG0c...|             0.0| 7.0|    0.16| -12.441|       5.0|      0.415| 60.936|         0.963|              0.735|              0.829|             0.032|        0.341|            0.0|                    0.0|           0.16|          0.745|             0.05|             0.428|        0.25|     0.636|\n",
            "| 0.0394|       0.961|       0.328|   500062.0| 0.166|     0.0|1o6I8BglA6ylDMrIE...|           0.913| 3.0|   0.101|  -14.85|       5.0|     0.0339|110.339|         0.039|              0.965|              0.332|             0.092|        0.166|            0.0|                  0.913|          0.101|          0.707|             0.05|             0.035|       0.453|     0.273|\n",
            "|  0.165|       0.967|       0.275|   210000.0| 0.309|     0.0|3ftBPsC5vPBKxYSee...|         2.77E-5| 5.0|   0.381|  -9.316|       3.0|     0.0354|100.109|         0.165|              0.971|              0.278|             0.038|        0.309|            0.0|                    0.0|          0.381|          0.794|             0.03|             0.036|       0.411|     0.455|\n",
            "|  0.253|       0.957|       0.418|   166693.0| 0.193|     0.0|4d6HGyGT8e121BsdK...|         1.68E-6| 3.0|   0.229| -10.096|       2.0|      0.038|101.665|         0.253|              0.961|              0.423|              0.03|        0.193|            0.0|                    0.0|          0.229|          0.782|             0.02|             0.039|       0.418|     0.273|\n",
            "+-------+------------+------------+-----------+------+--------+--------------------+----------------+----+--------+--------+----------+-----------+-------+--------------+-------------------+-------------------+------------------+-------------+---------------+-----------------------+---------------+---------------+-----------------+------------------+------------+----------+\n",
            "only showing top 5 rows\n",
            "\n"
          ]
        }
      ],
      "source": [
        "#Scale variables for machine learning models\n",
        "\n",
        "from pyspark.ml.feature import MinMaxScaler\n",
        "from pyspark.ml.feature import VectorAssembler\n",
        "from pyspark.ml import Pipeline\n",
        "from pyspark.sql.functions import udf\n",
        "from pyspark.sql.types import DoubleType\n",
        "\n",
        "# UDF for converting column type from vector to double type\n",
        "unlist = udf(lambda x: round(float(list(x)[0]),3), DoubleType())\n",
        "\n",
        "\n",
        "for c in columns:\n",
        "    # VectorAssembler Transformation - Converting column to vector type\n",
        "    assembler = VectorAssembler(inputCols=[c],outputCol=c+\"_Vect\")\n",
        "\n",
        "    # MinMaxScaler Transformation\n",
        "    scaler = MinMaxScaler(inputCol=c+\"_Vect\", outputCol=c+\"_Scaled\")\n",
        "\n",
        "    # Pipeline of VectorAssembler and MinMaxScaler\n",
        "    pipeline = Pipeline(stages=[assembler, scaler])\n",
        "\n",
        "    # Fitting pipeline on dataframe\n",
        "    df_csv1 = pipeline.fit(df_csv1).transform(df_csv1).withColumn(c+\"_Scaled\", unlist(c+\"_Scaled\")).drop(c+\"_Vect\")\n",
        "\n",
        "print(\"After Scaling :\")\n",
        "df_csv1.show(5)\n"
      ]
    },
    {
      "cell_type": "code",
      "execution_count": null,
      "metadata": {
        "colab": {
          "base_uri": "https://localhost:8080/",
          "height": 1000
        },
        "id": "6wwf6AsjBi3r",
        "outputId": "cf791575-49d9-4c04-b46d-2bf7cd53b33d"
      },
      "outputs": [
        {
          "data": {
            "image/png": "[encoded data removed]",
            "text/plain": [
              "<Figure size 1152x432 with 4 Axes>"
            ]
          },
          "metadata": {},
          "output_type": "display_data"
        },
        {
          "data": {
            "image/png": "[encoded data removed]",
            "text/plain": [
              "<Figure size 1152x432 with 4 Axes>"
            ]
          },
          "metadata": {},
          "output_type": "display_data"
        },
        {
          "data": {
            "image/png": "[encoded data removed]",
            "text/plain": [
              "<Figure size 1152x432 with 4 Axes>"
            ]
          },
          "metadata": {},
          "output_type": "display_data"
        },
        {
          "data": {
            "image/png": "[encoded data removed]",
            "text/plain": [
              "<Figure size 288x432 with 1 Axes>"
            ]
          },
          "metadata": {},
          "output_type": "display_data"
        }
      ],
      "source": [
        "#plot variables after scaling to confirm\n",
        "\n",
        "df_csv_pd = df_csv1['valence_Scaled', 'acousticness_Scaled', 'danceability_Scaled', 'duration_ms_Scaled', \n",
        "                   'energy_Scaled', 'explicit', 'instrumentalness_Scaled', 'liveness_Scaled', \n",
        "                   'loudness_Scaled', 'popularity_Scaled', 'speechiness_Scaled', 'tempo_Scaled', 'key_Scaled'].toPandas()\n",
        "warnings.filterwarnings('ignore')\n",
        "\n",
        "\n",
        "### PLOT BUILD\n",
        "fig, ax = plt.subplots(nrows= 1, ncols= 4, figsize=(16,6))\n",
        "\n",
        "for i,col in enumerate(df_csv_pd.columns[0:4]):\n",
        "  sns.distplot(df_csv_pd[col], hist = False, ax=ax[i])\n",
        "\n",
        "fig.suptitle('Density Plots')\n",
        "fig.tight_layout()\n",
        "fig.subplots_adjust(top=0.95)\n",
        "\n",
        "plt.show()\n",
        "plt.clf()\n",
        "plt.close()\n",
        "\n",
        "fig, ax = plt.subplots(nrows= 1, ncols= 4, figsize=(16,6))\n",
        "\n",
        "for i,col in enumerate(df_csv_pd.columns[4:8]):\n",
        "  sns.distplot(df_csv_pd[col], hist = False, ax=ax[i])\n",
        "\n",
        "fig.tight_layout()\n",
        "fig.subplots_adjust(top=0.95)\n",
        "\n",
        "plt.show()\n",
        "plt.clf()\n",
        "plt.close()\n",
        "\n",
        "fig, ax = plt.subplots(nrows= 1, ncols= 4, figsize=(16,6))\n",
        "\n",
        "for i,col in enumerate(df_csv_pd.columns[8:12]):\n",
        "  sns.distplot(df_csv_pd[col], hist = False, ax=ax[i])\n",
        "\n",
        "fig.tight_layout()\n",
        "fig.subplots_adjust(top=0.95)\n",
        "\n",
        "plt.show()\n",
        "plt.clf()\n",
        "plt.close()\n",
        "\n",
        "df_csv_plot = df_csv1.select( 'key_Scaled')\n",
        "\n",
        "df_csv_pd = df_csv_plot.toPandas()\n",
        "\n",
        "fig, ax = plt.subplots(nrows= 1, ncols= 1, figsize=(4,6))\n",
        "\n",
        "sns.distplot(df_csv_pd, hist = False)\n",
        "\n",
        "\n",
        "fig.tight_layout()\n",
        "fig.subplots_adjust(top=0.95)\n",
        "\n",
        "plt.show()\n",
        "plt.clf()\n",
        "plt.close()\n"
      ]
    },
    {
      "cell_type": "code",
      "execution_count": null,
      "metadata": {
        "colab": {
          "base_uri": "https://localhost:8080/"
        },
        "id": "qRrsWw3NQALl",
        "outputId": "47e08d75-def5-43df-ab5d-0a19f4796906"
      },
      "outputs": [
        {
          "name": "stdout",
          "output_type": "stream",
          "text": [
            "root\n",
            " |-- id: string (nullable = true)\n",
            " |-- year: string (nullable = true)\n",
            " |-- mode: string (nullable = true)\n",
            " |-- release_date: string (nullable = true)\n",
            " |-- name: string (nullable = true)\n",
            " |-- artists: string (nullable = true)\n",
            " |-- explicit: float (nullable = true)\n",
            " |-- valence_Scaled: double (nullable = true)\n",
            " |-- acousticness_Scaled: double (nullable = true)\n",
            " |-- danceability_Scaled: double (nullable = true)\n",
            " |-- duration_ms_Scaled: double (nullable = true)\n",
            " |-- energy_Scaled: double (nullable = true)\n",
            " |-- instrumentalness_Scaled: double (nullable = true)\n",
            " |-- liveness_Scaled: double (nullable = true)\n",
            " |-- loudness_Scaled: double (nullable = true)\n",
            " |-- popularity_Scaled: double (nullable = true)\n",
            " |-- speechiness_Scaled: double (nullable = true)\n",
            " |-- tempo_Scaled: double (nullable = true)\n",
            " |-- key_Scaled: double (nullable = true)\n",
            "\n"
          ]
        }
      ],
      "source": [
        "#join scaled vars back with id info vars \n",
        "df_csv_1 = df_csv_id1.join(df_csv1, \"id\")\n",
        "df_csv_1.count()\n",
        "\n",
        "df_csv_1 = df_csv_1.drop('valence', 'acousticness','danceability',\n",
        "                         'duration_ms','energy', 'explicit_Scaled',\n",
        "                         'instrumentalness','liveness','loudness',\n",
        "                         'popularity','speechiness','tempo', 'key')\n",
        "df_csv_1.printSchema()"
      ]
    },
    {
      "cell_type": "code",
      "execution_count": null,
      "metadata": {
        "colab": {
          "base_uri": "https://localhost:8080/"
        },
        "id": "y5M8MUWfFJXt",
        "outputId": "0ff9dbab-e6e6-4f6a-bff9-72144ad0f372"
      },
      "outputs": [
        {
          "name": "stdout",
          "output_type": "stream",
          "text": [
            "+--------------------+----+----+------------+--------------------+--------------------+--------+-------+------------+------------+-----------+------+----------------+--------+--------+----------+-----------+-----+-----+\n",
            "|                  id|year|mode|release_date|                name|             artists|explicit|valence|acousticness|danceability|duration_ms|energy|instrumentalness|liveness|loudness|popularity|speechiness|tempo|  key|\n",
            "+--------------------+----+----+------------+--------------------+--------------------+--------+-------+------------+------------+-----------+------+----------------+--------+--------+----------+-----------+-----+-----+\n",
            "|4BJqT0PrAfrxzMOxy...|1921|   1|        1921|Piano Concerto No...|['Sergei Rachmani...|     0.0|  0.059|       0.986|       0.282|      0.153| 0.211|           0.878|   0.665|   0.625|      0.04|      0.038|0.332|0.909|\n",
            "|7xPhfUan2yNtyFG0c...|1921|   1|        1921|Clancy Lowered th...|      ['Dennis Day']|     0.0|  0.963|       0.735|       0.829|      0.032| 0.341|             0.0|    0.16|   0.745|      0.05|      0.428| 0.25|0.636|\n",
            "|1o6I8BglA6ylDMrIE...|1921|   1|        1921|           Gati Bali|['KHP Kridhamarda...|     0.0|  0.039|       0.965|       0.332|      0.092| 0.166|           0.913|   0.101|   0.707|      0.05|      0.035|0.453|0.273|\n",
            "|3ftBPsC5vPBKxYSee...|1921|   1|        1921|           Danny Boy|    ['Frank Parker']|     0.0|  0.165|       0.971|       0.278|      0.038| 0.309|             0.0|   0.381|   0.794|      0.03|      0.036|0.411|0.455|\n",
            "|4d6HGyGT8e121BsdK...|1921|   1|        1921|When Irish Eyes A...|      ['Phil Regan']|     0.0|  0.253|       0.961|       0.423|       0.03| 0.193|             0.0|   0.229|   0.782|      0.02|      0.039|0.418|0.273|\n",
            "|4pyw9DVHGStUre4J6...|1921|   1|        1921|        Gati Mardika|['KHP Kridhamarda...|     0.0|  0.196|       0.581|       0.705|      0.072| 0.346|           0.168|    0.13|   0.744|      0.06|      0.072|0.492|0.182|\n",
            "|5uNZnElqOS3W4fRmR...|1921|   1|        1921|The Wearing of th...|  ['John McCormack']|     0.0|  0.406|         1.0|       0.524|      0.029| 0.203|             0.0|   0.115|   0.774|      0.04|      0.063|0.272|  0.0|\n",
            "|02GDntOXexBFUvSga...|1921|   0|        1921|Morceaux de fanta...|['Sergei Rachmani...|     0.0|  0.073|       0.997|       0.394|       0.04| 0.088|           0.527|   0.363|   0.609|      0.02|      0.047|0.381|0.091|\n",
            "|05xDjWH9ub67nJJk8...|1921|   0|     3/20/21|La Mañanita - Rem...| ['Ignacio Corsini']|     0.0|  0.721|         1.0|       0.491|      0.029|  0.13|           0.151|   0.104|   0.603|       0.0|       0.05|0.266|0.455|\n",
            "|08zfJvRLp7pjAb94M...|1921|   1|        1921|   Il Etait Syndiqué|         ['Fortugé']|     0.0|  0.771|       0.986|       0.692|      0.035| 0.257|             0.0|   0.504|   0.683|       0.0|      0.411|0.449|0.727|\n",
            "|0BMkRpQtDoKjcgzCp...|1921|   1|        1921|Dans La Vie Faut ...|['Maurice Chevali...|     0.0|  0.826|       0.999|       0.469|      0.026|  0.26|             0.0|   0.258|   0.675|       0.0|      0.057| 0.35|0.818|\n",
            "|0F30WM8qRpO8kdole...|1921|   0|     3/20/21|Por Que Me Dejast...| ['Ignacio Corsini']|     0.0|  0.578|       0.998|       0.383|      0.028| 0.115|           0.906|    0.11|   0.516|       0.0|      0.043|0.289|0.909|\n",
            "|0H3k2CvJvHULnWChl...|1921|   0|        1921|           La Vipère|         ['Georgel']|     0.0|  0.493|       0.994|       0.319|      0.034| 0.363|             0.0|   0.292|   0.743|       0.0|      0.056|0.717|0.455|\n",
            "|0LcXzABeA84Egudqp...|1921|   0|        1921|          Ud Taksimi| ['Mehmet Kemiksiz']|     0.0|  0.212|       0.916|        0.42|      0.033|  0.42|            0.89|   0.108|   0.771|       0.0|      0.118|0.291|0.727|\n",
            "|0MJZ4hh60zwsYleWW...|1921|   1|     3/27/21|      Power Is Power|      ['Zay Gatsby']|     1.0|  0.493|       0.018|       0.533|      0.037| 0.691|           0.384|   0.358|   0.825|       0.0|      0.034|0.657|0.636|\n",
            "|0NFeJgmTAV1kDfzSQ...|1921|   0|        1921|10 Préludes; Op. ...|['Sergei Rachmani...|     0.0|  0.282|       0.993|       0.389|       0.04| 0.171|            0.82|   0.116|   0.619|      0.04|      0.033|0.442|0.636|\n",
            "|0Nk5f07H3JaEunGrY...|1921|   1|        1921|   Come Back To Erin|      ['Phil Regan']|     0.0|  0.218|       0.961|       0.262|      0.034| 0.212|             0.0|   0.236|   0.731|      0.01|      0.037|0.352|0.182|\n",
            "|0POO8XaUgW5Qjbv9s...|1921|   1|        1921|       Rákóczy March|['Hector Berlioz'...|     0.0|  0.664|         1.0|       0.548|      0.046| 0.283|           0.898|   0.393|   0.708|       0.0|      0.049|0.448|0.818|\n",
            "|0QQmUf4aPFaN9U2yR...|1921|   0|     9/11/21|         When We Die|         ['THE GUY']|     1.0|  0.078|       0.149|       0.611|      0.037| 0.418|           0.038|   0.102|   0.758|       0.0|      0.043|0.329|0.364|\n",
            "|0QU5xT6Mik4vpyt1I...|1921|   0|        1921|  A Ballynure Ballad|['Christopher Lyn...|     0.0|  0.527|       0.975|       0.547|      0.022| 0.085|           0.002|   0.089|   0.688|       0.0|      0.077|0.412|0.455|\n",
            "+--------------------+----+----+------------+--------------------+--------------------+--------+-------+------------+------------+-----------+------+----------------+--------+--------+----------+-----------+-----+-----+\n",
            "only showing top 20 rows\n",
            "\n"
          ]
        }
      ],
      "source": [
        "#replace original vars with scaled\n",
        "df_csv_1 = df_csv_1.withColumnRenamed(\"valence_Scaled\",\"valence\")\\\n",
        ".withColumnRenamed(\"energy_Scaled\",\"energy\")\\\n",
        ".withColumnRenamed(\"acousticness_Scaled\",\"acousticness\")\\\n",
        ".withColumnRenamed(\"danceability_Scaled\",\"danceability\")\\\n",
        ".withColumnRenamed(\"duration_ms_Scaled\",\"duration_ms\")\\\n",
        ".withColumnRenamed(\"instrumentalness_Scaled\",\"instrumentalness\")\\\n",
        ".withColumnRenamed(\"liveness_Scaled\",\"liveness\")\\\n",
        ".withColumnRenamed(\"popularity_Scaled\",\"popularity\")\\\n",
        ".withColumnRenamed(\"speechiness_Scaled\",\"speechiness\")\\\n",
        ".withColumnRenamed(\"tempo_Scaled\",\"tempo\")\\\n",
        ".withColumnRenamed(\"loudness_Scaled\",\"loudness\")\\\n",
        ".withColumnRenamed(\"key_Scaled\",\"key\")\n",
        "\n",
        "df_csv_1.show()"
      ]
    },
    {
      "cell_type": "code",
      "execution_count": null,
      "metadata": {
        "colab": {
          "base_uri": "https://localhost:8080/"
        },
        "id": "Faz0M9josrSK",
        "outputId": "c55be73a-c515-4ef5-a5b5-0af77a8dbb09"
      },
      "outputs": [
        {
          "name": "stdout",
          "output_type": "stream",
          "text": [
            "root\n",
            " |-- id: string (nullable = true)\n",
            " |-- year: string (nullable = true)\n",
            " |-- mode: string (nullable = true)\n",
            " |-- release_date: string (nullable = true)\n",
            " |-- name: string (nullable = true)\n",
            " |-- artists: string (nullable = true)\n",
            " |-- explicit: float (nullable = true)\n",
            " |-- valence: float (nullable = true)\n",
            " |-- acousticness: float (nullable = true)\n",
            " |-- danceability: float (nullable = true)\n",
            " |-- duration_ms: float (nullable = true)\n",
            " |-- energy: float (nullable = true)\n",
            " |-- instrumentalness: float (nullable = true)\n",
            " |-- liveness: float (nullable = true)\n",
            " |-- loudness: float (nullable = true)\n",
            " |-- popularity: float (nullable = true)\n",
            " |-- speechiness: float (nullable = true)\n",
            " |-- tempo: float (nullable = true)\n",
            " |-- key: float (nullable = true)\n",
            "\n"
          ]
        }
      ],
      "source": [
        "#Convert features to numeric\n",
        "columns = ['valence',\n",
        " 'acousticness',\n",
        " 'danceability',\n",
        " 'duration_ms',\n",
        " 'energy',\n",
        " 'instrumentalness',\n",
        " 'liveness',\n",
        " 'loudness',\n",
        " 'popularity',\n",
        " 'speechiness',\n",
        " 'tempo',\n",
        " 'explicit',\n",
        " 'key']\n",
        " \n",
        "for c in columns:\n",
        "    df_csv_1=df_csv_1.withColumn(c, df_csv_1[c].cast('float'))\n",
        "\n",
        "df_csv_1.printSchema()"
      ]
    },
    {
      "cell_type": "code",
      "execution_count": null,
      "metadata": {
        "colab": {
          "base_uri": "https://localhost:8080/"
        },
        "id": "hxEY6LDBqlzU",
        "outputId": "559d90c9-37ec-441b-cbb1-dfb3100c5814"
      },
      "outputs": [
        {
          "name": "stdout",
          "output_type": "stream",
          "text": [
            "root\n",
            " |-- id: string (nullable = true)\n",
            " |-- year: string (nullable = true)\n",
            " |-- mode: string (nullable = true)\n",
            " |-- release_date: string (nullable = true)\n",
            " |-- name: string (nullable = true)\n",
            " |-- artists: string (nullable = true)\n",
            " |-- explicit: float (nullable = true)\n",
            " |-- valence: float (nullable = true)\n",
            " |-- acousticness: float (nullable = true)\n",
            " |-- danceability: float (nullable = true)\n",
            " |-- duration_ms: float (nullable = true)\n",
            " |-- energy: float (nullable = true)\n",
            " |-- instrumentalness: float (nullable = true)\n",
            " |-- liveness: float (nullable = true)\n",
            " |-- loudness: float (nullable = true)\n",
            " |-- popularity: float (nullable = true)\n",
            " |-- speechiness: float (nullable = true)\n",
            " |-- tempo: float (nullable = true)\n",
            " |-- key: float (nullable = true)\n",
            "\n"
          ]
        }
      ],
      "source": [
        "df_csv_1.printSchema()"
      ]
    },
    {
      "cell_type": "code",
      "execution_count": null,
      "metadata": {
        "colab": {
          "base_uri": "https://localhost:8080/",
          "height": 456
        },
        "id": "4C7FhgDaOjuZ",
        "outputId": "a19408e5-1e9d-4c6b-ff17-412138e32f98"
      },
      "outputs": [
        {
          "data": {
            "text/html": [
              "<style type=\"text/css\">\n",
              "#T_a1553_row0_col0, #T_a1553_row1_col1, #T_a1553_row2_col2, #T_a1553_row3_col3, #T_a1553_row4_col4, #T_a1553_row5_col5, #T_a1553_row6_col6, #T_a1553_row7_col7, #T_a1553_row8_col8, #T_a1553_row9_col9, #T_a1553_row10_col10, #T_a1553_row11_col11, #T_a1553_row12_col12 {\n",
              "  background-color: #b40426;\n",
              "  color: #f1f1f1;\n",
              "}\n",
              "#T_a1553_row0_col1, #T_a1553_row1_col6, #T_a1553_row4_col11 {\n",
              "  background-color: #6a8bef;\n",
              "  color: #f1f1f1;\n",
              "}\n",
              "#T_a1553_row0_col2 {\n",
              "  background-color: #9abbff;\n",
              "  color: #000000;\n",
              "}\n",
              "#T_a1553_row0_col3 {\n",
              "  background-color: #c3d5f4;\n",
              "  color: #000000;\n",
              "}\n",
              "#T_a1553_row0_col4 {\n",
              "  background-color: #5f7fe8;\n",
              "  color: #f1f1f1;\n",
              "}\n",
              "#T_a1553_row0_col5 {\n",
              "  background-color: #dedcdb;\n",
              "  color: #000000;\n",
              "}\n",
              "#T_a1553_row0_col6, #T_a1553_row12_col1 {\n",
              "  background-color: #779af7;\n",
              "  color: #f1f1f1;\n",
              "}\n",
              "#T_a1553_row0_col7 {\n",
              "  background-color: #6282ea;\n",
              "  color: #f1f1f1;\n",
              "}\n",
              "#T_a1553_row0_col8, #T_a1553_row4_col5 {\n",
              "  background-color: #cfdaea;\n",
              "  color: #000000;\n",
              "}\n",
              "#T_a1553_row0_col9 {\n",
              "  background-color: #d9dce1;\n",
              "  color: #000000;\n",
              "}\n",
              "#T_a1553_row0_col10, #T_a1553_row7_col5 {\n",
              "  background-color: #dddcdc;\n",
              "  color: #000000;\n",
              "}\n",
              "#T_a1553_row0_col11, #T_a1553_row1_col0 {\n",
              "  background-color: #7597f6;\n",
              "  color: #f1f1f1;\n",
              "}\n",
              "#T_a1553_row0_col12 {\n",
              "  background-color: #4257c9;\n",
              "  color: #f1f1f1;\n",
              "}\n",
              "#T_a1553_row1_col2 {\n",
              "  background-color: #a6c4fe;\n",
              "  color: #000000;\n",
              "}\n",
              "#T_a1553_row1_col3, #T_a1553_row8_col9 {\n",
              "  background-color: #f7bca1;\n",
              "  color: #000000;\n",
              "}\n",
              "#T_a1553_row1_col4, #T_a1553_row2_col0, #T_a1553_row2_col5, #T_a1553_row2_col8, #T_a1553_row2_col9, #T_a1553_row2_col11, #T_a1553_row2_col12, #T_a1553_row3_col7, #T_a1553_row5_col2, #T_a1553_row6_col1, #T_a1553_row6_col3, #T_a1553_row8_col6, #T_a1553_row9_col10 {\n",
              "  background-color: #3b4cc0;\n",
              "  color: #f1f1f1;\n",
              "}\n",
              "#T_a1553_row1_col5, #T_a1553_row3_col1 {\n",
              "  background-color: #f5c2aa;\n",
              "  color: #000000;\n",
              "}\n",
              "#T_a1553_row1_col7, #T_a1553_row2_col4 {\n",
              "  background-color: #5875e1;\n",
              "  color: #f1f1f1;\n",
              "}\n",
              "#T_a1553_row1_col8 {\n",
              "  background-color: #ebd3c6;\n",
              "  color: #000000;\n",
              "}\n",
              "#T_a1553_row1_col9, #T_a1553_row9_col3 {\n",
              "  background-color: #b7cff9;\n",
              "  color: #000000;\n",
              "}\n",
              "#T_a1553_row1_col10 {\n",
              "  background-color: #7699f6;\n",
              "  color: #f1f1f1;\n",
              "}\n",
              "#T_a1553_row1_col11, #T_a1553_row7_col9 {\n",
              "  background-color: #a3c2fe;\n",
              "  color: #000000;\n",
              "}\n",
              "#T_a1553_row1_col12, #T_a1553_row5_col12, #T_a1553_row6_col7 {\n",
              "  background-color: #4961d2;\n",
              "  color: #f1f1f1;\n",
              "}\n",
              "#T_a1553_row2_col1 {\n",
              "  background-color: #3e51c5;\n",
              "  color: #f1f1f1;\n",
              "}\n",
              "#T_a1553_row2_col3 {\n",
              "  background-color: #3d50c3;\n",
              "  color: #f1f1f1;\n",
              "}\n",
              "#T_a1553_row2_col6 {\n",
              "  background-color: #e3d9d3;\n",
              "  color: #000000;\n",
              "}\n",
              "#T_a1553_row2_col7 {\n",
              "  background-color: #4f69d9;\n",
              "  color: #f1f1f1;\n",
              "}\n",
              "#T_a1553_row2_col10, #T_a1553_row4_col3, #T_a1553_row8_col2 {\n",
              "  background-color: #5b7ae5;\n",
              "  color: #f1f1f1;\n",
              "}\n",
              "#T_a1553_row3_col0, #T_a1553_row5_col3 {\n",
              "  background-color: #bed2f6;\n",
              "  color: #000000;\n",
              "}\n",
              "#T_a1553_row3_col2 {\n",
              "  background-color: #96b7ff;\n",
              "  color: #000000;\n",
              "}\n",
              "#T_a1553_row3_col4, #T_a1553_row3_col12, #T_a1553_row10_col12 {\n",
              "  background-color: #485fd1;\n",
              "  color: #f1f1f1;\n",
              "}\n",
              "#T_a1553_row3_col5 {\n",
              "  background-color: #ead4c8;\n",
              "  color: #000000;\n",
              "}\n",
              "#T_a1553_row3_col6, #T_a1553_row5_col6, #T_a1553_row10_col4, #T_a1553_row12_col7 {\n",
              "  background-color: #5673e0;\n",
              "  color: #f1f1f1;\n",
              "}\n",
              "#T_a1553_row3_col8 {\n",
              "  background-color: #e7d7ce;\n",
              "  color: #000000;\n",
              "}\n",
              "#T_a1553_row3_col9 {\n",
              "  background-color: #dadce0;\n",
              "  color: #000000;\n",
              "}\n",
              "#T_a1553_row3_col10, #T_a1553_row4_col6, #T_a1553_row9_col0 {\n",
              "  background-color: #afcafc;\n",
              "  color: #000000;\n",
              "}\n",
              "#T_a1553_row3_col11, #T_a1553_row6_col9, #T_a1553_row12_col11 {\n",
              "  background-color: #7295f4;\n",
              "  color: #f1f1f1;\n",
              "}\n",
              "#T_a1553_row4_col0, #T_a1553_row8_col4, #T_a1553_row12_col4 {\n",
              "  background-color: #6c8ff1;\n",
              "  color: #f1f1f1;\n",
              "}\n",
              "#T_a1553_row4_col1, #T_a1553_row6_col12 {\n",
              "  background-color: #3c4ec2;\n",
              "  color: #f1f1f1;\n",
              "}\n",
              "#T_a1553_row4_col2 {\n",
              "  background-color: #bbd1f8;\n",
              "  color: #000000;\n",
              "}\n",
              "#T_a1553_row4_col7 {\n",
              "  background-color: #6485ec;\n",
              "  color: #f1f1f1;\n",
              "}\n",
              "#T_a1553_row4_col8 {\n",
              "  background-color: #b2ccfb;\n",
              "  color: #000000;\n",
              "}\n",
              "#T_a1553_row4_col9, #T_a1553_row10_col3 {\n",
              "  background-color: #c0d4f5;\n",
              "  color: #000000;\n",
              "}\n",
              "#T_a1553_row4_col10 {\n",
              "  background-color: #516ddb;\n",
              "  color: #f1f1f1;\n",
              "}\n",
              "#T_a1553_row4_col12 {\n",
              "  background-color: #3f53c6;\n",
              "  color: #f1f1f1;\n",
              "}\n",
              "#T_a1553_row5_col0 {\n",
              "  background-color: #9fbfff;\n",
              "  color: #000000;\n",
              "}\n",
              "#T_a1553_row5_col1 {\n",
              "  background-color: #d2dbe8;\n",
              "  color: #000000;\n",
              "}\n",
              "#T_a1553_row5_col4 {\n",
              "  background-color: #7a9df8;\n",
              "  color: #f1f1f1;\n",
              "}\n",
              "#T_a1553_row5_col7, #T_a1553_row10_col1, #T_a1553_row10_col6 {\n",
              "  background-color: #7da0f9;\n",
              "  color: #f1f1f1;\n",
              "}\n",
              "#T_a1553_row5_col8 {\n",
              "  background-color: #e16751;\n",
              "  color: #f1f1f1;\n",
              "}\n",
              "#T_a1553_row5_col9 {\n",
              "  background-color: #f7b599;\n",
              "  color: #000000;\n",
              "}\n",
              "#T_a1553_row5_col10 {\n",
              "  background-color: #5572df;\n",
              "  color: #f1f1f1;\n",
              "}\n",
              "#T_a1553_row5_col11 {\n",
              "  background-color: #bad0f8;\n",
              "  color: #000000;\n",
              "}\n",
              "#T_a1553_row6_col0, #T_a1553_row6_col11 {\n",
              "  background-color: #5470de;\n",
              "  color: #f1f1f1;\n",
              "}\n",
              "#T_a1553_row6_col2 {\n",
              "  background-color: #f3c7b1;\n",
              "  color: #000000;\n",
              "}\n",
              "#T_a1553_row6_col4 {\n",
              "  background-color: #86a9fc;\n",
              "  color: #f1f1f1;\n",
              "}\n",
              "#T_a1553_row6_col5 {\n",
              "  background-color: #93b5fe;\n",
              "  color: #000000;\n",
              "}\n",
              "#T_a1553_row6_col8, #T_a1553_row9_col2, #T_a1553_row11_col7 {\n",
              "  background-color: #5977e3;\n",
              "  color: #f1f1f1;\n",
              "}\n",
              "#T_a1553_row6_col10 {\n",
              "  background-color: #465ecf;\n",
              "  color: #f1f1f1;\n",
              "}\n",
              "#T_a1553_row7_col0 {\n",
              "  background-color: #85a8fc;\n",
              "  color: #f1f1f1;\n",
              "}\n",
              "#T_a1553_row7_col1 {\n",
              "  background-color: #7093f3;\n",
              "  color: #f1f1f1;\n",
              "}\n",
              "#T_a1553_row7_col2, #T_a1553_row12_col2 {\n",
              "  background-color: #c5d6f2;\n",
              "  color: #000000;\n",
              "}\n",
              "#T_a1553_row7_col3, #T_a1553_row11_col4, #T_a1553_row11_col10 {\n",
              "  background-color: #6687ed;\n",
              "  color: #f1f1f1;\n",
              "}\n",
              "#T_a1553_row7_col4, #T_a1553_row12_col0 {\n",
              "  background-color: #7b9ff9;\n",
              "  color: #f1f1f1;\n",
              "}\n",
              "#T_a1553_row7_col6, #T_a1553_row10_col9 {\n",
              "  background-color: #8fb1fe;\n",
              "  color: #000000;\n",
              "}\n",
              "#T_a1553_row7_col8 {\n",
              "  background-color: #bfd3f6;\n",
              "  color: #000000;\n",
              "}\n",
              "#T_a1553_row7_col10 {\n",
              "  background-color: #90b2fe;\n",
              "  color: #000000;\n",
              "}\n",
              "#T_a1553_row7_col11, #T_a1553_row9_col1 {\n",
              "  background-color: #7396f5;\n",
              "  color: #f1f1f1;\n",
              "}\n",
              "#T_a1553_row7_col12, #T_a1553_row9_col7, #T_a1553_row11_col12 {\n",
              "  background-color: #4055c8;\n",
              "  color: #f1f1f1;\n",
              "}\n",
              "#T_a1553_row8_col0, #T_a1553_row11_col1, #T_a1553_row11_col2 {\n",
              "  background-color: #a2c1ff;\n",
              "  color: #000000;\n",
              "}\n",
              "#T_a1553_row8_col1 {\n",
              "  background-color: #c9d7f0;\n",
              "  color: #000000;\n",
              "}\n",
              "#T_a1553_row8_col3 {\n",
              "  background-color: #ccd9ed;\n",
              "  color: #000000;\n",
              "}\n",
              "#T_a1553_row8_col5 {\n",
              "  background-color: #dd5f4b;\n",
              "  color: #f1f1f1;\n",
              "}\n",
              "#T_a1553_row8_col7 {\n",
              "  background-color: #6788ee;\n",
              "  color: #f1f1f1;\n",
              "}\n",
              "#T_a1553_row8_col10, #T_a1553_row9_col12 {\n",
              "  background-color: #4358cb;\n",
              "  color: #f1f1f1;\n",
              "}\n",
              "#T_a1553_row8_col11 {\n",
              "  background-color: #aec9fc;\n",
              "  color: #000000;\n",
              "}\n",
              "#T_a1553_row8_col12 {\n",
              "  background-color: #455cce;\n",
              "  color: #f1f1f1;\n",
              "}\n",
              "#T_a1553_row9_col4, #T_a1553_row11_col0 {\n",
              "  background-color: #7ea1fa;\n",
              "  color: #f1f1f1;\n",
              "}\n",
              "#T_a1553_row9_col5 {\n",
              "  background-color: #f7aa8c;\n",
              "  color: #000000;\n",
              "}\n",
              "#T_a1553_row9_col6 {\n",
              "  background-color: #536edd;\n",
              "  color: #f1f1f1;\n",
              "}\n",
              "#T_a1553_row9_col8 {\n",
              "  background-color: #f6bda2;\n",
              "  color: #000000;\n",
              "}\n",
              "#T_a1553_row9_col11 {\n",
              "  background-color: #98b9ff;\n",
              "  color: #000000;\n",
              "}\n",
              "#T_a1553_row10_col0 {\n",
              "  background-color: #e4d9d2;\n",
              "  color: #000000;\n",
              "}\n",
              "#T_a1553_row10_col2 {\n",
              "  background-color: #c1d4f4;\n",
              "  color: #000000;\n",
              "}\n",
              "#T_a1553_row10_col5 {\n",
              "  background-color: #bcd2f7;\n",
              "  color: #000000;\n",
              "}\n",
              "#T_a1553_row10_col7 {\n",
              "  background-color: #80a3fa;\n",
              "  color: #f1f1f1;\n",
              "}\n",
              "#T_a1553_row10_col8 {\n",
              "  background-color: #94b6ff;\n",
              "  color: #000000;\n",
              "}\n",
              "#T_a1553_row10_col11 {\n",
              "  background-color: #6e90f2;\n",
              "  color: #f1f1f1;\n",
              "}\n",
              "#T_a1553_row11_col3 {\n",
              "  background-color: #82a6fb;\n",
              "  color: #f1f1f1;\n",
              "}\n",
              "#T_a1553_row11_col5 {\n",
              "  background-color: #edd1c2;\n",
              "  color: #000000;\n",
              "}\n",
              "#T_a1553_row11_col6 {\n",
              "  background-color: #81a4fb;\n",
              "  color: #f1f1f1;\n",
              "}\n",
              "#T_a1553_row11_col8 {\n",
              "  background-color: #dbdcde;\n",
              "  color: #000000;\n",
              "}\n",
              "#T_a1553_row11_col9 {\n",
              "  background-color: #cedaeb;\n",
              "  color: #000000;\n",
              "}\n",
              "#T_a1553_row12_col3 {\n",
              "  background-color: #88abfd;\n",
              "  color: #000000;\n",
              "}\n",
              "#T_a1553_row12_col5 {\n",
              "  background-color: #cdd9ec;\n",
              "  color: #000000;\n",
              "}\n",
              "#T_a1553_row12_col6 {\n",
              "  background-color: #97b8ff;\n",
              "  color: #000000;\n",
              "}\n",
              "#T_a1553_row12_col8, #T_a1553_row12_col9 {\n",
              "  background-color: #b6cefa;\n",
              "  color: #000000;\n",
              "}\n",
              "#T_a1553_row12_col10 {\n",
              "  background-color: #6f92f3;\n",
              "  color: #f1f1f1;\n",
              "}\n",
              "</style>\n",
              "<table id=\"T_a1553_\" class=\"dataframe\">\n",
              "  <thead>\n",
              "    <tr>\n",
              "      <th class=\"blank level0\" >&nbsp;</th>\n",
              "      <th class=\"col_heading level0 col0\" >explicit</th>\n",
              "      <th class=\"col_heading level0 col1\" >valence</th>\n",
              "      <th class=\"col_heading level0 col2\" >acousticness</th>\n",
              "      <th class=\"col_heading level0 col3\" >danceability</th>\n",
              "      <th class=\"col_heading level0 col4\" >duration_ms</th>\n",
              "      <th class=\"col_heading level0 col5\" >energy</th>\n",
              "      <th class=\"col_heading level0 col6\" >instrumentalness</th>\n",
              "      <th class=\"col_heading level0 col7\" >liveness</th>\n",
              "      <th class=\"col_heading level0 col8\" >loudness</th>\n",
              "      <th class=\"col_heading level0 col9\" >popularity</th>\n",
              "      <th class=\"col_heading level0 col10\" >speechiness</th>\n",
              "      <th class=\"col_heading level0 col11\" >tempo</th>\n",
              "      <th class=\"col_heading level0 col12\" >key</th>\n",
              "    </tr>\n",
              "  </thead>\n",
              "  <tbody>\n",
              "    <tr>\n",
              "      <th id=\"T_a1553_level0_row0\" class=\"row_heading level0 row0\" >explicit</th>\n",
              "      <td id=\"T_a1553_row0_col0\" class=\"data row0 col0\" >1.000000</td>\n",
              "      <td id=\"T_a1553_row0_col1\" class=\"data row0 col1\" >-0.018612</td>\n",
              "      <td id=\"T_a1553_row0_col2\" class=\"data row0 col2\" >-0.246008</td>\n",
              "      <td id=\"T_a1553_row0_col3\" class=\"data row0 col3\" >0.241777</td>\n",
              "      <td id=\"T_a1553_row0_col4\" class=\"data row0 col4\" >-0.048902</td>\n",
              "      <td id=\"T_a1553_row0_col5\" class=\"data row0 col5\" >0.132723</td>\n",
              "      <td id=\"T_a1553_row0_col6\" class=\"data row0 col6\" >-0.140981</td>\n",
              "      <td id=\"T_a1553_row0_col7\" class=\"data row0 col7\" >0.039640</td>\n",
              "      <td id=\"T_a1553_row0_col8\" class=\"data row0 col8\" >0.140292</td>\n",
              "      <td id=\"T_a1553_row0_col9\" class=\"data row0 col9\" >0.191543</td>\n",
              "      <td id=\"T_a1553_row0_col10\" class=\"data row0 col10\" >0.414067</td>\n",
              "      <td id=\"T_a1553_row0_col11\" class=\"data row0 col11\" >0.011961</td>\n",
              "      <td id=\"T_a1553_row0_col12\" class=\"data row0 col12\" >0.005410</td>\n",
              "    </tr>\n",
              "    <tr>\n",
              "      <th id=\"T_a1553_level0_row1\" class=\"row_heading level0 row1\" >valence</th>\n",
              "      <td id=\"T_a1553_row1_col0\" class=\"data row1 col0\" >-0.018612</td>\n",
              "      <td id=\"T_a1553_row1_col1\" class=\"data row1 col1\" >1.000000</td>\n",
              "      <td id=\"T_a1553_row1_col2\" class=\"data row1 col2\" >-0.184115</td>\n",
              "      <td id=\"T_a1553_row1_col3\" class=\"data row1 col3\" >0.558935</td>\n",
              "      <td id=\"T_a1553_row1_col4\" class=\"data row1 col4\" >-0.191805</td>\n",
              "      <td id=\"T_a1553_row1_col5\" class=\"data row1 col5\" >0.353877</td>\n",
              "      <td id=\"T_a1553_row1_col6\" class=\"data row1 col6\" >-0.198497</td>\n",
              "      <td id=\"T_a1553_row1_col7\" class=\"data row1 col7\" >0.003834</td>\n",
              "      <td id=\"T_a1553_row1_col8\" class=\"data row1 col8\" >0.313519</td>\n",
              "      <td id=\"T_a1553_row1_col9\" class=\"data row1 col9\" >0.014200</td>\n",
              "      <td id=\"T_a1553_row1_col10\" class=\"data row1 col10\" >0.046380</td>\n",
              "      <td id=\"T_a1553_row1_col11\" class=\"data row1 col11\" >0.171689</td>\n",
              "      <td id=\"T_a1553_row1_col12\" class=\"data row1 col12\" >0.028467</td>\n",
              "    </tr>\n",
              "    <tr>\n",
              "      <th id=\"T_a1553_level0_row2\" class=\"row_heading level0 row2\" >acousticness</th>\n",
              "      <td id=\"T_a1553_row2_col0\" class=\"data row2 col0\" >-0.246008</td>\n",
              "      <td id=\"T_a1553_row2_col1\" class=\"data row2 col1\" >-0.184115</td>\n",
              "      <td id=\"T_a1553_row2_col2\" class=\"data row2 col2\" >1.000000</td>\n",
              "      <td id=\"T_a1553_row2_col3\" class=\"data row2 col3\" >-0.266855</td>\n",
              "      <td id=\"T_a1553_row2_col4\" class=\"data row2 col4\" >-0.076393</td>\n",
              "      <td id=\"T_a1553_row2_col5\" class=\"data row2 col5\" >-0.749405</td>\n",
              "      <td id=\"T_a1553_row2_col6\" class=\"data row2 col6\" >0.329820</td>\n",
              "      <td id=\"T_a1553_row2_col7\" class=\"data row2 col7\" >-0.024481</td>\n",
              "      <td id=\"T_a1553_row2_col8\" class=\"data row2 col8\" >-0.561717</td>\n",
              "      <td id=\"T_a1553_row2_col9\" class=\"data row2 col9\" >-0.573164</td>\n",
              "      <td id=\"T_a1553_row2_col10\" class=\"data row2 col10\" >-0.043979</td>\n",
              "      <td id=\"T_a1553_row2_col11\" class=\"data row2 col11\" >-0.207134</td>\n",
              "      <td id=\"T_a1553_row2_col12\" class=\"data row2 col12\" >-0.020513</td>\n",
              "    </tr>\n",
              "    <tr>\n",
              "      <th id=\"T_a1553_level0_row3\" class=\"row_heading level0 row3\" >danceability</th>\n",
              "      <td id=\"T_a1553_row3_col0\" class=\"data row3 col0\" >0.241777</td>\n",
              "      <td id=\"T_a1553_row3_col1\" class=\"data row3 col1\" >0.558935</td>\n",
              "      <td id=\"T_a1553_row3_col2\" class=\"data row3 col2\" >-0.266855</td>\n",
              "      <td id=\"T_a1553_row3_col3\" class=\"data row3 col3\" >1.000000</td>\n",
              "      <td id=\"T_a1553_row3_col4\" class=\"data row3 col4\" >-0.139879</td>\n",
              "      <td id=\"T_a1553_row3_col5\" class=\"data row3 col5\" >0.221947</td>\n",
              "      <td id=\"T_a1553_row3_col6\" class=\"data row3 col6\" >-0.278059</td>\n",
              "      <td id=\"T_a1553_row3_col7\" class=\"data row3 col7\" >-0.100188</td>\n",
              "      <td id=\"T_a1553_row3_col8\" class=\"data row3 col8\" >0.285022</td>\n",
              "      <td id=\"T_a1553_row3_col9\" class=\"data row3 col9\" >0.199586</td>\n",
              "      <td id=\"T_a1553_row3_col10\" class=\"data row3 col10\" >0.235564</td>\n",
              "      <td id=\"T_a1553_row3_col11\" class=\"data row3 col11\" >0.001813</td>\n",
              "      <td id=\"T_a1553_row3_col12\" class=\"data row3 col12\" >0.024419</td>\n",
              "    </tr>\n",
              "    <tr>\n",
              "      <th id=\"T_a1553_level0_row4\" class=\"row_heading level0 row4\" >duration_ms</th>\n",
              "      <td id=\"T_a1553_row4_col0\" class=\"data row4 col0\" >-0.048902</td>\n",
              "      <td id=\"T_a1553_row4_col1\" class=\"data row4 col1\" >-0.191805</td>\n",
              "      <td id=\"T_a1553_row4_col2\" class=\"data row4 col2\" >-0.076393</td>\n",
              "      <td id=\"T_a1553_row4_col3\" class=\"data row4 col3\" >-0.139879</td>\n",
              "      <td id=\"T_a1553_row4_col4\" class=\"data row4 col4\" >1.000000</td>\n",
              "      <td id=\"T_a1553_row4_col5\" class=\"data row4 col5\" >0.042134</td>\n",
              "      <td id=\"T_a1553_row4_col6\" class=\"data row4 col6\" >0.084709</td>\n",
              "      <td id=\"T_a1553_row4_col7\" class=\"data row4 col7\" >0.047174</td>\n",
              "      <td id=\"T_a1553_row4_col8\" class=\"data row4 col8\" >-0.003017</td>\n",
              "      <td id=\"T_a1553_row4_col9\" class=\"data row4 col9\" >0.059587</td>\n",
              "      <td id=\"T_a1553_row4_col10\" class=\"data row4 col10\" >-0.084576</td>\n",
              "      <td id=\"T_a1553_row4_col11\" class=\"data row4 col11\" >-0.025439</td>\n",
              "      <td id=\"T_a1553_row4_col12\" class=\"data row4 col12\" >-0.004239</td>\n",
              "    </tr>\n",
              "    <tr>\n",
              "      <th id=\"T_a1553_level0_row5\" class=\"row_heading level0 row5\" >energy</th>\n",
              "      <td id=\"T_a1553_row5_col0\" class=\"data row5 col0\" >0.132723</td>\n",
              "      <td id=\"T_a1553_row5_col1\" class=\"data row5 col1\" >0.353877</td>\n",
              "      <td id=\"T_a1553_row5_col2\" class=\"data row5 col2\" >-0.749405</td>\n",
              "      <td id=\"T_a1553_row5_col3\" class=\"data row5 col3\" >0.221947</td>\n",
              "      <td id=\"T_a1553_row5_col4\" class=\"data row5 col4\" >0.042134</td>\n",
              "      <td id=\"T_a1553_row5_col5\" class=\"data row5 col5\" >1.000000</td>\n",
              "      <td id=\"T_a1553_row5_col6\" class=\"data row5 col6\" >-0.281098</td>\n",
              "      <td id=\"T_a1553_row5_col7\" class=\"data row5 col7\" >0.126191</td>\n",
              "      <td id=\"T_a1553_row5_col8\" class=\"data row5 col8\" >0.782369</td>\n",
              "      <td id=\"T_a1553_row5_col9\" class=\"data row5 col9\" >0.485005</td>\n",
              "      <td id=\"T_a1553_row5_col10\" class=\"data row5 col10\" >-0.070567</td>\n",
              "      <td id=\"T_a1553_row5_col11\" class=\"data row5 col11\" >0.250870</td>\n",
              "      <td id=\"T_a1553_row5_col12\" class=\"data row5 col12\" >0.027686</td>\n",
              "    </tr>\n",
              "    <tr>\n",
              "      <th id=\"T_a1553_level0_row6\" class=\"row_heading level0 row6\" >instrumentalness</th>\n",
              "      <td id=\"T_a1553_row6_col0\" class=\"data row6 col0\" >-0.140981</td>\n",
              "      <td id=\"T_a1553_row6_col1\" class=\"data row6 col1\" >-0.198497</td>\n",
              "      <td id=\"T_a1553_row6_col2\" class=\"data row6 col2\" >0.329820</td>\n",
              "      <td id=\"T_a1553_row6_col3\" class=\"data row6 col3\" >-0.278059</td>\n",
              "      <td id=\"T_a1553_row6_col4\" class=\"data row6 col4\" >0.084709</td>\n",
              "      <td id=\"T_a1553_row6_col5\" class=\"data row6 col5\" >-0.281098</td>\n",
              "      <td id=\"T_a1553_row6_col6\" class=\"data row6 col6\" >1.000000</td>\n",
              "      <td id=\"T_a1553_row6_col7\" class=\"data row6 col7\" >-0.047190</td>\n",
              "      <td id=\"T_a1553_row6_col8\" class=\"data row6 col8\" >-0.408601</td>\n",
              "      <td id=\"T_a1553_row6_col9\" class=\"data row6 col9\" >-0.296749</td>\n",
              "      <td id=\"T_a1553_row6_col10\" class=\"data row6 col10\" >-0.121692</td>\n",
              "      <td id=\"T_a1553_row6_col11\" class=\"data row6 col11\" >-0.105364</td>\n",
              "      <td id=\"T_a1553_row6_col12\" class=\"data row6 col12\" >-0.014576</td>\n",
              "    </tr>\n",
              "    <tr>\n",
              "      <th id=\"T_a1553_level0_row7\" class=\"row_heading level0 row7\" >liveness</th>\n",
              "      <td id=\"T_a1553_row7_col0\" class=\"data row7 col0\" >0.039640</td>\n",
              "      <td id=\"T_a1553_row7_col1\" class=\"data row7 col1\" >0.003834</td>\n",
              "      <td id=\"T_a1553_row7_col2\" class=\"data row7 col2\" >-0.024481</td>\n",
              "      <td id=\"T_a1553_row7_col3\" class=\"data row7 col3\" >-0.100188</td>\n",
              "      <td id=\"T_a1553_row7_col4\" class=\"data row7 col4\" >0.047174</td>\n",
              "      <td id=\"T_a1553_row7_col5\" class=\"data row7 col5\" >0.126191</td>\n",
              "      <td id=\"T_a1553_row7_col6\" class=\"data row7 col6\" >-0.047190</td>\n",
              "      <td id=\"T_a1553_row7_col7\" class=\"data row7 col7\" >1.000000</td>\n",
              "      <td id=\"T_a1553_row7_col8\" class=\"data row7 col8\" >0.056436</td>\n",
              "      <td id=\"T_a1553_row7_col9\" class=\"data row7 col9\" >-0.076467</td>\n",
              "      <td id=\"T_a1553_row7_col10\" class=\"data row7 col10\" >0.134661</td>\n",
              "      <td id=\"T_a1553_row7_col11\" class=\"data row7 col11\" >0.007714</td>\n",
              "      <td id=\"T_a1553_row7_col12\" class=\"data row7 col12\" >0.000208</td>\n",
              "    </tr>\n",
              "    <tr>\n",
              "      <th id=\"T_a1553_level0_row8\" class=\"row_heading level0 row8\" >loudness</th>\n",
              "      <td id=\"T_a1553_row8_col0\" class=\"data row8 col0\" >0.140292</td>\n",
              "      <td id=\"T_a1553_row8_col1\" class=\"data row8 col1\" >0.313519</td>\n",
              "      <td id=\"T_a1553_row8_col2\" class=\"data row8 col2\" >-0.561717</td>\n",
              "      <td id=\"T_a1553_row8_col3\" class=\"data row8 col3\" >0.285022</td>\n",
              "      <td id=\"T_a1553_row8_col4\" class=\"data row8 col4\" >-0.003017</td>\n",
              "      <td id=\"T_a1553_row8_col5\" class=\"data row8 col5\" >0.782369</td>\n",
              "      <td id=\"T_a1553_row8_col6\" class=\"data row8 col6\" >-0.408601</td>\n",
              "      <td id=\"T_a1553_row8_col7\" class=\"data row8 col7\" >0.056436</td>\n",
              "      <td id=\"T_a1553_row8_col8\" class=\"data row8 col8\" >1.000000</td>\n",
              "      <td id=\"T_a1553_row8_col9\" class=\"data row8 col9\" >0.457052</td>\n",
              "      <td id=\"T_a1553_row8_col10\" class=\"data row8 col10\" >-0.139311</td>\n",
              "      <td id=\"T_a1553_row8_col11\" class=\"data row8 col11\" >0.209791</td>\n",
              "      <td id=\"T_a1553_row8_col12\" class=\"data row8 col12\" >0.017356</td>\n",
              "    </tr>\n",
              "    <tr>\n",
              "      <th id=\"T_a1553_level0_row9\" class=\"row_heading level0 row9\" >popularity</th>\n",
              "      <td id=\"T_a1553_row9_col0\" class=\"data row9 col0\" >0.191543</td>\n",
              "      <td id=\"T_a1553_row9_col1\" class=\"data row9 col1\" >0.014200</td>\n",
              "      <td id=\"T_a1553_row9_col2\" class=\"data row9 col2\" >-0.573164</td>\n",
              "      <td id=\"T_a1553_row9_col3\" class=\"data row9 col3\" >0.199586</td>\n",
              "      <td id=\"T_a1553_row9_col4\" class=\"data row9 col4\" >0.059587</td>\n",
              "      <td id=\"T_a1553_row9_col5\" class=\"data row9 col5\" >0.485005</td>\n",
              "      <td id=\"T_a1553_row9_col6\" class=\"data row9 col6\" >-0.296749</td>\n",
              "      <td id=\"T_a1553_row9_col7\" class=\"data row9 col7\" >-0.076467</td>\n",
              "      <td id=\"T_a1553_row9_col8\" class=\"data row9 col8\" >0.457052</td>\n",
              "      <td id=\"T_a1553_row9_col9\" class=\"data row9 col9\" >1.000000</td>\n",
              "      <td id=\"T_a1553_row9_col10\" class=\"data row9 col10\" >-0.171980</td>\n",
              "      <td id=\"T_a1553_row9_col11\" class=\"data row9 col11\" >0.133306</td>\n",
              "      <td id=\"T_a1553_row9_col12\" class=\"data row9 col12\" >0.007806</td>\n",
              "    </tr>\n",
              "    <tr>\n",
              "      <th id=\"T_a1553_level0_row10\" class=\"row_heading level0 row10\" >speechiness</th>\n",
              "      <td id=\"T_a1553_row10_col0\" class=\"data row10 col0\" >0.414067</td>\n",
              "      <td id=\"T_a1553_row10_col1\" class=\"data row10 col1\" >0.046380</td>\n",
              "      <td id=\"T_a1553_row10_col2\" class=\"data row10 col2\" >-0.043979</td>\n",
              "      <td id=\"T_a1553_row10_col3\" class=\"data row10 col3\" >0.235564</td>\n",
              "      <td id=\"T_a1553_row10_col4\" class=\"data row10 col4\" >-0.084576</td>\n",
              "      <td id=\"T_a1553_row10_col5\" class=\"data row10 col5\" >-0.070567</td>\n",
              "      <td id=\"T_a1553_row10_col6\" class=\"data row10 col6\" >-0.121692</td>\n",
              "      <td id=\"T_a1553_row10_col7\" class=\"data row10 col7\" >0.134661</td>\n",
              "      <td id=\"T_a1553_row10_col8\" class=\"data row10 col8\" >-0.139311</td>\n",
              "      <td id=\"T_a1553_row10_col9\" class=\"data row10 col9\" >-0.171980</td>\n",
              "      <td id=\"T_a1553_row10_col10\" class=\"data row10 col10\" >1.000000</td>\n",
              "      <td id=\"T_a1553_row10_col11\" class=\"data row10 col11\" >-0.011534</td>\n",
              "      <td id=\"T_a1553_row10_col12\" class=\"data row10 col12\" >0.023762</td>\n",
              "    </tr>\n",
              "    <tr>\n",
              "      <th id=\"T_a1553_level0_row11\" class=\"row_heading level0 row11\" >tempo</th>\n",
              "      <td id=\"T_a1553_row11_col0\" class=\"data row11 col0\" >0.011961</td>\n",
              "      <td id=\"T_a1553_row11_col1\" class=\"data row11 col1\" >0.171689</td>\n",
              "      <td id=\"T_a1553_row11_col2\" class=\"data row11 col2\" >-0.207134</td>\n",
              "      <td id=\"T_a1553_row11_col3\" class=\"data row11 col3\" >0.001813</td>\n",
              "      <td id=\"T_a1553_row11_col4\" class=\"data row11 col4\" >-0.025439</td>\n",
              "      <td id=\"T_a1553_row11_col5\" class=\"data row11 col5\" >0.250870</td>\n",
              "      <td id=\"T_a1553_row11_col6\" class=\"data row11 col6\" >-0.105364</td>\n",
              "      <td id=\"T_a1553_row11_col7\" class=\"data row11 col7\" >0.007714</td>\n",
              "      <td id=\"T_a1553_row11_col8\" class=\"data row11 col8\" >0.209791</td>\n",
              "      <td id=\"T_a1553_row11_col9\" class=\"data row11 col9\" >0.133306</td>\n",
              "      <td id=\"T_a1553_row11_col10\" class=\"data row11 col10\" >-0.011534</td>\n",
              "      <td id=\"T_a1553_row11_col11\" class=\"data row11 col11\" >1.000000</td>\n",
              "      <td id=\"T_a1553_row11_col12\" class=\"data row11 col12\" >0.002614</td>\n",
              "    </tr>\n",
              "    <tr>\n",
              "      <th id=\"T_a1553_level0_row12\" class=\"row_heading level0 row12\" >key</th>\n",
              "      <td id=\"T_a1553_row12_col0\" class=\"data row12 col0\" >0.005410</td>\n",
              "      <td id=\"T_a1553_row12_col1\" class=\"data row12 col1\" >0.028467</td>\n",
              "      <td id=\"T_a1553_row12_col2\" class=\"data row12 col2\" >-0.020513</td>\n",
              "      <td id=\"T_a1553_row12_col3\" class=\"data row12 col3\" >0.024419</td>\n",
              "      <td id=\"T_a1553_row12_col4\" class=\"data row12 col4\" >-0.004239</td>\n",
              "      <td id=\"T_a1553_row12_col5\" class=\"data row12 col5\" >0.027686</td>\n",
              "      <td id=\"T_a1553_row12_col6\" class=\"data row12 col6\" >-0.014576</td>\n",
              "      <td id=\"T_a1553_row12_col7\" class=\"data row12 col7\" >0.000208</td>\n",
              "      <td id=\"T_a1553_row12_col8\" class=\"data row12 col8\" >0.017356</td>\n",
              "      <td id=\"T_a1553_row12_col9\" class=\"data row12 col9\" >0.007806</td>\n",
              "      <td id=\"T_a1553_row12_col10\" class=\"data row12 col10\" >0.023762</td>\n",
              "      <td id=\"T_a1553_row12_col11\" class=\"data row12 col11\" >0.002614</td>\n",
              "      <td id=\"T_a1553_row12_col12\" class=\"data row12 col12\" >1.000000</td>\n",
              "    </tr>\n",
              "  </tbody>\n",
              "</table>\n"
            ],
            "text/plain": [
              "<pandas.io.formats.style.Styler at 0x7fb1c882a7d0>"
            ]
          },
          "execution_count": 50,
          "metadata": {},
          "output_type": "execute_result"
        }
      ],
      "source": [
        "#Investigate correlations\n",
        "df_csv_corr = df_csv_1.drop('id','year', 'release_date','name', 'artists')\n",
        "\n",
        "df_csv_pd = df_csv_corr.toPandas()\n",
        "\n",
        "corr = df_csv_pd.corr()\n",
        "corr.style.background_gradient(cmap='coolwarm')"
      ]
    },
    {
      "cell_type": "markdown",
      "metadata": {
        "id": "mxIwGA44Bi3s"
      },
      "source": [
        "### Machine Learning (Yash Kumar)"
      ]
    },
    {
      "cell_type": "markdown",
      "source": [
        "Finding Optimal CLusters for the whole Dataset "
      ],
      "metadata": {
        "id": "Joiym-B7TZyV"
      }
    },
    {
      "cell_type": "code",
      "execution_count": null,
      "metadata": {
        "id": "x99i4GiGBi3s"
      },
      "outputs": [],
      "source": [
        "import pandas as pd\n",
        "import matplotlib.pyplot as plt\n",
        "import seaborn as sns\n",
        "from sklearn.cluster import KMeans\n",
        "dfz = df_csv_1.toPandas()\n",
        "dfz = dfz.drop(['id','name','year','artists','release_date'], axis = 1)"
      ]
    },
    {
      "cell_type": "code",
      "execution_count": null,
      "metadata": {
        "colab": {
          "background_save": true
        },
        "id": "SWbLlwMVBi3t",
        "outputId": "9e10de3a-5b31-4e1a-90af-31d2a2572a9b"
      },
      "outputs": [
        {
          "data": {
            "image/png": "[encoded data removed]",
            "text/plain": [
              "<Figure size 576x396 with 2 Axes>"
            ]
          },
          "metadata": {},
          "output_type": "display_data"
        },
        {
          "data": {
            "text/plain": [
              "<matplotlib.axes._subplots.AxesSubplot at 0x7fb1b7114350>"
            ]
          },
          "execution_count": null,
          "metadata": {},
          "output_type": "execute_result"
        }
      ],
      "source": [
        "#this block will take an hour to run\n",
        "from yellowbrick.cluster import KElbowVisualizer\n",
        "model = KMeans()\n",
        "# k is range of number of clusters.\n",
        "visualizer = KElbowVisualizer(model, k=(2,15),metric='silhouette', timings= True)\n",
        "visualizer.fit(dfz)        # Fit the data to the visualizer\n",
        "visualizer.show()        # Finalize and render the figure"
      ]
    },
    {
      "cell_type": "markdown",
      "source": [
        "Choosing k=5 as  (the 2nd best silhouette score)"
      ],
      "metadata": {
        "id": "KzjiIIgvTi-7"
      }
    },
    {
      "cell_type": "markdown",
      "source": [
        "**Grouping Similar Songs together using Kmeans** "
      ],
      "metadata": {
        "id": "RPRRzBlCT3DJ"
      }
    },
    {
      "cell_type": "code",
      "execution_count": null,
      "metadata": {
        "colab": {
          "base_uri": "https://localhost:8080/"
        },
        "id": "AGlTfXBOBi3u",
        "outputId": "d359267b-0a56-4110-dbe2-a02f7772a161"
      },
      "outputs": [
        {
          "output_type": "stream",
          "name": "stdout",
          "text": [
            "+--------------------------------------------------------------------------------------------------------------------------------------------------------------------------------------------------------+\n",
            "|features                                                                                                                                                                                                |\n",
            "+--------------------------------------------------------------------------------------------------------------------------------------------------------------------------------------------------------+\n",
            "|[0.05939999967813492,0.9819999933242798,0.27900001406669617,831667.0,0.210999995470047,0.0,0.878000020980835,10.0,0.6650000214576721,-20.09600067138672,4.0,0.03660000115633011,80.9540023803711]       |\n",
            "|[0.9629999995231628,0.7319999933242798,0.8190000057220459,180533.0,0.3409999907016754,0.0,0.0,7.0,0.1599999964237213,-12.440999984741211,5.0,0.41499999165534973,60.93600082397461]                     |\n",
            "|[0.039400000125169754,0.9610000252723694,0.328000009059906,500062.0,0.16599999368190765,0.0,0.9129999876022339,3.0,0.10100000351667404,-14.850000381469727,5.0,0.033900000154972076,110.33899688720703] |\n",
            "|[0.16500000655651093,0.9670000076293945,0.2750000059604645,210000.0,0.3089999854564667,0.0,2.769999991869554E-5,5.0,0.38100001215934753,-9.315999984741211,3.0,0.03539999946951866,100.10900115966797]  |\n",
            "|[0.2529999911785126,0.9570000171661377,0.4180000126361847,166693.0,0.19300000369548798,0.0,1.6799999684735667E-6,3.0,0.2290000021457672,-10.095999717712402,2.0,0.03799999877810478,101.66500091552734] |\n",
            "|[0.19599999487400055,0.5789999961853027,0.6970000267028809,395076.0,0.34599998593330383,0.0,0.1679999977350235,2.0,0.12999999523162842,-12.505999565124512,6.0,0.07000000029802322,119.8239974975586]   |\n",
            "|[0.4059999883174896,0.9959999918937683,0.5180000066757202,159507.0,0.2029999941587448,0.0,0.0,0.0,0.11500000208616257,-10.58899974822998,4.0,0.061500001698732376,66.22100067138672]                    |\n",
            "|[0.0731000006198883,0.9929999709129333,0.3889999985694885,218773.0,0.08799999952316284,0.0,0.5270000100135803,1.0,0.3630000054836273,-21.090999603271484,2.0,0.04560000076889992,92.86699676513672]     |\n",
            "|[0.7210000157356262,0.9959999918937683,0.48500001430511475,161520.0,0.12999999523162842,0.0,0.1509999930858612,5.0,0.10400000214576721,-21.507999420166016,0.0,0.04830000177025795,64.6780014038086]    |\n",
            "|[0.7710000276565552,0.9819999933242798,0.6840000152587891,196560.0,0.25699999928474426,0.0,0.0,8.0,0.5040000081062317,-16.415000915527344,0.0,0.39899998903274536,109.37799835205078]                   |\n",
            "|[0.8259999752044678,0.9950000047683716,0.46299999952316284,147133.0,0.25999999046325684,0.0,0.0,9.0,0.257999986410141,-16.893999099731445,0.0,0.05570000037550926,85.14600372314453]                    |\n",
            "|[0.578000009059906,0.9940000176429749,0.3779999911785126,155413.0,0.11500000208616257,0.0,0.906000018119812,10.0,0.10999999940395355,-27.038999557495117,0.0,0.0414000004529953,70.37000274658203]      |\n",
            "|[0.49300000071525574,0.9900000095367432,0.3149999976158142,190800.0,0.3630000054836273,0.0,0.0,5.0,0.2919999957084656,-12.562000274658203,0.0,0.05460000038146973,174.53199768066406]                   |\n",
            "|[0.21199999749660492,0.9120000004768372,0.41499999165534973,184973.0,0.41999998688697815,0.0,0.8899999856948853,8.0,0.1080000028014183,-10.765999794006348,0.0,0.11400000005960464,70.75800323486328]   |\n",
            "|[0.49300000071525574,0.017500000074505806,0.5270000100135803,205072.0,0.6909999847412109,1.0,0.3840000033378601,7.0,0.3580000102519989,-7.297999858856201,0.0,0.032600000500679016,159.93499755859375]  |\n",
            "|[0.28200000524520874,0.9890000224113464,0.3840000033378601,221013.0,0.17100000381469727,0.0,0.8199999928474426,7.0,0.11599999666213989,-20.47599983215332,4.0,0.03189999982714653,107.697998046875]     |\n",
            "|[0.21799999475479126,0.9570000171661377,0.2590000033378601,186467.0,0.21199999749660492,0.0,2.2200000239536166E-4,2.0,0.23600000143051147,-13.300000190734863,1.0,0.03579999879002571,85.72599792480469]|\n",
            "|[0.6639999747276306,0.9959999918937683,0.5410000085830688,250747.0,0.28299999237060547,0.0,0.8980000019073486,9.0,0.3930000066757202,-14.807999610900879,0.0,0.04769999906420708,108.98600006103516]    |\n",
            "|[0.07779999822378159,0.14800000190734863,0.6039999723434448,204957.0,0.4180000126361847,1.0,0.03819999843835831,4.0,0.10199999809265137,-11.565999984741211,0.0,0.04170000180602074,80.072998046875]    |\n",
            "|[0.5270000100135803,0.9710000157356262,0.5400000214576721,122000.0,0.08479999750852585,0.0,0.0019600000232458115,5.0,0.08869999647140503,-16.05500030517578,0.0,0.07500000298023224,100.2959976196289]  |\n",
            "+--------------------------------------------------------------------------------------------------------------------------------------------------------------------------------------------------------+\n",
            "only showing top 20 rows\n",
            "\n"
          ]
        }
      ],
      "source": [
        "from pyspark.ml.feature import VectorAssembler\n",
        "features =   ('valence',\n",
        " 'acousticness',\n",
        " 'danceability',\n",
        " 'duration_ms',\n",
        " 'energy',\n",
        " 'explicit',\n",
        " 'instrumentalness',\n",
        " 'key',\n",
        " 'liveness',\n",
        " 'loudness',\n",
        " 'popularity',\n",
        " 'speechiness',\n",
        " 'tempo') \n",
        "assembler = VectorAssembler(inputCols=features,outputCol=\"features\",handleInvalid=\"skip\")\n",
        "dataset=assembler.transform(df_csv1)\n",
        "dataset.select(\"features\").show(truncate=False)"
      ]
    },
    {
      "cell_type": "code",
      "execution_count": null,
      "metadata": {
        "colab": {
          "base_uri": "https://localhost:8080/"
        },
        "id": "ItRz5lI-Bi3u",
        "outputId": "7240198d-fe8a-4d47-95b5-e2d0dc7e0741"
      },
      "outputs": [
        {
          "output_type": "stream",
          "name": "stdout",
          "text": [
            "+--------------------+----------+\n",
            "|            features|prediction|\n",
            "+--------------------+----------+\n",
            "|[0.05939999967813...|         1|\n",
            "|[0.96299999952316...|         4|\n",
            "|[0.03940000012516...|         2|\n",
            "|[0.16500000655651...|         0|\n",
            "|[0.25299999117851...|         4|\n",
            "+--------------------+----------+\n",
            "only showing top 5 rows\n",
            "\n"
          ]
        }
      ],
      "source": [
        "from pyspark.ml.evaluation import ClusteringEvaluator\n",
        "from pyspark.ml.clustering import KMeans\n",
        "# Trains a k-means model.\n",
        "kmeans = KMeans().setK(5).setSeed(1)\n",
        "model = kmeans.fit(dataset)\n",
        "# Make predictions\n",
        "predictions = model.transform(dataset)\n",
        "predictions.select('features','prediction').show(5)\n"
      ]
    },
    {
      "cell_type": "markdown",
      "source": [
        "**Now, we have the dataset labelled. We will train the model to be able to categorize the songs (assign labels) in user's playlist we pass to it.** "
      ],
      "metadata": {
        "id": "yTHsrtC_UJ6K"
      }
    },
    {
      "cell_type": "markdown",
      "metadata": {
        "id": "P8wSOCWIcmxt"
      },
      "source": [
        "**RF MODEL**\n"
      ]
    },
    {
      "cell_type": "code",
      "execution_count": null,
      "metadata": {
        "id": "gDsMjI9RStK5"
      },
      "outputs": [],
      "source": [
        "df1 = predictions.withColumnRenamed(\"prediction\",\"labels\")"
      ]
    },
    {
      "cell_type": "code",
      "execution_count": null,
      "metadata": {
        "id": "Lv2wWcD9Bi3v"
      },
      "outputs": [],
      "source": [
        "from pyspark.ml.feature import StringIndexer, VectorIndexer\n",
        "\n",
        "labelIndexer = StringIndexer(inputCol=\"labels\", outputCol=\"indexedLabel\").fit(df1)\n"
      ]
    },
    {
      "cell_type": "code",
      "execution_count": null,
      "metadata": {
        "colab": {
          "base_uri": "https://localhost:8080/"
        },
        "id": "9aw5GvG-Bi3v",
        "outputId": "3805558f-66fa-4d09-ee36-13d7a7e4c126"
      },
      "outputs": [
        {
          "output_type": "execute_result",
          "data": {
            "text/plain": [
              "1"
            ]
          },
          "metadata": {},
          "execution_count": 166
        }
      ],
      "source": [
        "featureIndexer =\\\n",
        "    VectorIndexer(inputCol=\"features\", \n",
        "                  outputCol=\"indexedFeatures\", \n",
        "                  maxCategories=4).fit(predictions)\n",
        "\n",
        "featureIndexer.categoryMaps.size()"
      ]
    },
    {
      "cell_type": "markdown",
      "source": [
        "Removing some songs and assigning it as User's Playlist to recommend songs based on its queue"
      ],
      "metadata": {
        "id": "oTwfhi2IU3B_"
      }
    },
    {
      "cell_type": "code",
      "execution_count": null,
      "metadata": {
        "id": "45mzhqLWBi3v"
      },
      "outputs": [],
      "source": [
        "(Songs_Dataset, User_sample_set) = df1.randomSplit([0.8, 0.2], seed=0)\n"
      ]
    },
    {
      "cell_type": "code",
      "execution_count": null,
      "metadata": {
        "id": "N_DTBqApBi3v"
      },
      "outputs": [],
      "source": [
        "from pyspark.ml.classification import RandomForestClassifier\n",
        "\n",
        "rf = RandomForestClassifier(\n",
        "    labelCol=\"indexedLabel\", \n",
        "    featuresCol=\"indexedFeatures\", \n",
        "    numTrees=10, seed=0)"
      ]
    },
    {
      "cell_type": "code",
      "execution_count": null,
      "metadata": {
        "id": "Nfnz5kagBi3w"
      },
      "outputs": [],
      "source": [
        "from pyspark.ml.feature import \\\n",
        "    IndexToString\n",
        "labelConverter = IndexToString(inputCol=\"labels\", outputCol=\"predictedLabel\",\n",
        "                               labels=labelIndexer.labels)"
      ]
    },
    {
      "cell_type": "code",
      "execution_count": null,
      "metadata": {
        "id": "CNYK3Vh1Bi3w"
      },
      "outputs": [],
      "source": [
        "from pyspark.ml import Pipeline\n",
        "\n",
        "pipeline = Pipeline(stages=[labelIndexer, \n",
        "                            featureIndexer, \n",
        "                            rf,\n",
        "                            labelConverter])"
      ]
    },
    {
      "cell_type": "code",
      "execution_count": null,
      "metadata": {
        "colab": {
          "base_uri": "https://localhost:8080/"
        },
        "id": "J6By8TfTBi3w",
        "outputId": "523f97b9-87f0-4bc9-dcf6-65ec5968d24c"
      },
      "outputs": [
        {
          "output_type": "stream",
          "name": "stdout",
          "text": [
            "+--------------+----------+--------------------+\n",
            "|predictedLabel|prediction|            features|\n",
            "+--------------+----------+--------------------+\n",
            "|             4|       1.0|[0.0,0.1190000027...|\n",
            "|             3|       0.0|[0.0,0.1270000040...|\n",
            "|             3|       0.0|(13,[1,3,4,6,7,8,...|\n",
            "|             3|       0.0|[0.0,0.2860000133...|\n",
            "|             3|       0.0|[0.0,0.3939999938...|\n",
            "+--------------+----------+--------------------+\n",
            "only showing top 5 rows\n",
            "\n"
          ]
        }
      ],
      "source": [
        "model = pipeline.fit(Songs_Dataset)\n",
        "\n",
        "# Make predictions.\n",
        "predictions1 = model.transform(User_sample_set)\n",
        "\n",
        "\n",
        "# Select example rows to display.\n",
        "predictions1.select(\"predictedLabel\", \"features\").show(5)"
      ]
    },
    {
      "cell_type": "markdown",
      "source": [
        "Now, we have the user's songs with labels predicted by our model"
      ],
      "metadata": {
        "id": "VTbVZGwQVlm1"
      }
    },
    {
      "cell_type": "markdown",
      "source": [
        "As we have removed the songs from the original dataset after assigning the labels, we can check the accuracy of our model as well"
      ],
      "metadata": {
        "id": "fOrkMQKcV7t5"
      }
    },
    {
      "cell_type": "code",
      "execution_count": null,
      "metadata": {
        "colab": {
          "base_uri": "https://localhost:8080/"
        },
        "id": "zUgyvNdKBi3w",
        "outputId": "8c5697d7-2f81-4513-9ba4-aa5cce44240b"
      },
      "outputs": [
        {
          "output_type": "stream",
          "name": "stdout",
          "text": [
            "Accuracy = 0.9574845768827843\n"
          ]
        }
      ],
      "source": [
        "from pyspark.ml.evaluation import MulticlassClassificationEvaluator\n",
        "\n",
        "evaluator = MulticlassClassificationEvaluator(\n",
        "    labelCol=\"indexedLabel\", \n",
        "    predictionCol=\"prediction\", \n",
        "    metricName=\"accuracy\")\n",
        "\n",
        "accuracy = evaluator.evaluate(predictions1)\n",
        "\n",
        "print(\"Accuracy =\", accuracy)"
      ]
    },
    {
      "cell_type": "code",
      "execution_count": null,
      "metadata": {
        "colab": {
          "base_uri": "https://localhost:8080/"
        },
        "id": "zupFO5oQBi3w",
        "outputId": "462ad57d-ba2c-4bc8-8278-c950e7e31e89"
      },
      "outputs": [
        {
          "output_type": "execute_result",
          "data": {
            "text/plain": [
              "[Row(predictedLabel='4'),\n",
              " Row(predictedLabel='3'),\n",
              " Row(predictedLabel='3'),\n",
              " Row(predictedLabel='3'),\n",
              " Row(predictedLabel='3'),\n",
              " Row(predictedLabel='3'),\n",
              " Row(predictedLabel='2'),\n",
              " Row(predictedLabel='2'),\n",
              " Row(predictedLabel='3'),\n",
              " Row(predictedLabel='3')]"
            ]
          },
          "metadata": {},
          "execution_count": 175
        }
      ],
      "source": [
        "predictions1.select('predictedLabel').take(10)"
      ]
    },
    {
      "cell_type": "markdown",
      "metadata": {
        "id": "Ow4wp-tfBi3w"
      },
      "source": [
        "### RECOMENDATION ALGORITHM (Rajat Sharma)"
      ]
    },
    {
      "cell_type": "code",
      "execution_count": null,
      "metadata": {
        "colab": {
          "base_uri": "https://localhost:8080/"
        },
        "id": "zRdrEfceBi3x",
        "outputId": "585761d8-6b5b-42a7-f387-633704144c27"
      },
      "outputs": [
        {
          "output_type": "stream",
          "name": "stdout",
          "text": [
            "+--------------------+----+----+------------+--------------------+--------------------+--------+-------+------------+------------+-----------+------+----------------+--------+--------+----------+-----------+-----+-----+\n",
            "|                  id|year|mode|release_date|                name|             artists|explicit|valence|acousticness|danceability|duration_ms|energy|instrumentalness|liveness|loudness|popularity|speechiness|tempo|  key|\n",
            "+--------------------+----+----+------------+--------------------+--------------------+--------+-------+------------+------------+-----------+------+----------------+--------+--------+----------+-----------+-----+-----+\n",
            "|4BJqT0PrAfrxzMOxy...|1921|   1|        1921|Piano Concerto No...|['Sergei Rachmani...|     0.0|  0.059|       0.986|       0.282|      0.153| 0.211|           0.878|   0.665|   0.625|      0.04|      0.038|0.332|0.909|\n",
            "|7xPhfUan2yNtyFG0c...|1921|   1|        1921|Clancy Lowered th...|      ['Dennis Day']|     0.0|  0.963|       0.735|       0.829|      0.032| 0.341|             0.0|    0.16|   0.745|      0.05|      0.428| 0.25|0.636|\n",
            "|1o6I8BglA6ylDMrIE...|1921|   1|        1921|           Gati Bali|['KHP Kridhamarda...|     0.0|  0.039|       0.965|       0.332|      0.092| 0.166|           0.913|   0.101|   0.707|      0.05|      0.035|0.453|0.273|\n",
            "|3ftBPsC5vPBKxYSee...|1921|   1|        1921|           Danny Boy|    ['Frank Parker']|     0.0|  0.165|       0.971|       0.278|      0.038| 0.309|             0.0|   0.381|   0.794|      0.03|      0.036|0.411|0.455|\n",
            "|4d6HGyGT8e121BsdK...|1921|   1|        1921|When Irish Eyes A...|      ['Phil Regan']|     0.0|  0.253|       0.961|       0.423|       0.03| 0.193|             0.0|   0.229|   0.782|      0.02|      0.039|0.418|0.273|\n",
            "+--------------------+----+----+------------+--------------------+--------------------+--------+-------+------------+------------+-----------+------+----------------+--------+--------+----------+-----------+-----+-----+\n",
            "only showing top 5 rows\n",
            "\n"
          ]
        }
      ],
      "source": [
        "df2= df_csv_1\n",
        "df2.show(5)"
      ]
    },
    {
      "cell_type": "markdown",
      "source": [
        "Getting the name of the Artist and the Song for the user playlist from Original Dataset "
      ],
      "metadata": {
        "id": "fH0VlHadXRDO"
      }
    },
    {
      "cell_type": "code",
      "execution_count": null,
      "metadata": {
        "id": "mHIP3DpJBi3x"
      },
      "outputs": [],
      "source": [
        "df_song = df2.select('artists','name','year')\n",
        "(Songs_Dataset_n, User_sample_set_n) = df_song.randomSplit([0.8, 0.2], seed=0)"
      ]
    },
    {
      "cell_type": "code",
      "execution_count": null,
      "metadata": {
        "colab": {
          "base_uri": "https://localhost:8080/"
        },
        "id": "4WmctOUrBi3x",
        "outputId": "3acd315f-5df5-4289-f191-3da78e25cfc6"
      },
      "outputs": [
        {
          "output_type": "stream",
          "name": "stdout",
          "text": [
            "+--------------------+--------------------+----+\n",
            "|             artists|                name|year|\n",
            "+--------------------+--------------------+----+\n",
            "|\"[\"\"Anita O'Day\"\"...|Thanks For The Bo...|1932|\n",
            "+--------------------+--------------------+----+\n",
            "only showing top 1 row\n",
            "\n"
          ]
        }
      ],
      "source": [
        "User_sample_set_n.show(1)"
      ]
    },
    {
      "cell_type": "code",
      "execution_count": null,
      "metadata": {
        "id": "H72pbcRptYcz"
      },
      "outputs": [],
      "source": [
        "a = predictions.select('prediction').toPandas()\n",
        "b = df2.toPandas()\n",
        "b['labels'] = a['prediction']\n",
        "b = b.dropna(axis='columns', how='all')\n",
        "df_2 = spark.createDataFrame(b) "
      ]
    },
    {
      "cell_type": "markdown",
      "source": [
        "Recommending Songs based on the above song's Label, Popularity and Year"
      ],
      "metadata": {
        "id": "MKUxuoqwv5Lf"
      }
    },
    {
      "cell_type": "code",
      "execution_count": null,
      "metadata": {
        "colab": {
          "base_uri": "https://localhost:8080/"
        },
        "id": "ilH4I0ECBi3x",
        "outputId": "4cb6b04a-9543-492b-ae4d-7bcc91c34de3"
      },
      "outputs": [
        {
          "output_type": "stream",
          "name": "stdout",
          "text": [
            "+--------------------------------------+----------------------------------+\n",
            "|artists                               |name                              |\n",
            "+--------------------------------------+----------------------------------+\n",
            "|['Vittorio De Sica']                  |Parlami D'Amore Mariù             |\n",
            "|['Val Rosing']                        |Try A Little Tenderness           |\n",
            "|['Guy Lombardo & His Royal Canadians']|Moonlight Saving Time             |\n",
            "|['Ernesto Bonino']                    |Macariolita                       |\n",
            "|['Francisco Canaro'; 'Agustín Irusta']|El Jardín del Amor - Remasterizado|\n",
            "+--------------------------------------+----------------------------------+\n",
            "only showing top 5 rows\n",
            "\n"
          ]
        }
      ],
      "source": [
        "df_2n = df_2.filter(df_2.labels==int(predictions1.collect()[0][13]))\n",
        "df_2n = df_2n.sort(df_2n.popularity.desc())\n",
        "df_2n = df_2n.filter(df_2n.year==int(User_sample_set_n.collect()[0][2]))\n",
        "df_2n.select(\"artists\", \"name\").show(5, truncate=False)"
      ]
    },
    {
      "cell_type": "markdown",
      "source": [
        "Above are the songs recommended for the most recent song in the User Sample playlist"
      ],
      "metadata": {
        "id": "BR9uFUMNjxXf"
      }
    },
    {
      "cell_type": "code",
      "execution_count": null,
      "metadata": {
        "id": "hM19Nz8YBi3x"
      },
      "outputs": [],
      "source": [
        "sc.stop()"
      ]
    }
  ],
  "metadata": {
    "colab": {
      "collapsed_sections": [],
      "name": "Final_project_CS777.ipynb",
      "provenance": []
    },
    "interpreter": {
      "hash": "ace8f37b8e60c3663f1441b604a73b794899611cfcff97f1e1a3223ce205d416"
    },
    "kernelspec": {
      "display_name": "Python 3 (ipykernel)",
      "language": "python",
      "name": "python3"
    },
    "language_info": {
      "codemirror_mode": {
        "name": "ipython",
        "version": 3
      },
      "file_extension": ".py",
      "mimetype": "text/x-python",
      "name": "python",
      "nbconvert_exporter": "python",
      "pygments_lexer": "ipython3",
      "version": "3.9.10"
    }
  },
  "nbformat": 4,
  "nbformat_minor": 0
}